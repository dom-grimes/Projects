{
 "cells": [
  {
   "cell_type": "markdown",
   "id": "eaaa4902",
   "metadata": {},
   "source": [
    "Author: Dominique Grimes\n",
    "\n",
    "Date: 4/16/23"
   ]
  },
  {
   "cell_type": "code",
   "execution_count": 1,
   "id": "6993cc83",
   "metadata": {},
   "outputs": [],
   "source": [
    "# Load libraries\n",
    "import pandas as pd\n",
    "from textblob import TextBlob\n",
    "import re\n",
    "import string\n",
    "from nltk.corpus import stopwords\n",
    "import nltk\n",
    "from nltk.stem.porter import PorterStemmer\n",
    "import numpy as np\n",
    "from sklearn.metrics import accuracy_score, confusion_matrix, classification_report\n",
    "from sklearn.feature_extraction import DictVectorizer\n",
    "from sklearn.feature_extraction.text import CountVectorizer\n",
    "from sklearn.feature_extraction.text import TfidfVectorizer\n",
    "import seaborn as sns\n",
    "import matplotlib.pyplot as plt\n",
    "import math\n",
    "from sklearn import preprocessing,svm\n",
    "from sklearn.preprocessing import PolynomialFeatures, StandardScaler\n",
    "from sklearn.linear_model import LogisticRegression\n",
    "from sklearn.model_selection import train_test_split\n",
    "from sklearn.metrics import roc_auc_score\n",
    "from sklearn.metrics import roc_curve\n",
    "from sklearn.naive_bayes import MultinomialNB"
   ]
  },
  {
   "cell_type": "markdown",
   "id": "a0cc1b75",
   "metadata": {},
   "source": [
    "# Get the stemmed data."
   ]
  },
  {
   "cell_type": "code",
   "execution_count": 2,
   "id": "0269beaf",
   "metadata": {},
   "outputs": [
    {
     "data": {
      "text/html": [
       "<div>\n",
       "<style scoped>\n",
       "    .dataframe tbody tr th:only-of-type {\n",
       "        vertical-align: middle;\n",
       "    }\n",
       "\n",
       "    .dataframe tbody tr th {\n",
       "        vertical-align: top;\n",
       "    }\n",
       "\n",
       "    .dataframe thead th {\n",
       "        text-align: right;\n",
       "    }\n",
       "</style>\n",
       "<table border=\"1\" class=\"dataframe\">\n",
       "  <thead>\n",
       "    <tr style=\"text-align: right;\">\n",
       "      <th></th>\n",
       "      <th>id</th>\n",
       "      <th>sentiment</th>\n",
       "      <th>review</th>\n",
       "    </tr>\n",
       "  </thead>\n",
       "  <tbody>\n",
       "    <tr>\n",
       "      <th>0</th>\n",
       "      <td>5814_8</td>\n",
       "      <td>1</td>\n",
       "      <td>With all this stuff going down at the moment w...</td>\n",
       "    </tr>\n",
       "    <tr>\n",
       "      <th>1</th>\n",
       "      <td>2381_9</td>\n",
       "      <td>1</td>\n",
       "      <td>\\The Classic War of the Worlds\\\" by Timothy Hi...</td>\n",
       "    </tr>\n",
       "    <tr>\n",
       "      <th>2</th>\n",
       "      <td>7759_3</td>\n",
       "      <td>0</td>\n",
       "      <td>The film starts with a manager (Nicholas Bell)...</td>\n",
       "    </tr>\n",
       "    <tr>\n",
       "      <th>3</th>\n",
       "      <td>3630_4</td>\n",
       "      <td>0</td>\n",
       "      <td>It must be assumed that those who praised this...</td>\n",
       "    </tr>\n",
       "    <tr>\n",
       "      <th>4</th>\n",
       "      <td>9495_8</td>\n",
       "      <td>1</td>\n",
       "      <td>Superbly trashy and wondrously unpretentious 8...</td>\n",
       "    </tr>\n",
       "  </tbody>\n",
       "</table>\n",
       "</div>"
      ],
      "text/plain": [
       "       id  sentiment                                             review\n",
       "0  5814_8          1  With all this stuff going down at the moment w...\n",
       "1  2381_9          1  \\The Classic War of the Worlds\\\" by Timothy Hi...\n",
       "2  7759_3          0  The film starts with a manager (Nicholas Bell)...\n",
       "3  3630_4          0  It must be assumed that those who praised this...\n",
       "4  9495_8          1  Superbly trashy and wondrously unpretentious 8..."
      ]
     },
     "execution_count": 2,
     "metadata": {},
     "output_type": "execute_result"
    }
   ],
   "source": [
    "# Load the data into a dataframe. View the data to verify it loaded properly.\n",
    "df = pd.read_csv('labeledTrainData.tsv',sep=\"\\t\")\n",
    "df.head()"
   ]
  },
  {
   "cell_type": "code",
   "execution_count": 3,
   "id": "4f3a7588",
   "metadata": {},
   "outputs": [],
   "source": [
    "# Use translate to remove punctuation and special characters.\n",
    "df['review'] = df['review'].str.translate(str.maketrans('','', string.punctuation))\n",
    "\n",
    "# Removing stop words with nltk and making lowercase.\n",
    "stop = stopwords.words('english')\n",
    "df['review'] = df['review'].apply(lambda words: ' '.join(word.lower() for word in words.split() if word not in stop))\n",
    "\n",
    "# Stem words in review column using NLTK's PorterStemmer\n",
    "porter=PorterStemmer()\n",
    "\n",
    "def stem_sentences(sentence):\n",
    "    tokens = sentence.split()\n",
    "    stemmed_tokens = [porter.stem(token) for token in tokens]\n",
    "    return ' '.join(stemmed_tokens)\n",
    "\n",
    "df['review'] = df['review'].apply(stem_sentences)"
   ]
  },
  {
   "cell_type": "markdown",
   "id": "0e7a677f",
   "metadata": {},
   "source": [
    "# Split this into a training and test set."
   ]
  },
  {
   "cell_type": "code",
   "execution_count": 4,
   "id": "f2ec8649",
   "metadata": {},
   "outputs": [],
   "source": [
    "# Assign feature and target\n",
    "feature = df['review']\n",
    "target = df['sentiment']\n",
    "\n",
    "# Split the data 80/20 using sklearn train_test_split\n",
    "feature_train, feature_test, target_train, target_test = train_test_split(feature, target, test_size=0.2)"
   ]
  },
  {
   "cell_type": "markdown",
   "id": "cb55c41d",
   "metadata": {},
   "source": [
    "# Fit and apply the tf-idf vectorization to the training set. Apply but DO NOT FIT the tf-idf vectorization to the test set (Why?).\n",
    "\n",
    "When fitting the training set the mean is calculated to fill in the blank values. When using the test set, we want to use the mean calculated from the training set to fill in the blank values. If we fit the test set, we will be using the mean from the test set. That would be considered data leakage. "
   ]
  },
  {
   "cell_type": "code",
   "execution_count": 5,
   "id": "662a746f",
   "metadata": {},
   "outputs": [],
   "source": [
    "# Create Numpy arrays from the stemmed review column \n",
    "# to create text varibles for tf-idf matrices on training & test sets\n",
    "\n",
    "# Creat the tf-idf matrices\n",
    "vectorizer=TfidfVectorizer()\n",
    "trainfeature_matrix=vectorizer.fit_transform(feature_train)\n",
    "testfeature_matrix=vectorizer.transform(feature_test)"
   ]
  },
  {
   "cell_type": "markdown",
   "id": "4342054f",
   "metadata": {},
   "source": [
    "# Train a logistic regression using the training data."
   ]
  },
  {
   "cell_type": "code",
   "execution_count": 6,
   "id": "1db7db6a",
   "metadata": {},
   "outputs": [],
   "source": [
    "# Create logistic regression object\n",
    "log_reg = LogisticRegression(random_state=1)\n",
    "\n",
    "# Train model\n",
    "model = log_reg.fit(trainfeature_matrix, target_train) "
   ]
  },
  {
   "cell_type": "markdown",
   "id": "a01cf6cf",
   "metadata": {},
   "source": [
    "# Find the model accuracy on test set."
   ]
  },
  {
   "cell_type": "code",
   "execution_count": 7,
   "id": "237d1035",
   "metadata": {},
   "outputs": [
    {
     "data": {
      "text/plain": [
       "0.8804"
      ]
     },
     "execution_count": 7,
     "metadata": {},
     "output_type": "execute_result"
    }
   ],
   "source": [
    "# Use accuracy score from sklearn to calculate accuracy of logistic regression model against given sentiment.\n",
    "test_predict=log_reg.predict(testfeature_matrix)\n",
    "accuracy_score(target_test, test_predict)"
   ]
  },
  {
   "cell_type": "markdown",
   "id": "e1209a6c",
   "metadata": {},
   "source": [
    "# Create a confusion matrix for the test set predictions."
   ]
  },
  {
   "cell_type": "code",
   "execution_count": 8,
   "id": "ee072795",
   "metadata": {},
   "outputs": [
    {
     "data": {
      "image/png": "[encoded data removed]",
      "text/plain": [
       "<Figure size 432x288 with 1 Axes>"
      ]
     },
     "metadata": {
      "needs_background": "light"
     },
     "output_type": "display_data"
    }
   ],
   "source": [
    "\n",
    "# Create confusion matrix\n",
    "conf_matrix = confusion_matrix(target_test, test_predict)\n",
    "\n",
    "# Create pandas dataframe\n",
    "dataframe = pd.DataFrame(conf_matrix)\n",
    "\n",
    "# Create heatmap\n",
    "sns.heatmap(dataframe, annot=True, cbar=None, cmap=\"Blues\")\n",
    "plt.title(\"Confusion Matrix\")\n",
    "plt.ylabel(\"True Class\"), plt.xlabel(\"Predicted Class\")\n",
    "plt.show()"
   ]
  },
  {
   "cell_type": "code",
   "execution_count": 9,
   "id": "d7bd4152",
   "metadata": {},
   "outputs": [
    {
     "data": {
      "text/plain": [
       "array([[2121,  318],\n",
       "       [ 280, 2281]])"
      ]
     },
     "execution_count": 9,
     "metadata": {},
     "output_type": "execute_result"
    }
   ],
   "source": [
    "# View confusion matrix as an array\n",
    "conf_matrix"
   ]
  },
  {
   "cell_type": "markdown",
   "id": "57dfccc3",
   "metadata": {},
   "source": [
    "# Get the precision, recall, and F1-score for the test set predictions."
   ]
  },
  {
   "cell_type": "code",
   "execution_count": 10,
   "id": "a34de8d1",
   "metadata": {},
   "outputs": [
    {
     "name": "stdout",
     "output_type": "stream",
     "text": [
      "              precision    recall  f1-score   support\n",
      "\n",
      "           0       0.88      0.87      0.88      2439\n",
      "           1       0.88      0.89      0.88      2561\n",
      "\n",
      "    accuracy                           0.88      5000\n",
      "   macro avg       0.88      0.88      0.88      5000\n",
      "weighted avg       0.88      0.88      0.88      5000\n",
      "\n"
     ]
    }
   ],
   "source": [
    "print(classification_report(target_test, test_predict))"
   ]
  },
  {
   "cell_type": "markdown",
   "id": "3d328973",
   "metadata": {},
   "source": [
    "# Create a ROC curve for the test set."
   ]
  },
  {
   "cell_type": "code",
   "execution_count": 11,
   "id": "e22309f5",
   "metadata": {},
   "outputs": [],
   "source": [
    "# Use roc_curve() to get the threshold, TPR, and FPR\n",
    "fpr, tpr, thresholds = roc_curve(target_test, test_predict)"
   ]
  },
  {
   "cell_type": "code",
   "execution_count": 12,
   "id": "33c8cafe",
   "metadata": {},
   "outputs": [
    {
     "name": "stdout",
     "output_type": "stream",
     "text": [
      "FPR: [0.        0.1303813 1.       ]\n",
      "TPR: [0.         0.89066771 1.        ]\n",
      "thresholds: [2 1 0]\n"
     ]
    }
   ],
   "source": [
    "# View the FPR, TPR, and threshold array\n",
    "print(\"FPR:\", fpr)\n",
    "print(\"TPR:\", tpr)\n",
    "print(\"thresholds:\", thresholds)"
   ]
  },
  {
   "cell_type": "code",
   "execution_count": 13,
   "id": "4e00067e",
   "metadata": {},
   "outputs": [],
   "source": [
    "# for AUC use roc_auc_score() for ROC\n",
    "logit_roc_auc1=roc_auc_score(target_test, test_predict)"
   ]
  },
  {
   "cell_type": "code",
   "execution_count": 14,
   "id": "4dc3a14a",
   "metadata": {},
   "outputs": [
    {
     "data": {
      "image/png": "[encoded data removed]",
      "text/plain": [
       "<Figure size 432x288 with 1 Axes>"
      ]
     },
     "metadata": {
      "needs_background": "light"
     },
     "output_type": "display_data"
    }
   ],
   "source": [
    "# Plot the ROC curve\n",
    "\n",
    "plt.figure()\n",
    "plt.plot(fpr, tpr, label='Logistic Regression' % logit_roc_auc1)\n",
    "plt.plot([0,1],[0,1],'r--')\n",
    "plt.xlim([0.0,1.0])\n",
    "plt.ylim([0.0,1.05])\n",
    "plt.xlabel('False Positive Rate')\n",
    "plt.ylabel('True Positive Rate')\n",
    "plt.title('Receiver Operating Characteristic')\n",
    "plt.legend(loc='lower right')\n",
    "plt.show()"
   ]
  },
  {
   "cell_type": "markdown",
   "id": "79bf01f5",
   "metadata": {},
   "source": [
    "# Pick another classification model and repeat steps."
   ]
  },
  {
   "cell_type": "markdown",
   "id": "b2fc0f3b",
   "metadata": {},
   "source": [
    "Train a Naive Bayes model using the training data."
   ]
  },
  {
   "cell_type": "code",
   "execution_count": 15,
   "id": "032027a9",
   "metadata": {},
   "outputs": [],
   "source": [
    "# Create a multinomial naive Bayes object with prior probabilities of each class\n",
    "classifier = MultinomialNB(class_prior=[0.25, 0.5])\n",
    "\n",
    "# Train model\n",
    "modelNB = classifier.fit(trainfeature_matrix, target_train) "
   ]
  },
  {
   "cell_type": "markdown",
   "id": "5ba0b758",
   "metadata": {},
   "source": [
    "Find the Naive Bayes model accuracy on the test set."
   ]
  },
  {
   "cell_type": "code",
   "execution_count": 16,
   "id": "273c2254",
   "metadata": {},
   "outputs": [
    {
     "data": {
      "text/plain": [
       "0.8264"
      ]
     },
     "execution_count": 16,
     "metadata": {},
     "output_type": "execute_result"
    }
   ],
   "source": [
    "# Use accuracy score from sklearn to calculate accuracy of Naive Bayes model against given sentiment.\n",
    "NBtest_predict=classifier.predict(testfeature_matrix)\n",
    "accuracy_score(target_test, NBtest_predict)"
   ]
  },
  {
   "cell_type": "markdown",
   "id": "c788fd63",
   "metadata": {},
   "source": [
    "Create a confusion matrix for the test set predictions for Naive Bayes."
   ]
  },
  {
   "cell_type": "code",
   "execution_count": 17,
   "id": "42a0f59f",
   "metadata": {},
   "outputs": [
    {
     "data": {
      "image/png": "[encoded data removed]",
      "text/plain": [
       "<Figure size 432x288 with 1 Axes>"
      ]
     },
     "metadata": {
      "needs_background": "light"
     },
     "output_type": "display_data"
    }
   ],
   "source": [
    "# Create confusion matrix\n",
    "NBconf_matrix = confusion_matrix(target_test, NBtest_predict)\n",
    "\n",
    "# Create pandas dataframe\n",
    "NBdataframe = pd.DataFrame(NBconf_matrix)\n",
    "\n",
    "# Create heatmap\n",
    "sns.heatmap(NBdataframe, annot=True, cbar=None, cmap=\"Blues\")\n",
    "plt.title(\"Naive Bayes Confusion Matrix\")\n",
    "plt.ylabel(\"True Class\"), plt.xlabel(\"Predicted Class\")\n",
    "plt.show()"
   ]
  },
  {
   "cell_type": "code",
   "execution_count": 18,
   "id": "2ca9648c",
   "metadata": {},
   "outputs": [
    {
     "data": {
      "text/plain": [
       "array([[1676,  763],\n",
       "       [ 105, 2456]])"
      ]
     },
     "execution_count": 18,
     "metadata": {},
     "output_type": "execute_result"
    }
   ],
   "source": [
    "# View confusion matrix array\n",
    "NBconf_matrix"
   ]
  },
  {
   "cell_type": "markdown",
   "id": "6ddbefeb",
   "metadata": {},
   "source": [
    "Get the precision, recall, and F1-score for the test set predictions for Naive Bayes."
   ]
  },
  {
   "cell_type": "code",
   "execution_count": 19,
   "id": "4a20b5ea",
   "metadata": {},
   "outputs": [
    {
     "name": "stdout",
     "output_type": "stream",
     "text": [
      "              precision    recall  f1-score   support\n",
      "\n",
      "           0       0.94      0.69      0.79      2439\n",
      "           1       0.76      0.96      0.85      2561\n",
      "\n",
      "    accuracy                           0.83      5000\n",
      "   macro avg       0.85      0.82      0.82      5000\n",
      "weighted avg       0.85      0.83      0.82      5000\n",
      "\n"
     ]
    }
   ],
   "source": [
    "print(classification_report(target_test, NBtest_predict))"
   ]
  },
  {
   "cell_type": "markdown",
   "id": "22030670",
   "metadata": {},
   "source": [
    "Create a ROC curve for the test set."
   ]
  },
  {
   "cell_type": "code",
   "execution_count": 20,
   "id": "3a843c12",
   "metadata": {},
   "outputs": [],
   "source": [
    "# Use roc_curve() to get the threshold, TPR, and FPR for Naive Bayes\n",
    "NBfpr, NBtpr, NBthresholds = roc_curve(target_test, NBtest_predict)"
   ]
  },
  {
   "cell_type": "code",
   "execution_count": 24,
   "id": "a64fac8b",
   "metadata": {},
   "outputs": [
    {
     "name": "stdout",
     "output_type": "stream",
     "text": [
      "FPR: [0.         0.31283313 1.        ]\n",
      "TPR: [0.         0.95900039 1.        ]\n",
      "thresholds: [2 1 0]\n"
     ]
    }
   ],
   "source": [
    "# View the FPR, TPR, and threshold array for Naive Bayes\n",
    "print(\"FPR:\", NBfpr)\n",
    "print(\"TPR:\", NBtpr)\n",
    "print(\"thresholds:\", NBthresholds)"
   ]
  },
  {
   "cell_type": "code",
   "execution_count": 22,
   "id": "b1de0aa1",
   "metadata": {},
   "outputs": [],
   "source": [
    "# for AUC use roc_auc_score() for ROC\n",
    "NB_roc_auc1=roc_auc_score(target_test, NBtest_predict)"
   ]
  },
  {
   "cell_type": "code",
   "execution_count": 23,
   "id": "da7fc6d5",
   "metadata": {},
   "outputs": [
    {
     "data": {
      "image/png": "[encoded data removed]",
      "text/plain": [
       "<Figure size 432x288 with 1 Axes>"
      ]
     },
     "metadata": {
      "needs_background": "light"
     },
     "output_type": "display_data"
    }
   ],
   "source": [
    "# Plot the ROC curve Naive Bayes\n",
    "plt.figure()\n",
    "plt.plot(NBfpr, NBtpr, label='Naive Bayes' % NB_roc_auc1)\n",
    "plt.plot([0,1],[0,1],'r--')\n",
    "plt.xlim([0.0,1.0])\n",
    "plt.ylim([0.0,1.05])\n",
    "plt.xlabel('False Positive Rate')\n",
    "plt.ylabel('True Positive Rate')\n",
    "plt.title('Naive Bayes Receiver Operating Characteristic')\n",
    "plt.legend(loc='lower right')\n",
    "plt.show()"
   ]
  }
 ],
 "metadata": {
  "kernelspec": {
   "display_name": "Python 3 (ipykernel)",
   "language": "python",
   "name": "python3"
  },
  "language_info": {
   "codemirror_mode": {
    "name": "ipython",
    "version": 3
   },
   "file_extension": ".py",
   "mimetype": "text/x-python",
   "name": "python",
   "nbconvert_exporter": "python",
   "pygments_lexer": "ipython3",
   "version": "3.10.9"
  }
 },
 "nbformat": 4,
 "nbformat_minor": 5
}
