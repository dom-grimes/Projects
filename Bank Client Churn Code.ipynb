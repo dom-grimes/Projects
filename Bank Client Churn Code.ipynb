{
 "cells": [
  {
   "cell_type": "markdown",
   "id": "f565bf0f",
   "metadata": {},
   "source": [
    "Author: Dominique Grimes\n",
    "\n",
    "Assignment: Final - Milestone 5\n",
    "\n",
    "Date: November 18, 2023"
   ]
  },
  {
   "cell_type": "markdown",
   "id": "31158853",
   "metadata": {},
   "source": [
    "# Inital Setup"
   ]
  },
  {
   "cell_type": "code",
   "execution_count": 1,
   "id": "e2f46f41",
   "metadata": {},
   "outputs": [],
   "source": [
    "# Load libraries\n",
    "import pandas as pd\n",
    "import matplotlib.pyplot as plt\n",
    "from scipy import stats\n",
    "import numpy as np\n",
    "from sklearn import utils\n",
    "from sklearn.preprocessing import StandardScaler, MinMaxScaler, Normalizer\n",
    "from sklearn.model_selection import train_test_split, cross_val_score, cross_val_predict\n",
    "from sklearn.linear_model import LinearRegression, LogisticRegressionCV\n",
    "from sklearn.ensemble import RandomForestClassifier, AdaBoostClassifier\n",
    "from sklearn.tree import DecisionTreeClassifier\n",
    "from sklearn.metrics import mean_squared_error, r2_score, classification_report, confusion_matrix, accuracy_score, roc_auc_score, roc_curve\n",
    "from sklearn.svm import SVC\n",
    "from sklearn.naive_bayes import GaussianNB, CategoricalNB\n",
    "from fast_ml.model_development import train_valid_test_split\n",
    "from sklearn.neural_network import MLPClassifier"
   ]
  },
  {
   "cell_type": "code",
   "execution_count": 2,
   "id": "1d260c87",
   "metadata": {},
   "outputs": [],
   "source": [
    "# Read file into dataframe\n",
    "df = pd.read_csv('Churn_Modelling_2.csv')"
   ]
  },
  {
   "cell_type": "code",
   "execution_count": 3,
   "id": "7efcbe77",
   "metadata": {},
   "outputs": [
    {
     "data": {
      "text/html": [
       "<div>\n",
       "<style scoped>\n",
       "    .dataframe tbody tr th:only-of-type {\n",
       "        vertical-align: middle;\n",
       "    }\n",
       "\n",
       "    .dataframe tbody tr th {\n",
       "        vertical-align: top;\n",
       "    }\n",
       "\n",
       "    .dataframe thead th {\n",
       "        text-align: right;\n",
       "    }\n",
       "</style>\n",
       "<table border=\"1\" class=\"dataframe\">\n",
       "  <thead>\n",
       "    <tr style=\"text-align: right;\">\n",
       "      <th></th>\n",
       "      <th>RowNumber</th>\n",
       "      <th>CustomerId</th>\n",
       "      <th>Surname</th>\n",
       "      <th>CreditScore</th>\n",
       "      <th>Geography</th>\n",
       "      <th>Gender</th>\n",
       "      <th>Age</th>\n",
       "      <th>Tenure</th>\n",
       "      <th>Balance</th>\n",
       "      <th>NumOfProducts</th>\n",
       "      <th>HasCrCard</th>\n",
       "      <th>IsActiveMember</th>\n",
       "      <th>EstimatedSalary</th>\n",
       "      <th>Exited</th>\n",
       "    </tr>\n",
       "  </thead>\n",
       "  <tbody>\n",
       "    <tr>\n",
       "      <th>0</th>\n",
       "      <td>1</td>\n",
       "      <td>15634602</td>\n",
       "      <td>Hargrave</td>\n",
       "      <td>619</td>\n",
       "      <td>France</td>\n",
       "      <td>Female</td>\n",
       "      <td>42</td>\n",
       "      <td>2</td>\n",
       "      <td>0.00</td>\n",
       "      <td>1</td>\n",
       "      <td>1</td>\n",
       "      <td>1</td>\n",
       "      <td>101348.88</td>\n",
       "      <td>1</td>\n",
       "    </tr>\n",
       "    <tr>\n",
       "      <th>1</th>\n",
       "      <td>2</td>\n",
       "      <td>15647311</td>\n",
       "      <td>Hill</td>\n",
       "      <td>608</td>\n",
       "      <td>Spain</td>\n",
       "      <td>Female</td>\n",
       "      <td>41</td>\n",
       "      <td>1</td>\n",
       "      <td>83807.86</td>\n",
       "      <td>1</td>\n",
       "      <td>0</td>\n",
       "      <td>1</td>\n",
       "      <td>112542.58</td>\n",
       "      <td>0</td>\n",
       "    </tr>\n",
       "    <tr>\n",
       "      <th>2</th>\n",
       "      <td>3</td>\n",
       "      <td>15619304</td>\n",
       "      <td>Onio</td>\n",
       "      <td>502</td>\n",
       "      <td>France</td>\n",
       "      <td>Female</td>\n",
       "      <td>42</td>\n",
       "      <td>8</td>\n",
       "      <td>159660.80</td>\n",
       "      <td>3</td>\n",
       "      <td>1</td>\n",
       "      <td>0</td>\n",
       "      <td>113931.57</td>\n",
       "      <td>1</td>\n",
       "    </tr>\n",
       "    <tr>\n",
       "      <th>3</th>\n",
       "      <td>4</td>\n",
       "      <td>15701354</td>\n",
       "      <td>Boni</td>\n",
       "      <td>699</td>\n",
       "      <td>France</td>\n",
       "      <td>Female</td>\n",
       "      <td>39</td>\n",
       "      <td>1</td>\n",
       "      <td>0.00</td>\n",
       "      <td>2</td>\n",
       "      <td>0</td>\n",
       "      <td>0</td>\n",
       "      <td>93826.63</td>\n",
       "      <td>0</td>\n",
       "    </tr>\n",
       "    <tr>\n",
       "      <th>4</th>\n",
       "      <td>5</td>\n",
       "      <td>15737888</td>\n",
       "      <td>Mitchell</td>\n",
       "      <td>850</td>\n",
       "      <td>Spain</td>\n",
       "      <td>Female</td>\n",
       "      <td>43</td>\n",
       "      <td>2</td>\n",
       "      <td>125510.82</td>\n",
       "      <td>1</td>\n",
       "      <td>1</td>\n",
       "      <td>1</td>\n",
       "      <td>79084.10</td>\n",
       "      <td>0</td>\n",
       "    </tr>\n",
       "  </tbody>\n",
       "</table>\n",
       "</div>"
      ],
      "text/plain": [
       "   RowNumber  CustomerId   Surname  CreditScore Geography  Gender  Age  \\\n",
       "0          1    15634602  Hargrave          619    France  Female   42   \n",
       "1          2    15647311      Hill          608     Spain  Female   41   \n",
       "2          3    15619304      Onio          502    France  Female   42   \n",
       "3          4    15701354      Boni          699    France  Female   39   \n",
       "4          5    15737888  Mitchell          850     Spain  Female   43   \n",
       "\n",
       "   Tenure    Balance  NumOfProducts  HasCrCard  IsActiveMember  \\\n",
       "0       2       0.00              1          1               1   \n",
       "1       1   83807.86              1          0               1   \n",
       "2       8  159660.80              3          1               0   \n",
       "3       1       0.00              2          0               0   \n",
       "4       2  125510.82              1          1               1   \n",
       "\n",
       "   EstimatedSalary  Exited  \n",
       "0        101348.88       1  \n",
       "1        112542.58       0  \n",
       "2        113931.57       1  \n",
       "3         93826.63       0  \n",
       "4         79084.10       0  "
      ]
     },
     "execution_count": 3,
     "metadata": {},
     "output_type": "execute_result"
    }
   ],
   "source": [
    "# View dataframe\n",
    "df.head()"
   ]
  },
  {
   "cell_type": "code",
   "execution_count": 4,
   "id": "681a5243",
   "metadata": {},
   "outputs": [
    {
     "data": {
      "text/plain": [
       "(10000, 14)"
      ]
     },
     "execution_count": 4,
     "metadata": {},
     "output_type": "execute_result"
    }
   ],
   "source": [
    "# View the shape of the dataframe\n",
    "df.shape"
   ]
  },
  {
   "cell_type": "markdown",
   "id": "ccbc3705",
   "metadata": {},
   "source": [
    "# Data Preparation"
   ]
  },
  {
   "cell_type": "markdown",
   "id": "03f34b8d",
   "metadata": {},
   "source": [
    "## Drop columns"
   ]
  },
  {
   "cell_type": "code",
   "execution_count": 5,
   "id": "bada6ef2",
   "metadata": {},
   "outputs": [],
   "source": [
    "# Drop unnecessary columns\n",
    "df=df.drop(['RowNumber','CustomerId','Surname'],axis=1)"
   ]
  },
  {
   "cell_type": "markdown",
   "id": "c837f343",
   "metadata": {},
   "source": [
    "## Identify Null Values"
   ]
  },
  {
   "cell_type": "code",
   "execution_count": 6,
   "id": "a4f51ec0",
   "metadata": {},
   "outputs": [
    {
     "data": {
      "text/plain": [
       "CreditScore  Geography  Gender  Age    Tenure  Balance  NumOfProducts  HasCrCard  IsActiveMember  EstimatedSalary  Exited\n",
       "False        False      False   False  False   False    False          False      False           False            False     10000\n",
       "dtype: int64"
      ]
     },
     "execution_count": 6,
     "metadata": {},
     "output_type": "execute_result"
    }
   ],
   "source": [
    "df.isnull().value_counts()"
   ]
  },
  {
   "cell_type": "markdown",
   "id": "246242f4",
   "metadata": {},
   "source": [
    "No null values."
   ]
  },
  {
   "cell_type": "markdown",
   "id": "a333ae83",
   "metadata": {},
   "source": [
    "## Convert Gender to Binomial Values"
   ]
  },
  {
   "cell_type": "code",
   "execution_count": 7,
   "id": "6cebeaa8",
   "metadata": {},
   "outputs": [],
   "source": [
    "# Convert Male to 1 and Female to 0 using map function\n",
    "df['Gender'] = df['Gender'].map({'Male': 1, 'Female': 0})"
   ]
  },
  {
   "cell_type": "code",
   "execution_count": 8,
   "id": "0f9660fb",
   "metadata": {},
   "outputs": [
    {
     "data": {
      "text/plain": [
       "1    5457\n",
       "0    4543\n",
       "Name: Gender, dtype: int64"
      ]
     },
     "execution_count": 8,
     "metadata": {},
     "output_type": "execute_result"
    }
   ],
   "source": [
    "# Verify mapping\n",
    "df['Gender'].value_counts()"
   ]
  },
  {
   "cell_type": "markdown",
   "id": "ce4958e3",
   "metadata": {},
   "source": [
    "## View and manage data types"
   ]
  },
  {
   "cell_type": "code",
   "execution_count": 9,
   "id": "ed9c4f86",
   "metadata": {},
   "outputs": [
    {
     "data": {
      "text/plain": [
       "CreditScore          int64\n",
       "Geography           object\n",
       "Gender               int64\n",
       "Age                  int64\n",
       "Tenure               int64\n",
       "Balance            float64\n",
       "NumOfProducts        int64\n",
       "HasCrCard            int64\n",
       "IsActiveMember       int64\n",
       "EstimatedSalary    float64\n",
       "Exited               int64\n",
       "dtype: object"
      ]
     },
     "execution_count": 9,
     "metadata": {},
     "output_type": "execute_result"
    }
   ],
   "source": [
    "df.dtypes"
   ]
  },
  {
   "cell_type": "code",
   "execution_count": 10,
   "id": "128c5431",
   "metadata": {},
   "outputs": [
    {
     "data": {
      "text/plain": [
       "CreditScore           int64\n",
       "Geography            object\n",
       "Gender                int64\n",
       "Age                   int64\n",
       "Tenure             category\n",
       "Balance             float64\n",
       "NumOfProducts      category\n",
       "HasCrCard             int64\n",
       "IsActiveMember        int64\n",
       "EstimatedSalary     float64\n",
       "Exited                int64\n",
       "dtype: object"
      ]
     },
     "execution_count": 10,
     "metadata": {},
     "output_type": "execute_result"
    }
   ],
   "source": [
    "# Typecast to Categorical column in pandas\n",
    "df[['Tenure','NumOfProducts']] = df[['Tenure','NumOfProducts']].astype('category')\n",
    "df.dtypes"
   ]
  },
  {
   "cell_type": "markdown",
   "id": "04cc5ee0",
   "metadata": {},
   "source": [
    "# Exploratory Data Analysis"
   ]
  },
  {
   "cell_type": "markdown",
   "id": "f862afb9",
   "metadata": {},
   "source": [
    "## View value counts of categorical data."
   ]
  },
  {
   "cell_type": "code",
   "execution_count": 11,
   "id": "f438ae73",
   "metadata": {},
   "outputs": [
    {
     "data": {
      "text/plain": [
       "France     5014\n",
       "Germany    2509\n",
       "Spain      2477\n",
       "Name: Geography, dtype: int64"
      ]
     },
     "execution_count": 11,
     "metadata": {},
     "output_type": "execute_result"
    }
   ],
   "source": [
    "df['Geography'].value_counts()"
   ]
  },
  {
   "cell_type": "code",
   "execution_count": 12,
   "id": "29021f34",
   "metadata": {},
   "outputs": [
    {
     "data": {
      "text/plain": [
       "2     1048\n",
       "1     1035\n",
       "7     1028\n",
       "8     1025\n",
       "5     1012\n",
       "3     1009\n",
       "4      989\n",
       "9      984\n",
       "6      967\n",
       "10     490\n",
       "0      413\n",
       "Name: Tenure, dtype: int64"
      ]
     },
     "execution_count": 12,
     "metadata": {},
     "output_type": "execute_result"
    }
   ],
   "source": [
    "df['Tenure'].value_counts()"
   ]
  },
  {
   "cell_type": "code",
   "execution_count": 13,
   "id": "f13c30b5",
   "metadata": {},
   "outputs": [
    {
     "data": {
      "text/plain": [
       "1    5084\n",
       "2    4590\n",
       "3     266\n",
       "4      60\n",
       "Name: NumOfProducts, dtype: int64"
      ]
     },
     "execution_count": 13,
     "metadata": {},
     "output_type": "execute_result"
    }
   ],
   "source": [
    "df['NumOfProducts'].value_counts()"
   ]
  },
  {
   "cell_type": "code",
   "execution_count": 14,
   "id": "0c8be248",
   "metadata": {},
   "outputs": [
    {
     "data": {
      "text/plain": [
       "1    5457\n",
       "0    4543\n",
       "Name: Gender, dtype: int64"
      ]
     },
     "execution_count": 14,
     "metadata": {},
     "output_type": "execute_result"
    }
   ],
   "source": [
    "df['Gender'].value_counts()"
   ]
  },
  {
   "cell_type": "markdown",
   "id": "ba67f6b9",
   "metadata": {},
   "source": [
    "## Convert categorical to dummy variables"
   ]
  },
  {
   "cell_type": "code",
   "execution_count": 15,
   "id": "2dea04c1",
   "metadata": {},
   "outputs": [
    {
     "data": {
      "text/html": [
       "<div>\n",
       "<style scoped>\n",
       "    .dataframe tbody tr th:only-of-type {\n",
       "        vertical-align: middle;\n",
       "    }\n",
       "\n",
       "    .dataframe tbody tr th {\n",
       "        vertical-align: top;\n",
       "    }\n",
       "\n",
       "    .dataframe thead th {\n",
       "        text-align: right;\n",
       "    }\n",
       "</style>\n",
       "<table border=\"1\" class=\"dataframe\">\n",
       "  <thead>\n",
       "    <tr style=\"text-align: right;\">\n",
       "      <th></th>\n",
       "      <th>CreditScore</th>\n",
       "      <th>Gender</th>\n",
       "      <th>Age</th>\n",
       "      <th>Balance</th>\n",
       "      <th>HasCrCard</th>\n",
       "      <th>IsActiveMember</th>\n",
       "      <th>EstimatedSalary</th>\n",
       "      <th>Exited</th>\n",
       "      <th>Geography_France</th>\n",
       "      <th>Geography_Germany</th>\n",
       "      <th>Geography_Spain</th>\n",
       "      <th>Tenure_0</th>\n",
       "      <th>Tenure_1</th>\n",
       "      <th>Tenure_2</th>\n",
       "      <th>Tenure_3</th>\n",
       "      <th>Tenure_4</th>\n",
       "      <th>Tenure_5</th>\n",
       "      <th>Tenure_6</th>\n",
       "      <th>Tenure_7</th>\n",
       "      <th>Tenure_8</th>\n",
       "      <th>Tenure_9</th>\n",
       "      <th>Tenure_10</th>\n",
       "      <th>NumOfProducts_1</th>\n",
       "      <th>NumOfProducts_2</th>\n",
       "      <th>NumOfProducts_3</th>\n",
       "      <th>NumOfProducts_4</th>\n",
       "    </tr>\n",
       "  </thead>\n",
       "  <tbody>\n",
       "    <tr>\n",
       "      <th>0</th>\n",
       "      <td>619</td>\n",
       "      <td>0</td>\n",
       "      <td>42</td>\n",
       "      <td>0.00</td>\n",
       "      <td>1</td>\n",
       "      <td>1</td>\n",
       "      <td>101348.88</td>\n",
       "      <td>1</td>\n",
       "      <td>1</td>\n",
       "      <td>0</td>\n",
       "      <td>0</td>\n",
       "      <td>0</td>\n",
       "      <td>0</td>\n",
       "      <td>1</td>\n",
       "      <td>0</td>\n",
       "      <td>0</td>\n",
       "      <td>0</td>\n",
       "      <td>0</td>\n",
       "      <td>0</td>\n",
       "      <td>0</td>\n",
       "      <td>0</td>\n",
       "      <td>0</td>\n",
       "      <td>1</td>\n",
       "      <td>0</td>\n",
       "      <td>0</td>\n",
       "      <td>0</td>\n",
       "    </tr>\n",
       "    <tr>\n",
       "      <th>1</th>\n",
       "      <td>608</td>\n",
       "      <td>0</td>\n",
       "      <td>41</td>\n",
       "      <td>83807.86</td>\n",
       "      <td>0</td>\n",
       "      <td>1</td>\n",
       "      <td>112542.58</td>\n",
       "      <td>0</td>\n",
       "      <td>0</td>\n",
       "      <td>0</td>\n",
       "      <td>1</td>\n",
       "      <td>0</td>\n",
       "      <td>1</td>\n",
       "      <td>0</td>\n",
       "      <td>0</td>\n",
       "      <td>0</td>\n",
       "      <td>0</td>\n",
       "      <td>0</td>\n",
       "      <td>0</td>\n",
       "      <td>0</td>\n",
       "      <td>0</td>\n",
       "      <td>0</td>\n",
       "      <td>1</td>\n",
       "      <td>0</td>\n",
       "      <td>0</td>\n",
       "      <td>0</td>\n",
       "    </tr>\n",
       "    <tr>\n",
       "      <th>2</th>\n",
       "      <td>502</td>\n",
       "      <td>0</td>\n",
       "      <td>42</td>\n",
       "      <td>159660.80</td>\n",
       "      <td>1</td>\n",
       "      <td>0</td>\n",
       "      <td>113931.57</td>\n",
       "      <td>1</td>\n",
       "      <td>1</td>\n",
       "      <td>0</td>\n",
       "      <td>0</td>\n",
       "      <td>0</td>\n",
       "      <td>0</td>\n",
       "      <td>0</td>\n",
       "      <td>0</td>\n",
       "      <td>0</td>\n",
       "      <td>0</td>\n",
       "      <td>0</td>\n",
       "      <td>0</td>\n",
       "      <td>1</td>\n",
       "      <td>0</td>\n",
       "      <td>0</td>\n",
       "      <td>0</td>\n",
       "      <td>0</td>\n",
       "      <td>1</td>\n",
       "      <td>0</td>\n",
       "    </tr>\n",
       "    <tr>\n",
       "      <th>3</th>\n",
       "      <td>699</td>\n",
       "      <td>0</td>\n",
       "      <td>39</td>\n",
       "      <td>0.00</td>\n",
       "      <td>0</td>\n",
       "      <td>0</td>\n",
       "      <td>93826.63</td>\n",
       "      <td>0</td>\n",
       "      <td>1</td>\n",
       "      <td>0</td>\n",
       "      <td>0</td>\n",
       "      <td>0</td>\n",
       "      <td>1</td>\n",
       "      <td>0</td>\n",
       "      <td>0</td>\n",
       "      <td>0</td>\n",
       "      <td>0</td>\n",
       "      <td>0</td>\n",
       "      <td>0</td>\n",
       "      <td>0</td>\n",
       "      <td>0</td>\n",
       "      <td>0</td>\n",
       "      <td>0</td>\n",
       "      <td>1</td>\n",
       "      <td>0</td>\n",
       "      <td>0</td>\n",
       "    </tr>\n",
       "    <tr>\n",
       "      <th>4</th>\n",
       "      <td>850</td>\n",
       "      <td>0</td>\n",
       "      <td>43</td>\n",
       "      <td>125510.82</td>\n",
       "      <td>1</td>\n",
       "      <td>1</td>\n",
       "      <td>79084.10</td>\n",
       "      <td>0</td>\n",
       "      <td>0</td>\n",
       "      <td>0</td>\n",
       "      <td>1</td>\n",
       "      <td>0</td>\n",
       "      <td>0</td>\n",
       "      <td>1</td>\n",
       "      <td>0</td>\n",
       "      <td>0</td>\n",
       "      <td>0</td>\n",
       "      <td>0</td>\n",
       "      <td>0</td>\n",
       "      <td>0</td>\n",
       "      <td>0</td>\n",
       "      <td>0</td>\n",
       "      <td>1</td>\n",
       "      <td>0</td>\n",
       "      <td>0</td>\n",
       "      <td>0</td>\n",
       "    </tr>\n",
       "  </tbody>\n",
       "</table>\n",
       "</div>"
      ],
      "text/plain": [
       "   CreditScore  Gender  Age    Balance  HasCrCard  IsActiveMember  \\\n",
       "0          619       0   42       0.00          1               1   \n",
       "1          608       0   41   83807.86          0               1   \n",
       "2          502       0   42  159660.80          1               0   \n",
       "3          699       0   39       0.00          0               0   \n",
       "4          850       0   43  125510.82          1               1   \n",
       "\n",
       "   EstimatedSalary  Exited  Geography_France  Geography_Germany  \\\n",
       "0        101348.88       1                 1                  0   \n",
       "1        112542.58       0                 0                  0   \n",
       "2        113931.57       1                 1                  0   \n",
       "3         93826.63       0                 1                  0   \n",
       "4         79084.10       0                 0                  0   \n",
       "\n",
       "   Geography_Spain  Tenure_0  Tenure_1  Tenure_2  Tenure_3  Tenure_4  \\\n",
       "0                0         0         0         1         0         0   \n",
       "1                1         0         1         0         0         0   \n",
       "2                0         0         0         0         0         0   \n",
       "3                0         0         1         0         0         0   \n",
       "4                1         0         0         1         0         0   \n",
       "\n",
       "   Tenure_5  Tenure_6  Tenure_7  Tenure_8  Tenure_9  Tenure_10  \\\n",
       "0         0         0         0         0         0          0   \n",
       "1         0         0         0         0         0          0   \n",
       "2         0         0         0         1         0          0   \n",
       "3         0         0         0         0         0          0   \n",
       "4         0         0         0         0         0          0   \n",
       "\n",
       "   NumOfProducts_1  NumOfProducts_2  NumOfProducts_3  NumOfProducts_4  \n",
       "0                1                0                0                0  \n",
       "1                1                0                0                0  \n",
       "2                0                0                1                0  \n",
       "3                0                1                0                0  \n",
       "4                1                0                0                0  "
      ]
     },
     "execution_count": 15,
     "metadata": {},
     "output_type": "execute_result"
    }
   ],
   "source": [
    "df=pd.get_dummies(df)\n",
    "pd.set_option('display.max_columns', None)\n",
    "\n",
    "# View data frame\n",
    "df.head()"
   ]
  },
  {
   "cell_type": "markdown",
   "id": "d589d0ba",
   "metadata": {},
   "source": [
    "## Value counts of binomial variables"
   ]
  },
  {
   "cell_type": "markdown",
   "id": "1e27372e",
   "metadata": {},
   "source": [
    "Verify and understand split of binomial variables."
   ]
  },
  {
   "cell_type": "code",
   "execution_count": 16,
   "id": "0077d045",
   "metadata": {},
   "outputs": [
    {
     "data": {
      "text/plain": [
       "1    7055\n",
       "0    2945\n",
       "Name: HasCrCard, dtype: int64"
      ]
     },
     "execution_count": 16,
     "metadata": {},
     "output_type": "execute_result"
    }
   ],
   "source": [
    "df['HasCrCard'].value_counts()"
   ]
  },
  {
   "cell_type": "code",
   "execution_count": 17,
   "id": "28a440e3",
   "metadata": {},
   "outputs": [
    {
     "data": {
      "text/plain": [
       "1    5151\n",
       "0    4849\n",
       "Name: IsActiveMember, dtype: int64"
      ]
     },
     "execution_count": 17,
     "metadata": {},
     "output_type": "execute_result"
    }
   ],
   "source": [
    "df['IsActiveMember'].value_counts()"
   ]
  },
  {
   "cell_type": "code",
   "execution_count": 18,
   "id": "78afec84",
   "metadata": {
    "scrolled": false
   },
   "outputs": [
    {
     "data": {
      "text/plain": [
       "0    7963\n",
       "1    2037\n",
       "Name: Exited, dtype: int64"
      ]
     },
     "execution_count": 18,
     "metadata": {},
     "output_type": "execute_result"
    }
   ],
   "source": [
    "df['Exited'].value_counts()"
   ]
  },
  {
   "cell_type": "markdown",
   "id": "4c2b216f",
   "metadata": {},
   "source": [
    "## Continuous variable Analysis"
   ]
  },
  {
   "cell_type": "code",
   "execution_count": 19,
   "id": "2d69fcfd",
   "metadata": {},
   "outputs": [],
   "source": [
    "# Create a dataframe of the continuous variables\n",
    "summ_stat = df[['CreditScore','Age','Balance','EstimatedSalary']]"
   ]
  },
  {
   "cell_type": "markdown",
   "id": "d42e6b92",
   "metadata": {},
   "source": [
    "## Summary Stats"
   ]
  },
  {
   "cell_type": "code",
   "execution_count": 20,
   "id": "54bffc2d",
   "metadata": {},
   "outputs": [
    {
     "data": {
      "text/html": [
       "<div>\n",
       "<style scoped>\n",
       "    .dataframe tbody tr th:only-of-type {\n",
       "        vertical-align: middle;\n",
       "    }\n",
       "\n",
       "    .dataframe tbody tr th {\n",
       "        vertical-align: top;\n",
       "    }\n",
       "\n",
       "    .dataframe thead th {\n",
       "        text-align: right;\n",
       "    }\n",
       "</style>\n",
       "<table border=\"1\" class=\"dataframe\">\n",
       "  <thead>\n",
       "    <tr style=\"text-align: right;\">\n",
       "      <th></th>\n",
       "      <th>CreditScore</th>\n",
       "      <th>Age</th>\n",
       "      <th>Balance</th>\n",
       "      <th>EstimatedSalary</th>\n",
       "    </tr>\n",
       "  </thead>\n",
       "  <tbody>\n",
       "    <tr>\n",
       "      <th>count</th>\n",
       "      <td>10000.000000</td>\n",
       "      <td>10000.000000</td>\n",
       "      <td>10000.000000</td>\n",
       "      <td>10000.000000</td>\n",
       "    </tr>\n",
       "    <tr>\n",
       "      <th>mean</th>\n",
       "      <td>650.528800</td>\n",
       "      <td>38.921800</td>\n",
       "      <td>76485.889288</td>\n",
       "      <td>100090.239881</td>\n",
       "    </tr>\n",
       "    <tr>\n",
       "      <th>std</th>\n",
       "      <td>96.653299</td>\n",
       "      <td>10.487806</td>\n",
       "      <td>62397.405202</td>\n",
       "      <td>57510.492818</td>\n",
       "    </tr>\n",
       "    <tr>\n",
       "      <th>min</th>\n",
       "      <td>350.000000</td>\n",
       "      <td>18.000000</td>\n",
       "      <td>0.000000</td>\n",
       "      <td>11.580000</td>\n",
       "    </tr>\n",
       "    <tr>\n",
       "      <th>25%</th>\n",
       "      <td>584.000000</td>\n",
       "      <td>32.000000</td>\n",
       "      <td>0.000000</td>\n",
       "      <td>51002.110000</td>\n",
       "    </tr>\n",
       "    <tr>\n",
       "      <th>50%</th>\n",
       "      <td>652.000000</td>\n",
       "      <td>37.000000</td>\n",
       "      <td>97198.540000</td>\n",
       "      <td>100193.915000</td>\n",
       "    </tr>\n",
       "    <tr>\n",
       "      <th>75%</th>\n",
       "      <td>718.000000</td>\n",
       "      <td>44.000000</td>\n",
       "      <td>127644.240000</td>\n",
       "      <td>149388.247500</td>\n",
       "    </tr>\n",
       "    <tr>\n",
       "      <th>max</th>\n",
       "      <td>850.000000</td>\n",
       "      <td>92.000000</td>\n",
       "      <td>250898.090000</td>\n",
       "      <td>199992.480000</td>\n",
       "    </tr>\n",
       "  </tbody>\n",
       "</table>\n",
       "</div>"
      ],
      "text/plain": [
       "        CreditScore           Age        Balance  EstimatedSalary\n",
       "count  10000.000000  10000.000000   10000.000000     10000.000000\n",
       "mean     650.528800     38.921800   76485.889288    100090.239881\n",
       "std       96.653299     10.487806   62397.405202     57510.492818\n",
       "min      350.000000     18.000000       0.000000        11.580000\n",
       "25%      584.000000     32.000000       0.000000     51002.110000\n",
       "50%      652.000000     37.000000   97198.540000    100193.915000\n",
       "75%      718.000000     44.000000  127644.240000    149388.247500\n",
       "max      850.000000     92.000000  250898.090000    199992.480000"
      ]
     },
     "execution_count": 20,
     "metadata": {},
     "output_type": "execute_result"
    }
   ],
   "source": [
    "# View summary statistics\n",
    "summ_stat.describe()"
   ]
  },
  {
   "cell_type": "code",
   "execution_count": 21,
   "id": "44074340",
   "metadata": {},
   "outputs": [
    {
     "data": {
      "text/plain": [
       "CreditScore           652.000\n",
       "Age                    37.000\n",
       "Balance             97198.540\n",
       "EstimatedSalary    100193.915\n",
       "dtype: float64"
      ]
     },
     "execution_count": 21,
     "metadata": {},
     "output_type": "execute_result"
    }
   ],
   "source": [
    "# Observe the median\n",
    "summ_stat.median()"
   ]
  },
  {
   "cell_type": "code",
   "execution_count": 22,
   "id": "3ad5c12e",
   "metadata": {},
   "outputs": [
    {
     "data": {
      "text/html": [
       "<div>\n",
       "<style scoped>\n",
       "    .dataframe tbody tr th:only-of-type {\n",
       "        vertical-align: middle;\n",
       "    }\n",
       "\n",
       "    .dataframe tbody tr th {\n",
       "        vertical-align: top;\n",
       "    }\n",
       "\n",
       "    .dataframe thead th {\n",
       "        text-align: right;\n",
       "    }\n",
       "</style>\n",
       "<table border=\"1\" class=\"dataframe\">\n",
       "  <thead>\n",
       "    <tr style=\"text-align: right;\">\n",
       "      <th></th>\n",
       "      <th>CreditScore</th>\n",
       "      <th>Age</th>\n",
       "      <th>Balance</th>\n",
       "      <th>EstimatedSalary</th>\n",
       "    </tr>\n",
       "  </thead>\n",
       "  <tbody>\n",
       "    <tr>\n",
       "      <th>0</th>\n",
       "      <td>850</td>\n",
       "      <td>37</td>\n",
       "      <td>0.0</td>\n",
       "      <td>24924.92</td>\n",
       "    </tr>\n",
       "  </tbody>\n",
       "</table>\n",
       "</div>"
      ],
      "text/plain": [
       "   CreditScore  Age  Balance  EstimatedSalary\n",
       "0          850   37      0.0         24924.92"
      ]
     },
     "execution_count": 22,
     "metadata": {},
     "output_type": "execute_result"
    }
   ],
   "source": [
    "# Observe the mode\n",
    "summ_stat.mode()"
   ]
  },
  {
   "cell_type": "code",
   "execution_count": 23,
   "id": "20f58cd0",
   "metadata": {},
   "outputs": [
    {
     "data": {
      "text/plain": [
       "(10000, 4)"
      ]
     },
     "execution_count": 23,
     "metadata": {},
     "output_type": "execute_result"
    }
   ],
   "source": [
    "cont_df = df[['CreditScore','Age','Balance','EstimatedSalary']]\n",
    "cont_df.shape"
   ]
  },
  {
   "cell_type": "markdown",
   "id": "2639fb60",
   "metadata": {},
   "source": [
    "## Pearson correlation of continuous variables"
   ]
  },
  {
   "cell_type": "code",
   "execution_count": 24,
   "id": "81eb4456",
   "metadata": {},
   "outputs": [
    {
     "data": {
      "text/html": [
       "<div>\n",
       "<style scoped>\n",
       "    .dataframe tbody tr th:only-of-type {\n",
       "        vertical-align: middle;\n",
       "    }\n",
       "\n",
       "    .dataframe tbody tr th {\n",
       "        vertical-align: top;\n",
       "    }\n",
       "\n",
       "    .dataframe thead th {\n",
       "        text-align: right;\n",
       "    }\n",
       "</style>\n",
       "<table border=\"1\" class=\"dataframe\">\n",
       "  <thead>\n",
       "    <tr style=\"text-align: right;\">\n",
       "      <th></th>\n",
       "      <th>CreditScore</th>\n",
       "      <th>Age</th>\n",
       "      <th>Balance</th>\n",
       "      <th>EstimatedSalary</th>\n",
       "    </tr>\n",
       "  </thead>\n",
       "  <tbody>\n",
       "    <tr>\n",
       "      <th>CreditScore</th>\n",
       "      <td>1.000000</td>\n",
       "      <td>-0.003965</td>\n",
       "      <td>0.006268</td>\n",
       "      <td>-0.001384</td>\n",
       "    </tr>\n",
       "    <tr>\n",
       "      <th>Age</th>\n",
       "      <td>-0.003965</td>\n",
       "      <td>1.000000</td>\n",
       "      <td>0.028308</td>\n",
       "      <td>-0.007201</td>\n",
       "    </tr>\n",
       "    <tr>\n",
       "      <th>Balance</th>\n",
       "      <td>0.006268</td>\n",
       "      <td>0.028308</td>\n",
       "      <td>1.000000</td>\n",
       "      <td>0.012797</td>\n",
       "    </tr>\n",
       "    <tr>\n",
       "      <th>EstimatedSalary</th>\n",
       "      <td>-0.001384</td>\n",
       "      <td>-0.007201</td>\n",
       "      <td>0.012797</td>\n",
       "      <td>1.000000</td>\n",
       "    </tr>\n",
       "  </tbody>\n",
       "</table>\n",
       "</div>"
      ],
      "text/plain": [
       "                 CreditScore       Age   Balance  EstimatedSalary\n",
       "CreditScore         1.000000 -0.003965  0.006268        -0.001384\n",
       "Age                -0.003965  1.000000  0.028308        -0.007201\n",
       "Balance             0.006268  0.028308  1.000000         0.012797\n",
       "EstimatedSalary    -0.001384 -0.007201  0.012797         1.000000"
      ]
     },
     "execution_count": 24,
     "metadata": {},
     "output_type": "execute_result"
    }
   ],
   "source": [
    "corr = cont_df.corr(method = 'pearson')\n",
    "corr"
   ]
  },
  {
   "cell_type": "markdown",
   "id": "7187cd04",
   "metadata": {},
   "source": [
    "## Point-biserial correlations of binomial features"
   ]
  },
  {
   "cell_type": "markdown",
   "id": "1c10a8df",
   "metadata": {},
   "source": [
    "### Gender"
   ]
  },
  {
   "cell_type": "code",
   "execution_count": 25,
   "id": "18bb06ca",
   "metadata": {},
   "outputs": [
    {
     "data": {
      "text/html": [
       "<div>\n",
       "<style scoped>\n",
       "    .dataframe tbody tr th:only-of-type {\n",
       "        vertical-align: middle;\n",
       "    }\n",
       "\n",
       "    .dataframe tbody tr th {\n",
       "        vertical-align: top;\n",
       "    }\n",
       "\n",
       "    .dataframe thead th {\n",
       "        text-align: right;\n",
       "    }\n",
       "</style>\n",
       "<table border=\"1\" class=\"dataframe\">\n",
       "  <thead>\n",
       "    <tr style=\"text-align: right;\">\n",
       "      <th></th>\n",
       "      <th>CreditScore</th>\n",
       "      <th>Age</th>\n",
       "      <th>Balance</th>\n",
       "      <th>EstimatedSalary</th>\n",
       "    </tr>\n",
       "  </thead>\n",
       "  <tbody>\n",
       "    <tr>\n",
       "      <th>0</th>\n",
       "      <td>-0.002857</td>\n",
       "      <td>-0.027544</td>\n",
       "      <td>0.012087</td>\n",
       "      <td>-0.008112</td>\n",
       "    </tr>\n",
       "    <tr>\n",
       "      <th>1</th>\n",
       "      <td>0.775164</td>\n",
       "      <td>0.005877</td>\n",
       "      <td>0.226836</td>\n",
       "      <td>0.417282</td>\n",
       "    </tr>\n",
       "  </tbody>\n",
       "</table>\n",
       "</div>"
      ],
      "text/plain": [
       "   CreditScore       Age   Balance  EstimatedSalary\n",
       "0    -0.002857 -0.027544  0.012087        -0.008112\n",
       "1     0.775164  0.005877  0.226836         0.417282"
      ]
     },
     "execution_count": 25,
     "metadata": {},
     "output_type": "execute_result"
    }
   ],
   "source": [
    "df[['CreditScore', 'Age','Balance','EstimatedSalary']].corrwith(df['Gender'].astype('float'), method=stats.pointbiserialr)"
   ]
  },
  {
   "cell_type": "markdown",
   "id": "c6746a20",
   "metadata": {},
   "source": [
    "### Has Credit Card"
   ]
  },
  {
   "cell_type": "code",
   "execution_count": 26,
   "id": "998cd8c8",
   "metadata": {},
   "outputs": [
    {
     "data": {
      "text/html": [
       "<div>\n",
       "<style scoped>\n",
       "    .dataframe tbody tr th:only-of-type {\n",
       "        vertical-align: middle;\n",
       "    }\n",
       "\n",
       "    .dataframe tbody tr th {\n",
       "        vertical-align: top;\n",
       "    }\n",
       "\n",
       "    .dataframe thead th {\n",
       "        text-align: right;\n",
       "    }\n",
       "</style>\n",
       "<table border=\"1\" class=\"dataframe\">\n",
       "  <thead>\n",
       "    <tr style=\"text-align: right;\">\n",
       "      <th></th>\n",
       "      <th>CreditScore</th>\n",
       "      <th>Age</th>\n",
       "      <th>Balance</th>\n",
       "      <th>EstimatedSalary</th>\n",
       "    </tr>\n",
       "  </thead>\n",
       "  <tbody>\n",
       "    <tr>\n",
       "      <th>0</th>\n",
       "      <td>-0.005458</td>\n",
       "      <td>-0.011721</td>\n",
       "      <td>-0.014858</td>\n",
       "      <td>-0.009933</td>\n",
       "    </tr>\n",
       "    <tr>\n",
       "      <th>1</th>\n",
       "      <td>0.585214</td>\n",
       "      <td>0.241198</td>\n",
       "      <td>0.137350</td>\n",
       "      <td>0.320592</td>\n",
       "    </tr>\n",
       "  </tbody>\n",
       "</table>\n",
       "</div>"
      ],
      "text/plain": [
       "   CreditScore       Age   Balance  EstimatedSalary\n",
       "0    -0.005458 -0.011721 -0.014858        -0.009933\n",
       "1     0.585214  0.241198  0.137350         0.320592"
      ]
     },
     "execution_count": 26,
     "metadata": {},
     "output_type": "execute_result"
    }
   ],
   "source": [
    "df[['CreditScore', 'Age','Balance','EstimatedSalary']].corrwith(df['HasCrCard'].astype('float'), method=stats.pointbiserialr)"
   ]
  },
  {
   "cell_type": "markdown",
   "id": "a924fbb7",
   "metadata": {},
   "source": [
    "### Is Active Member"
   ]
  },
  {
   "cell_type": "code",
   "execution_count": 27,
   "id": "91554f03",
   "metadata": {},
   "outputs": [
    {
     "data": {
      "text/html": [
       "<div>\n",
       "<style scoped>\n",
       "    .dataframe tbody tr th:only-of-type {\n",
       "        vertical-align: middle;\n",
       "    }\n",
       "\n",
       "    .dataframe tbody tr th {\n",
       "        vertical-align: top;\n",
       "    }\n",
       "\n",
       "    .dataframe thead th {\n",
       "        text-align: right;\n",
       "    }\n",
       "</style>\n",
       "<table border=\"1\" class=\"dataframe\">\n",
       "  <thead>\n",
       "    <tr style=\"text-align: right;\">\n",
       "      <th></th>\n",
       "      <th>CreditScore</th>\n",
       "      <th>Age</th>\n",
       "      <th>Balance</th>\n",
       "      <th>EstimatedSalary</th>\n",
       "    </tr>\n",
       "  </thead>\n",
       "  <tbody>\n",
       "    <tr>\n",
       "      <th>0</th>\n",
       "      <td>0.025651</td>\n",
       "      <td>8.547215e-02</td>\n",
       "      <td>-0.010084</td>\n",
       "      <td>-0.011421</td>\n",
       "    </tr>\n",
       "    <tr>\n",
       "      <th>1</th>\n",
       "      <td>0.010311</td>\n",
       "      <td>1.111027e-17</td>\n",
       "      <td>0.313306</td>\n",
       "      <td>0.253438</td>\n",
       "    </tr>\n",
       "  </tbody>\n",
       "</table>\n",
       "</div>"
      ],
      "text/plain": [
       "   CreditScore           Age   Balance  EstimatedSalary\n",
       "0     0.025651  8.547215e-02 -0.010084        -0.011421\n",
       "1     0.010311  1.111027e-17  0.313306         0.253438"
      ]
     },
     "execution_count": 27,
     "metadata": {},
     "output_type": "execute_result"
    }
   ],
   "source": [
    "df[['CreditScore', 'Age','Balance','EstimatedSalary']].corrwith(df['IsActiveMember'].astype('float'), method=stats.pointbiserialr)"
   ]
  },
  {
   "cell_type": "markdown",
   "id": "ca4e4866",
   "metadata": {},
   "source": [
    "### Exited"
   ]
  },
  {
   "cell_type": "code",
   "execution_count": 28,
   "id": "0a885ce4",
   "metadata": {},
   "outputs": [
    {
     "data": {
      "text/html": [
       "<div>\n",
       "<style scoped>\n",
       "    .dataframe tbody tr th:only-of-type {\n",
       "        vertical-align: middle;\n",
       "    }\n",
       "\n",
       "    .dataframe tbody tr th {\n",
       "        vertical-align: top;\n",
       "    }\n",
       "\n",
       "    .dataframe thead th {\n",
       "        text-align: right;\n",
       "    }\n",
       "</style>\n",
       "<table border=\"1\" class=\"dataframe\">\n",
       "  <thead>\n",
       "    <tr style=\"text-align: right;\">\n",
       "      <th></th>\n",
       "      <th>CreditScore</th>\n",
       "      <th>Age</th>\n",
       "      <th>Balance</th>\n",
       "      <th>EstimatedSalary</th>\n",
       "    </tr>\n",
       "  </thead>\n",
       "  <tbody>\n",
       "    <tr>\n",
       "      <th>0</th>\n",
       "      <td>-0.027094</td>\n",
       "      <td>2.853230e-01</td>\n",
       "      <td>1.185328e-01</td>\n",
       "      <td>0.012097</td>\n",
       "    </tr>\n",
       "    <tr>\n",
       "      <th>1</th>\n",
       "      <td>0.006738</td>\n",
       "      <td>1.239931e-186</td>\n",
       "      <td>1.275563e-32</td>\n",
       "      <td>0.226440</td>\n",
       "    </tr>\n",
       "  </tbody>\n",
       "</table>\n",
       "</div>"
      ],
      "text/plain": [
       "   CreditScore            Age       Balance  EstimatedSalary\n",
       "0    -0.027094   2.853230e-01  1.185328e-01         0.012097\n",
       "1     0.006738  1.239931e-186  1.275563e-32         0.226440"
      ]
     },
     "execution_count": 28,
     "metadata": {},
     "output_type": "execute_result"
    }
   ],
   "source": [
    "df[['CreditScore', 'Age','Balance','EstimatedSalary']].corrwith(df['Exited'].astype('float'), method=stats.pointbiserialr)"
   ]
  },
  {
   "cell_type": "markdown",
   "id": "6b038bab",
   "metadata": {},
   "source": [
    "### Geography_France"
   ]
  },
  {
   "cell_type": "code",
   "execution_count": 29,
   "id": "85f6525a",
   "metadata": {},
   "outputs": [
    {
     "data": {
      "text/html": [
       "<div>\n",
       "<style scoped>\n",
       "    .dataframe tbody tr th:only-of-type {\n",
       "        vertical-align: middle;\n",
       "    }\n",
       "\n",
       "    .dataframe tbody tr th {\n",
       "        vertical-align: top;\n",
       "    }\n",
       "\n",
       "    .dataframe thead th {\n",
       "        text-align: right;\n",
       "    }\n",
       "</style>\n",
       "<table border=\"1\" class=\"dataframe\">\n",
       "  <thead>\n",
       "    <tr style=\"text-align: right;\">\n",
       "      <th></th>\n",
       "      <th>CreditScore</th>\n",
       "      <th>Age</th>\n",
       "      <th>Balance</th>\n",
       "      <th>EstimatedSalary</th>\n",
       "    </tr>\n",
       "  </thead>\n",
       "  <tbody>\n",
       "    <tr>\n",
       "      <th>0</th>\n",
       "      <td>-0.008928</td>\n",
       "      <td>-0.039208</td>\n",
       "      <td>-2.313290e-01</td>\n",
       "      <td>-0.003332</td>\n",
       "    </tr>\n",
       "    <tr>\n",
       "      <th>1</th>\n",
       "      <td>0.372011</td>\n",
       "      <td>0.000088</td>\n",
       "      <td>1.360935e-121</td>\n",
       "      <td>0.739041</td>\n",
       "    </tr>\n",
       "  </tbody>\n",
       "</table>\n",
       "</div>"
      ],
      "text/plain": [
       "   CreditScore       Age        Balance  EstimatedSalary\n",
       "0    -0.008928 -0.039208  -2.313290e-01        -0.003332\n",
       "1     0.372011  0.000088  1.360935e-121         0.739041"
      ]
     },
     "execution_count": 29,
     "metadata": {},
     "output_type": "execute_result"
    }
   ],
   "source": [
    "df[['CreditScore', 'Age','Balance','EstimatedSalary']].corrwith(df['Geography_France'].astype('float'), method=stats.pointbiserialr)"
   ]
  },
  {
   "cell_type": "markdown",
   "id": "7eb7e907",
   "metadata": {},
   "source": [
    "### Geography_Germany"
   ]
  },
  {
   "cell_type": "code",
   "execution_count": 30,
   "id": "0f6fe896",
   "metadata": {
    "scrolled": true
   },
   "outputs": [
    {
     "data": {
      "text/html": [
       "<div>\n",
       "<style scoped>\n",
       "    .dataframe tbody tr th:only-of-type {\n",
       "        vertical-align: middle;\n",
       "    }\n",
       "\n",
       "    .dataframe tbody tr th {\n",
       "        vertical-align: top;\n",
       "    }\n",
       "\n",
       "    .dataframe thead th {\n",
       "        text-align: right;\n",
       "    }\n",
       "</style>\n",
       "<table border=\"1\" class=\"dataframe\">\n",
       "  <thead>\n",
       "    <tr style=\"text-align: right;\">\n",
       "      <th></th>\n",
       "      <th>CreditScore</th>\n",
       "      <th>Age</th>\n",
       "      <th>Balance</th>\n",
       "      <th>EstimatedSalary</th>\n",
       "    </tr>\n",
       "  </thead>\n",
       "  <tbody>\n",
       "    <tr>\n",
       "      <th>0</th>\n",
       "      <td>0.005538</td>\n",
       "      <td>0.046897</td>\n",
       "      <td>0.40111</td>\n",
       "      <td>0.010297</td>\n",
       "    </tr>\n",
       "    <tr>\n",
       "      <th>1</th>\n",
       "      <td>0.579791</td>\n",
       "      <td>0.000003</td>\n",
       "      <td>0.00000</td>\n",
       "      <td>0.303195</td>\n",
       "    </tr>\n",
       "  </tbody>\n",
       "</table>\n",
       "</div>"
      ],
      "text/plain": [
       "   CreditScore       Age  Balance  EstimatedSalary\n",
       "0     0.005538  0.046897  0.40111         0.010297\n",
       "1     0.579791  0.000003  0.00000         0.303195"
      ]
     },
     "execution_count": 30,
     "metadata": {},
     "output_type": "execute_result"
    }
   ],
   "source": [
    "df[['CreditScore', 'Age','Balance','EstimatedSalary']].corrwith(df['Geography_Germany'].astype('float'), method=stats.pointbiserialr)"
   ]
  },
  {
   "cell_type": "markdown",
   "id": "cafa6c86",
   "metadata": {},
   "source": [
    "### Geography_Spain"
   ]
  },
  {
   "cell_type": "code",
   "execution_count": 31,
   "id": "d0888513",
   "metadata": {},
   "outputs": [
    {
     "data": {
      "text/html": [
       "<div>\n",
       "<style scoped>\n",
       "    .dataframe tbody tr th:only-of-type {\n",
       "        vertical-align: middle;\n",
       "    }\n",
       "\n",
       "    .dataframe tbody tr th {\n",
       "        vertical-align: top;\n",
       "    }\n",
       "\n",
       "    .dataframe thead th {\n",
       "        text-align: right;\n",
       "    }\n",
       "</style>\n",
       "<table border=\"1\" class=\"dataframe\">\n",
       "  <thead>\n",
       "    <tr style=\"text-align: right;\">\n",
       "      <th></th>\n",
       "      <th>CreditScore</th>\n",
       "      <th>Age</th>\n",
       "      <th>Balance</th>\n",
       "      <th>EstimatedSalary</th>\n",
       "    </tr>\n",
       "  </thead>\n",
       "  <tbody>\n",
       "    <tr>\n",
       "      <th>0</th>\n",
       "      <td>0.004780</td>\n",
       "      <td>-0.001685</td>\n",
       "      <td>-1.348919e-01</td>\n",
       "      <td>-0.006482</td>\n",
       "    </tr>\n",
       "    <tr>\n",
       "      <th>1</th>\n",
       "      <td>0.632707</td>\n",
       "      <td>0.866177</td>\n",
       "      <td>7.980247e-42</td>\n",
       "      <td>0.516880</td>\n",
       "    </tr>\n",
       "  </tbody>\n",
       "</table>\n",
       "</div>"
      ],
      "text/plain": [
       "   CreditScore       Age       Balance  EstimatedSalary\n",
       "0     0.004780 -0.001685 -1.348919e-01        -0.006482\n",
       "1     0.632707  0.866177  7.980247e-42         0.516880"
      ]
     },
     "execution_count": 31,
     "metadata": {},
     "output_type": "execute_result"
    }
   ],
   "source": [
    "df[['CreditScore', 'Age','Balance','EstimatedSalary']].corrwith(df['Geography_Spain'].astype('float'), method=stats.pointbiserialr)"
   ]
  },
  {
   "cell_type": "markdown",
   "id": "a3b31b39",
   "metadata": {},
   "source": [
    "### Tenure_0"
   ]
  },
  {
   "cell_type": "code",
   "execution_count": 32,
   "id": "77c07997",
   "metadata": {},
   "outputs": [
    {
     "data": {
      "text/html": [
       "<div>\n",
       "<style scoped>\n",
       "    .dataframe tbody tr th:only-of-type {\n",
       "        vertical-align: middle;\n",
       "    }\n",
       "\n",
       "    .dataframe tbody tr th {\n",
       "        vertical-align: top;\n",
       "    }\n",
       "\n",
       "    .dataframe thead th {\n",
       "        text-align: right;\n",
       "    }\n",
       "</style>\n",
       "<table border=\"1\" class=\"dataframe\">\n",
       "  <thead>\n",
       "    <tr style=\"text-align: right;\">\n",
       "      <th></th>\n",
       "      <th>CreditScore</th>\n",
       "      <th>Age</th>\n",
       "      <th>Balance</th>\n",
       "      <th>EstimatedSalary</th>\n",
       "    </tr>\n",
       "  </thead>\n",
       "  <tbody>\n",
       "    <tr>\n",
       "      <th>0</th>\n",
       "      <td>0.003253</td>\n",
       "      <td>0.005238</td>\n",
       "      <td>0.011287</td>\n",
       "      <td>0.008245</td>\n",
       "    </tr>\n",
       "    <tr>\n",
       "      <th>1</th>\n",
       "      <td>0.744981</td>\n",
       "      <td>0.600493</td>\n",
       "      <td>0.259072</td>\n",
       "      <td>0.409730</td>\n",
       "    </tr>\n",
       "  </tbody>\n",
       "</table>\n",
       "</div>"
      ],
      "text/plain": [
       "   CreditScore       Age   Balance  EstimatedSalary\n",
       "0     0.003253  0.005238  0.011287         0.008245\n",
       "1     0.744981  0.600493  0.259072         0.409730"
      ]
     },
     "execution_count": 32,
     "metadata": {},
     "output_type": "execute_result"
    }
   ],
   "source": [
    "df[['CreditScore', 'Age','Balance','EstimatedSalary']].corrwith(df['Tenure_0'].astype('float'), method=stats.pointbiserialr)"
   ]
  },
  {
   "cell_type": "markdown",
   "id": "d34c22ba",
   "metadata": {},
   "source": [
    "### Tenure_1"
   ]
  },
  {
   "cell_type": "code",
   "execution_count": 33,
   "id": "451736d6",
   "metadata": {},
   "outputs": [
    {
     "data": {
      "text/html": [
       "<div>\n",
       "<style scoped>\n",
       "    .dataframe tbody tr th:only-of-type {\n",
       "        vertical-align: middle;\n",
       "    }\n",
       "\n",
       "    .dataframe tbody tr th {\n",
       "        vertical-align: top;\n",
       "    }\n",
       "\n",
       "    .dataframe thead th {\n",
       "        text-align: right;\n",
       "    }\n",
       "</style>\n",
       "<table border=\"1\" class=\"dataframe\">\n",
       "  <thead>\n",
       "    <tr style=\"text-align: right;\">\n",
       "      <th></th>\n",
       "      <th>CreditScore</th>\n",
       "      <th>Age</th>\n",
       "      <th>Balance</th>\n",
       "      <th>EstimatedSalary</th>\n",
       "    </tr>\n",
       "  </thead>\n",
       "  <tbody>\n",
       "    <tr>\n",
       "      <th>0</th>\n",
       "      <td>-0.006054</td>\n",
       "      <td>0.016432</td>\n",
       "      <td>0.011270</td>\n",
       "      <td>0.002236</td>\n",
       "    </tr>\n",
       "    <tr>\n",
       "      <th>1</th>\n",
       "      <td>0.544960</td>\n",
       "      <td>0.100354</td>\n",
       "      <td>0.259797</td>\n",
       "      <td>0.823120</td>\n",
       "    </tr>\n",
       "  </tbody>\n",
       "</table>\n",
       "</div>"
      ],
      "text/plain": [
       "   CreditScore       Age   Balance  EstimatedSalary\n",
       "0    -0.006054  0.016432  0.011270         0.002236\n",
       "1     0.544960  0.100354  0.259797         0.823120"
      ]
     },
     "execution_count": 33,
     "metadata": {},
     "output_type": "execute_result"
    }
   ],
   "source": [
    "df[['CreditScore', 'Age','Balance','EstimatedSalary']].corrwith(df['Tenure_1'].astype('float'), method=stats.pointbiserialr)"
   ]
  },
  {
   "cell_type": "markdown",
   "id": "1b9e2b2c",
   "metadata": {},
   "source": [
    "### Tenure_2"
   ]
  },
  {
   "cell_type": "code",
   "execution_count": 34,
   "id": "28bf3234",
   "metadata": {},
   "outputs": [
    {
     "data": {
      "text/html": [
       "<div>\n",
       "<style scoped>\n",
       "    .dataframe tbody tr th:only-of-type {\n",
       "        vertical-align: middle;\n",
       "    }\n",
       "\n",
       "    .dataframe tbody tr th {\n",
       "        vertical-align: top;\n",
       "    }\n",
       "\n",
       "    .dataframe thead th {\n",
       "        text-align: right;\n",
       "    }\n",
       "</style>\n",
       "<table border=\"1\" class=\"dataframe\">\n",
       "  <thead>\n",
       "    <tr style=\"text-align: right;\">\n",
       "      <th></th>\n",
       "      <th>CreditScore</th>\n",
       "      <th>Age</th>\n",
       "      <th>Balance</th>\n",
       "      <th>EstimatedSalary</th>\n",
       "    </tr>\n",
       "  </thead>\n",
       "  <tbody>\n",
       "    <tr>\n",
       "      <th>0</th>\n",
       "      <td>0.008154</td>\n",
       "      <td>0.004450</td>\n",
       "      <td>0.001940</td>\n",
       "      <td>-0.010578</td>\n",
       "    </tr>\n",
       "    <tr>\n",
       "      <th>1</th>\n",
       "      <td>0.414896</td>\n",
       "      <td>0.656335</td>\n",
       "      <td>0.846211</td>\n",
       "      <td>0.290200</td>\n",
       "    </tr>\n",
       "  </tbody>\n",
       "</table>\n",
       "</div>"
      ],
      "text/plain": [
       "   CreditScore       Age   Balance  EstimatedSalary\n",
       "0     0.008154  0.004450  0.001940        -0.010578\n",
       "1     0.414896  0.656335  0.846211         0.290200"
      ]
     },
     "execution_count": 34,
     "metadata": {},
     "output_type": "execute_result"
    }
   ],
   "source": [
    "df[['CreditScore', 'Age','Balance','EstimatedSalary']].corrwith(df['Tenure_2'].astype('float'), method=stats.pointbiserialr)"
   ]
  },
  {
   "cell_type": "markdown",
   "id": "63cbb934",
   "metadata": {},
   "source": [
    "### Tenure_3"
   ]
  },
  {
   "cell_type": "code",
   "execution_count": 35,
   "id": "40b32d85",
   "metadata": {},
   "outputs": [
    {
     "data": {
      "text/html": [
       "<div>\n",
       "<style scoped>\n",
       "    .dataframe tbody tr th:only-of-type {\n",
       "        vertical-align: middle;\n",
       "    }\n",
       "\n",
       "    .dataframe tbody tr th {\n",
       "        vertical-align: top;\n",
       "    }\n",
       "\n",
       "    .dataframe thead th {\n",
       "        text-align: right;\n",
       "    }\n",
       "</style>\n",
       "<table border=\"1\" class=\"dataframe\">\n",
       "  <thead>\n",
       "    <tr style=\"text-align: right;\">\n",
       "      <th></th>\n",
       "      <th>CreditScore</th>\n",
       "      <th>Age</th>\n",
       "      <th>Balance</th>\n",
       "      <th>EstimatedSalary</th>\n",
       "    </tr>\n",
       "  </thead>\n",
       "  <tbody>\n",
       "    <tr>\n",
       "      <th>0</th>\n",
       "      <td>0.000005</td>\n",
       "      <td>0.003416</td>\n",
       "      <td>0.006347</td>\n",
       "      <td>-0.014115</td>\n",
       "    </tr>\n",
       "    <tr>\n",
       "      <th>1</th>\n",
       "      <td>0.999605</td>\n",
       "      <td>0.732680</td>\n",
       "      <td>0.525664</td>\n",
       "      <td>0.158132</td>\n",
       "    </tr>\n",
       "  </tbody>\n",
       "</table>\n",
       "</div>"
      ],
      "text/plain": [
       "   CreditScore       Age   Balance  EstimatedSalary\n",
       "0     0.000005  0.003416  0.006347        -0.014115\n",
       "1     0.999605  0.732680  0.525664         0.158132"
      ]
     },
     "execution_count": 35,
     "metadata": {},
     "output_type": "execute_result"
    }
   ],
   "source": [
    "df[['CreditScore', 'Age','Balance','EstimatedSalary']].corrwith(df['Tenure_3'].astype('float'), method=stats.pointbiserialr)"
   ]
  },
  {
   "cell_type": "markdown",
   "id": "73b45082",
   "metadata": {},
   "source": [
    "### Tenure_4"
   ]
  },
  {
   "cell_type": "code",
   "execution_count": 36,
   "id": "e4d55b2d",
   "metadata": {
    "scrolled": true
   },
   "outputs": [
    {
     "data": {
      "text/html": [
       "<div>\n",
       "<style scoped>\n",
       "    .dataframe tbody tr th:only-of-type {\n",
       "        vertical-align: middle;\n",
       "    }\n",
       "\n",
       "    .dataframe tbody tr th {\n",
       "        vertical-align: top;\n",
       "    }\n",
       "\n",
       "    .dataframe thead th {\n",
       "        text-align: right;\n",
       "    }\n",
       "</style>\n",
       "<table border=\"1\" class=\"dataframe\">\n",
       "  <thead>\n",
       "    <tr style=\"text-align: right;\">\n",
       "      <th></th>\n",
       "      <th>CreditScore</th>\n",
       "      <th>Age</th>\n",
       "      <th>Balance</th>\n",
       "      <th>EstimatedSalary</th>\n",
       "    </tr>\n",
       "  </thead>\n",
       "  <tbody>\n",
       "    <tr>\n",
       "      <th>0</th>\n",
       "      <td>0.003338</td>\n",
       "      <td>-0.021550</td>\n",
       "      <td>-0.012884</td>\n",
       "      <td>-0.001282</td>\n",
       "    </tr>\n",
       "    <tr>\n",
       "      <th>1</th>\n",
       "      <td>0.738580</td>\n",
       "      <td>0.031167</td>\n",
       "      <td>0.197649</td>\n",
       "      <td>0.898037</td>\n",
       "    </tr>\n",
       "  </tbody>\n",
       "</table>\n",
       "</div>"
      ],
      "text/plain": [
       "   CreditScore       Age   Balance  EstimatedSalary\n",
       "0     0.003338 -0.021550 -0.012884        -0.001282\n",
       "1     0.738580  0.031167  0.197649         0.898037"
      ]
     },
     "execution_count": 36,
     "metadata": {},
     "output_type": "execute_result"
    }
   ],
   "source": [
    "df[['CreditScore', 'Age','Balance','EstimatedSalary']].corrwith(df['Tenure_4'].astype('float'), method=stats.pointbiserialr)"
   ]
  },
  {
   "cell_type": "markdown",
   "id": "0fb1d278",
   "metadata": {},
   "source": [
    "### Tenure_5"
   ]
  },
  {
   "cell_type": "code",
   "execution_count": 37,
   "id": "1738871a",
   "metadata": {},
   "outputs": [
    {
     "data": {
      "text/html": [
       "<div>\n",
       "<style scoped>\n",
       "    .dataframe tbody tr th:only-of-type {\n",
       "        vertical-align: middle;\n",
       "    }\n",
       "\n",
       "    .dataframe tbody tr th {\n",
       "        vertical-align: top;\n",
       "    }\n",
       "\n",
       "    .dataframe thead th {\n",
       "        text-align: right;\n",
       "    }\n",
       "</style>\n",
       "<table border=\"1\" class=\"dataframe\">\n",
       "  <thead>\n",
       "    <tr style=\"text-align: right;\">\n",
       "      <th></th>\n",
       "      <th>CreditScore</th>\n",
       "      <th>Age</th>\n",
       "      <th>Balance</th>\n",
       "      <th>EstimatedSalary</th>\n",
       "    </tr>\n",
       "  </thead>\n",
       "  <tbody>\n",
       "    <tr>\n",
       "      <th>0</th>\n",
       "      <td>-0.000004</td>\n",
       "      <td>0.011703</td>\n",
       "      <td>-0.000224</td>\n",
       "      <td>0.006977</td>\n",
       "    </tr>\n",
       "    <tr>\n",
       "      <th>1</th>\n",
       "      <td>0.999686</td>\n",
       "      <td>0.241942</td>\n",
       "      <td>0.982150</td>\n",
       "      <td>0.485402</td>\n",
       "    </tr>\n",
       "  </tbody>\n",
       "</table>\n",
       "</div>"
      ],
      "text/plain": [
       "   CreditScore       Age   Balance  EstimatedSalary\n",
       "0    -0.000004  0.011703 -0.000224         0.006977\n",
       "1     0.999686  0.241942  0.982150         0.485402"
      ]
     },
     "execution_count": 37,
     "metadata": {},
     "output_type": "execute_result"
    }
   ],
   "source": [
    "df[['CreditScore', 'Age','Balance','EstimatedSalary']].corrwith(df['Tenure_5'].astype('float'), method=stats.pointbiserialr)"
   ]
  },
  {
   "cell_type": "markdown",
   "id": "b36053b5",
   "metadata": {},
   "source": [
    "### Tenure_6"
   ]
  },
  {
   "cell_type": "code",
   "execution_count": 38,
   "id": "5e22758a",
   "metadata": {},
   "outputs": [
    {
     "data": {
      "text/html": [
       "<div>\n",
       "<style scoped>\n",
       "    .dataframe tbody tr th:only-of-type {\n",
       "        vertical-align: middle;\n",
       "    }\n",
       "\n",
       "    .dataframe tbody tr th {\n",
       "        vertical-align: top;\n",
       "    }\n",
       "\n",
       "    .dataframe thead th {\n",
       "        text-align: right;\n",
       "    }\n",
       "</style>\n",
       "<table border=\"1\" class=\"dataframe\">\n",
       "  <thead>\n",
       "    <tr style=\"text-align: right;\">\n",
       "      <th></th>\n",
       "      <th>CreditScore</th>\n",
       "      <th>Age</th>\n",
       "      <th>Balance</th>\n",
       "      <th>EstimatedSalary</th>\n",
       "    </tr>\n",
       "  </thead>\n",
       "  <tbody>\n",
       "    <tr>\n",
       "      <th>0</th>\n",
       "      <td>-0.010658</td>\n",
       "      <td>-0.001851</td>\n",
       "      <td>-0.010917</td>\n",
       "      <td>-0.005243</td>\n",
       "    </tr>\n",
       "    <tr>\n",
       "      <th>1</th>\n",
       "      <td>0.286567</td>\n",
       "      <td>0.853146</td>\n",
       "      <td>0.274990</td>\n",
       "      <td>0.600121</td>\n",
       "    </tr>\n",
       "  </tbody>\n",
       "</table>\n",
       "</div>"
      ],
      "text/plain": [
       "   CreditScore       Age   Balance  EstimatedSalary\n",
       "0    -0.010658 -0.001851 -0.010917        -0.005243\n",
       "1     0.286567  0.853146  0.274990         0.600121"
      ]
     },
     "execution_count": 38,
     "metadata": {},
     "output_type": "execute_result"
    }
   ],
   "source": [
    "df[['CreditScore', 'Age','Balance','EstimatedSalary']].corrwith(df['Tenure_6'].astype('float'), method=stats.pointbiserialr)"
   ]
  },
  {
   "cell_type": "markdown",
   "id": "68b497e6",
   "metadata": {},
   "source": [
    "### Tenure_7"
   ]
  },
  {
   "cell_type": "code",
   "execution_count": 39,
   "id": "47a39c12",
   "metadata": {},
   "outputs": [
    {
     "data": {
      "text/html": [
       "<div>\n",
       "<style scoped>\n",
       "    .dataframe tbody tr th:only-of-type {\n",
       "        vertical-align: middle;\n",
       "    }\n",
       "\n",
       "    .dataframe tbody tr th {\n",
       "        vertical-align: top;\n",
       "    }\n",
       "\n",
       "    .dataframe thead th {\n",
       "        text-align: right;\n",
       "    }\n",
       "</style>\n",
       "<table border=\"1\" class=\"dataframe\">\n",
       "  <thead>\n",
       "    <tr style=\"text-align: right;\">\n",
       "      <th></th>\n",
       "      <th>CreditScore</th>\n",
       "      <th>Age</th>\n",
       "      <th>Balance</th>\n",
       "      <th>EstimatedSalary</th>\n",
       "    </tr>\n",
       "  </thead>\n",
       "  <tbody>\n",
       "    <tr>\n",
       "      <th>0</th>\n",
       "      <td>-0.003232</td>\n",
       "      <td>-0.017884</td>\n",
       "      <td>-0.005068</td>\n",
       "      <td>0.006869</td>\n",
       "    </tr>\n",
       "    <tr>\n",
       "      <th>1</th>\n",
       "      <td>0.746586</td>\n",
       "      <td>0.073718</td>\n",
       "      <td>0.612308</td>\n",
       "      <td>0.492191</td>\n",
       "    </tr>\n",
       "  </tbody>\n",
       "</table>\n",
       "</div>"
      ],
      "text/plain": [
       "   CreditScore       Age   Balance  EstimatedSalary\n",
       "0    -0.003232 -0.017884 -0.005068         0.006869\n",
       "1     0.746586  0.073718  0.612308         0.492191"
      ]
     },
     "execution_count": 39,
     "metadata": {},
     "output_type": "execute_result"
    }
   ],
   "source": [
    "df[['CreditScore', 'Age','Balance','EstimatedSalary']].corrwith(df['Tenure_7'].astype('float'), method=stats.pointbiserialr)"
   ]
  },
  {
   "cell_type": "markdown",
   "id": "ac686922",
   "metadata": {},
   "source": [
    "### Tenure_8"
   ]
  },
  {
   "cell_type": "code",
   "execution_count": 40,
   "id": "937da56a",
   "metadata": {},
   "outputs": [
    {
     "data": {
      "text/html": [
       "<div>\n",
       "<style scoped>\n",
       "    .dataframe tbody tr th:only-of-type {\n",
       "        vertical-align: middle;\n",
       "    }\n",
       "\n",
       "    .dataframe tbody tr th {\n",
       "        vertical-align: top;\n",
       "    }\n",
       "\n",
       "    .dataframe thead th {\n",
       "        text-align: right;\n",
       "    }\n",
       "</style>\n",
       "<table border=\"1\" class=\"dataframe\">\n",
       "  <thead>\n",
       "    <tr style=\"text-align: right;\">\n",
       "      <th></th>\n",
       "      <th>CreditScore</th>\n",
       "      <th>Age</th>\n",
       "      <th>Balance</th>\n",
       "      <th>EstimatedSalary</th>\n",
       "    </tr>\n",
       "  </thead>\n",
       "  <tbody>\n",
       "    <tr>\n",
       "      <th>0</th>\n",
       "      <td>-0.009719</td>\n",
       "      <td>-0.015180</td>\n",
       "      <td>0.007857</td>\n",
       "      <td>0.00577</td>\n",
       "    </tr>\n",
       "    <tr>\n",
       "      <th>1</th>\n",
       "      <td>0.331150</td>\n",
       "      <td>0.129046</td>\n",
       "      <td>0.432069</td>\n",
       "      <td>0.56399</td>\n",
       "    </tr>\n",
       "  </tbody>\n",
       "</table>\n",
       "</div>"
      ],
      "text/plain": [
       "   CreditScore       Age   Balance  EstimatedSalary\n",
       "0    -0.009719 -0.015180  0.007857          0.00577\n",
       "1     0.331150  0.129046  0.432069          0.56399"
      ]
     },
     "execution_count": 40,
     "metadata": {},
     "output_type": "execute_result"
    }
   ],
   "source": [
    "df[['CreditScore', 'Age','Balance','EstimatedSalary']].corrwith(df['Tenure_8'].astype('float'), method=stats.pointbiserialr)"
   ]
  },
  {
   "cell_type": "markdown",
   "id": "5ac49102",
   "metadata": {},
   "source": [
    "### Tenure_9"
   ]
  },
  {
   "cell_type": "code",
   "execution_count": 41,
   "id": "604b67c4",
   "metadata": {},
   "outputs": [
    {
     "data": {
      "text/html": [
       "<div>\n",
       "<style scoped>\n",
       "    .dataframe tbody tr th:only-of-type {\n",
       "        vertical-align: middle;\n",
       "    }\n",
       "\n",
       "    .dataframe tbody tr th {\n",
       "        vertical-align: top;\n",
       "    }\n",
       "\n",
       "    .dataframe thead th {\n",
       "        text-align: right;\n",
       "    }\n",
       "</style>\n",
       "<table border=\"1\" class=\"dataframe\">\n",
       "  <thead>\n",
       "    <tr style=\"text-align: right;\">\n",
       "      <th></th>\n",
       "      <th>CreditScore</th>\n",
       "      <th>Age</th>\n",
       "      <th>Balance</th>\n",
       "      <th>EstimatedSalary</th>\n",
       "    </tr>\n",
       "  </thead>\n",
       "  <tbody>\n",
       "    <tr>\n",
       "      <th>0</th>\n",
       "      <td>0.010629</td>\n",
       "      <td>0.013348</td>\n",
       "      <td>0.000406</td>\n",
       "      <td>-0.003869</td>\n",
       "    </tr>\n",
       "    <tr>\n",
       "      <th>1</th>\n",
       "      <td>0.287895</td>\n",
       "      <td>0.181978</td>\n",
       "      <td>0.967629</td>\n",
       "      <td>0.698848</td>\n",
       "    </tr>\n",
       "  </tbody>\n",
       "</table>\n",
       "</div>"
      ],
      "text/plain": [
       "   CreditScore       Age   Balance  EstimatedSalary\n",
       "0     0.010629  0.013348  0.000406        -0.003869\n",
       "1     0.287895  0.181978  0.967629         0.698848"
      ]
     },
     "execution_count": 41,
     "metadata": {},
     "output_type": "execute_result"
    }
   ],
   "source": [
    "df[['CreditScore', 'Age','Balance','EstimatedSalary']].corrwith(df['Tenure_9'].astype('float'), method=stats.pointbiserialr)"
   ]
  },
  {
   "cell_type": "markdown",
   "id": "405c5cc6",
   "metadata": {},
   "source": [
    "### Tenure_10"
   ]
  },
  {
   "cell_type": "code",
   "execution_count": 42,
   "id": "4890e959",
   "metadata": {},
   "outputs": [
    {
     "data": {
      "text/html": [
       "<div>\n",
       "<style scoped>\n",
       "    .dataframe tbody tr th:only-of-type {\n",
       "        vertical-align: middle;\n",
       "    }\n",
       "\n",
       "    .dataframe tbody tr th {\n",
       "        vertical-align: top;\n",
       "    }\n",
       "\n",
       "    .dataframe thead th {\n",
       "        text-align: right;\n",
       "    }\n",
       "</style>\n",
       "<table border=\"1\" class=\"dataframe\">\n",
       "  <thead>\n",
       "    <tr style=\"text-align: right;\">\n",
       "      <th></th>\n",
       "      <th>CreditScore</th>\n",
       "      <th>Age</th>\n",
       "      <th>Balance</th>\n",
       "      <th>EstimatedSalary</th>\n",
       "    </tr>\n",
       "  </thead>\n",
       "  <tbody>\n",
       "    <tr>\n",
       "      <th>0</th>\n",
       "      <td>0.007486</td>\n",
       "      <td>0.004961</td>\n",
       "      <td>-0.009307</td>\n",
       "      <td>0.010719</td>\n",
       "    </tr>\n",
       "    <tr>\n",
       "      <th>1</th>\n",
       "      <td>0.454131</td>\n",
       "      <td>0.619842</td>\n",
       "      <td>0.352037</td>\n",
       "      <td>0.283806</td>\n",
       "    </tr>\n",
       "  </tbody>\n",
       "</table>\n",
       "</div>"
      ],
      "text/plain": [
       "   CreditScore       Age   Balance  EstimatedSalary\n",
       "0     0.007486  0.004961 -0.009307         0.010719\n",
       "1     0.454131  0.619842  0.352037         0.283806"
      ]
     },
     "execution_count": 42,
     "metadata": {},
     "output_type": "execute_result"
    }
   ],
   "source": [
    "df[['CreditScore', 'Age','Balance','EstimatedSalary']].corrwith(df['Tenure_10'].astype('float'), method=stats.pointbiserialr)"
   ]
  },
  {
   "cell_type": "markdown",
   "id": "5139b3a4",
   "metadata": {},
   "source": [
    "### NumOfProducts_1"
   ]
  },
  {
   "cell_type": "code",
   "execution_count": 43,
   "id": "de4db1c8",
   "metadata": {},
   "outputs": [
    {
     "data": {
      "text/html": [
       "<div>\n",
       "<style scoped>\n",
       "    .dataframe tbody tr th:only-of-type {\n",
       "        vertical-align: middle;\n",
       "    }\n",
       "\n",
       "    .dataframe tbody tr th {\n",
       "        vertical-align: top;\n",
       "    }\n",
       "\n",
       "    .dataframe thead th {\n",
       "        text-align: right;\n",
       "    }\n",
       "</style>\n",
       "<table border=\"1\" class=\"dataframe\">\n",
       "  <thead>\n",
       "    <tr style=\"text-align: right;\">\n",
       "      <th></th>\n",
       "      <th>CreditScore</th>\n",
       "      <th>Age</th>\n",
       "      <th>Balance</th>\n",
       "      <th>EstimatedSalary</th>\n",
       "    </tr>\n",
       "  </thead>\n",
       "  <tbody>\n",
       "    <tr>\n",
       "      <th>0</th>\n",
       "      <td>-0.014813</td>\n",
       "      <td>7.285220e-02</td>\n",
       "      <td>3.596460e-01</td>\n",
       "      <td>-0.010663</td>\n",
       "    </tr>\n",
       "    <tr>\n",
       "      <th>1</th>\n",
       "      <td>0.138545</td>\n",
       "      <td>3.008794e-13</td>\n",
       "      <td>4.323076e-303</td>\n",
       "      <td>0.286338</td>\n",
       "    </tr>\n",
       "  </tbody>\n",
       "</table>\n",
       "</div>"
      ],
      "text/plain": [
       "   CreditScore           Age        Balance  EstimatedSalary\n",
       "0    -0.014813  7.285220e-02   3.596460e-01        -0.010663\n",
       "1     0.138545  3.008794e-13  4.323076e-303         0.286338"
      ]
     },
     "execution_count": 43,
     "metadata": {},
     "output_type": "execute_result"
    }
   ],
   "source": [
    "df[['CreditScore', 'Age','Balance','EstimatedSalary']].corrwith(df['NumOfProducts_1'].astype('float'), method=stats.pointbiserialr)"
   ]
  },
  {
   "cell_type": "markdown",
   "id": "e2b2c7dc",
   "metadata": {},
   "source": [
    "### NumOfProducts_2"
   ]
  },
  {
   "cell_type": "code",
   "execution_count": 44,
   "id": "596fedb4",
   "metadata": {},
   "outputs": [
    {
     "data": {
      "text/html": [
       "<div>\n",
       "<style scoped>\n",
       "    .dataframe tbody tr th:only-of-type {\n",
       "        vertical-align: middle;\n",
       "    }\n",
       "\n",
       "    .dataframe tbody tr th {\n",
       "        vertical-align: top;\n",
       "    }\n",
       "\n",
       "    .dataframe thead th {\n",
       "        text-align: right;\n",
       "    }\n",
       "</style>\n",
       "<table border=\"1\" class=\"dataframe\">\n",
       "  <thead>\n",
       "    <tr style=\"text-align: right;\">\n",
       "      <th></th>\n",
       "      <th>CreditScore</th>\n",
       "      <th>Age</th>\n",
       "      <th>Balance</th>\n",
       "      <th>EstimatedSalary</th>\n",
       "    </tr>\n",
       "  </thead>\n",
       "  <tbody>\n",
       "    <tr>\n",
       "      <th>0</th>\n",
       "      <td>0.015819</td>\n",
       "      <td>-1.026039e-01</td>\n",
       "      <td>-3.632595e-01</td>\n",
       "      <td>0.005795</td>\n",
       "    </tr>\n",
       "    <tr>\n",
       "      <th>1</th>\n",
       "      <td>0.113688</td>\n",
       "      <td>8.126829e-25</td>\n",
       "      <td>1.281968e-309</td>\n",
       "      <td>0.562329</td>\n",
       "    </tr>\n",
       "  </tbody>\n",
       "</table>\n",
       "</div>"
      ],
      "text/plain": [
       "   CreditScore           Age        Balance  EstimatedSalary\n",
       "0     0.015819 -1.026039e-01  -3.632595e-01         0.005795\n",
       "1     0.113688  8.126829e-25  1.281968e-309         0.562329"
      ]
     },
     "execution_count": 44,
     "metadata": {},
     "output_type": "execute_result"
    }
   ],
   "source": [
    "df[['CreditScore', 'Age','Balance','EstimatedSalary']].corrwith(df['NumOfProducts_2'].astype('float'), method=stats.pointbiserialr)"
   ]
  },
  {
   "cell_type": "markdown",
   "id": "a3ec15e5",
   "metadata": {},
   "source": [
    "### NumOfProducts_3"
   ]
  },
  {
   "cell_type": "code",
   "execution_count": 45,
   "id": "e8031ea7",
   "metadata": {},
   "outputs": [
    {
     "data": {
      "text/html": [
       "<div>\n",
       "<style scoped>\n",
       "    .dataframe tbody tr th:only-of-type {\n",
       "        vertical-align: middle;\n",
       "    }\n",
       "\n",
       "    .dataframe tbody tr th {\n",
       "        vertical-align: top;\n",
       "    }\n",
       "\n",
       "    .dataframe thead th {\n",
       "        text-align: right;\n",
       "    }\n",
       "</style>\n",
       "<table border=\"1\" class=\"dataframe\">\n",
       "  <thead>\n",
       "    <tr style=\"text-align: right;\">\n",
       "      <th></th>\n",
       "      <th>CreditScore</th>\n",
       "      <th>Age</th>\n",
       "      <th>Balance</th>\n",
       "      <th>EstimatedSalary</th>\n",
       "    </tr>\n",
       "  </thead>\n",
       "  <tbody>\n",
       "    <tr>\n",
       "      <th>0</th>\n",
       "      <td>-0.004145</td>\n",
       "      <td>6.736512e-02</td>\n",
       "      <td>-0.002722</td>\n",
       "      <td>0.012153</td>\n",
       "    </tr>\n",
       "    <tr>\n",
       "      <th>1</th>\n",
       "      <td>0.678527</td>\n",
       "      <td>1.547966e-11</td>\n",
       "      <td>0.785460</td>\n",
       "      <td>0.224282</td>\n",
       "    </tr>\n",
       "  </tbody>\n",
       "</table>\n",
       "</div>"
      ],
      "text/plain": [
       "   CreditScore           Age   Balance  EstimatedSalary\n",
       "0    -0.004145  6.736512e-02 -0.002722         0.012153\n",
       "1     0.678527  1.547966e-11  0.785460         0.224282"
      ]
     },
     "execution_count": 45,
     "metadata": {},
     "output_type": "execute_result"
    }
   ],
   "source": [
    "df[['CreditScore', 'Age','Balance','EstimatedSalary']].corrwith(df['NumOfProducts_3'].astype('float'), method=stats.pointbiserialr)"
   ]
  },
  {
   "cell_type": "markdown",
   "id": "739ddbe5",
   "metadata": {},
   "source": [
    "### NumOfProducts_4"
   ]
  },
  {
   "cell_type": "code",
   "execution_count": 46,
   "id": "bc85892e",
   "metadata": {
    "scrolled": true
   },
   "outputs": [
    {
     "data": {
      "text/html": [
       "<div>\n",
       "<style scoped>\n",
       "    .dataframe tbody tr th:only-of-type {\n",
       "        vertical-align: middle;\n",
       "    }\n",
       "\n",
       "    .dataframe tbody tr th {\n",
       "        vertical-align: top;\n",
       "    }\n",
       "\n",
       "    .dataframe thead th {\n",
       "        text-align: right;\n",
       "    }\n",
       "</style>\n",
       "<table border=\"1\" class=\"dataframe\">\n",
       "  <thead>\n",
       "    <tr style=\"text-align: right;\">\n",
       "      <th></th>\n",
       "      <th>CreditScore</th>\n",
       "      <th>Age</th>\n",
       "      <th>Balance</th>\n",
       "      <th>EstimatedSalary</th>\n",
       "    </tr>\n",
       "  </thead>\n",
       "  <tbody>\n",
       "    <tr>\n",
       "      <th>0</th>\n",
       "      <td>0.002455</td>\n",
       "      <td>5.009157e-02</td>\n",
       "      <td>0.021476</td>\n",
       "      <td>0.006314</td>\n",
       "    </tr>\n",
       "    <tr>\n",
       "      <th>1</th>\n",
       "      <td>0.806057</td>\n",
       "      <td>5.395763e-07</td>\n",
       "      <td>0.031746</td>\n",
       "      <td>0.527833</td>\n",
       "    </tr>\n",
       "  </tbody>\n",
       "</table>\n",
       "</div>"
      ],
      "text/plain": [
       "   CreditScore           Age   Balance  EstimatedSalary\n",
       "0     0.002455  5.009157e-02  0.021476         0.006314\n",
       "1     0.806057  5.395763e-07  0.031746         0.527833"
      ]
     },
     "execution_count": 46,
     "metadata": {},
     "output_type": "execute_result"
    }
   ],
   "source": [
    "df[['CreditScore', 'Age','Balance','EstimatedSalary']].corrwith(df['NumOfProducts_4'].astype('float'), method=stats.pointbiserialr)"
   ]
  },
  {
   "cell_type": "markdown",
   "id": "bd3b2637",
   "metadata": {},
   "source": [
    "## Histograms of continuous variables"
   ]
  },
  {
   "cell_type": "code",
   "execution_count": 47,
   "id": "cd83c854",
   "metadata": {
    "scrolled": true
   },
   "outputs": [
    {
     "data": {
      "image/png": "[encoded data removed]",
      "text/plain": [
       "<Figure size 800x300 with 1 Axes>"
      ]
     },
     "metadata": {},
     "output_type": "display_data"
    },
    {
     "data": {
      "image/png": "[encoded data removed]",
      "text/plain": [
       "<Figure size 800x300 with 1 Axes>"
      ]
     },
     "metadata": {},
     "output_type": "display_data"
    },
    {
     "data": {
      "image/png": "[encoded data removed]",
      "text/plain": [
       "<Figure size 800x300 with 1 Axes>"
      ]
     },
     "metadata": {},
     "output_type": "display_data"
    },
    {
     "data": {
      "image/png": "[encoded data removed]",
      "text/plain": [
       "<Figure size 800x300 with 1 Axes>"
      ]
     },
     "metadata": {},
     "output_type": "display_data"
    }
   ],
   "source": [
    "# Observe distributions on continuous features with histograms\n",
    "for i in summ_stat.columns:\n",
    "    plt.figure(figsize=(8,3))\n",
    "    plt.title(f'{i}')\n",
    "    plt.hist(summ_stat[i], bins=35)"
   ]
  },
  {
   "cell_type": "markdown",
   "id": "23209b98",
   "metadata": {},
   "source": [
    "- CreditScore is bimodal with negative skew. Mean (650) and Median (652) are relatively consistent; however, the mode is the maximum credit score value of 850, which could be the cause in the skewed data. These values may need to be looked at separately than the rest of the credit score.\n",
    "- Age is unimodal with a positive skew and is leptokurtic with a very sharp peak. Median and mode are both 37 with mean slightly to the right at approximately 39.\n",
    "- Balance looks to have a realtively normal distribution if 0 is excluded from the balance value. The mean value of approximately 76,500 is impacted by the mode value of 0. The median balance is approximately 97,000.\n",
    "- EstimatedSalary is relatively uniform in distribution. The mean and median are approximately 100,000 with a min close to 0 and max of nearly 200,000. However, the mode is approximately 25,000."
   ]
  },
  {
   "cell_type": "markdown",
   "id": "e456e5c8",
   "metadata": {},
   "source": [
    "## Box plots of continuous variables"
   ]
  },
  {
   "cell_type": "code",
   "execution_count": 48,
   "id": "b2f0ad6c",
   "metadata": {},
   "outputs": [
    {
     "data": {
      "image/png": "[encoded data removed]",
      "text/plain": [
       "<Figure size 200x300 with 1 Axes>"
      ]
     },
     "metadata": {},
     "output_type": "display_data"
    },
    {
     "data": {
      "image/png": "[encoded data removed]",
      "text/plain": [
       "<Figure size 200x300 with 1 Axes>"
      ]
     },
     "metadata": {},
     "output_type": "display_data"
    },
    {
     "data": {
      "image/png": "[encoded data removed]",
      "text/plain": [
       "<Figure size 200x300 with 1 Axes>"
      ]
     },
     "metadata": {},
     "output_type": "display_data"
    },
    {
     "data": {
      "image/png": "[encoded data removed]",
      "text/plain": [
       "<Figure size 200x300 with 1 Axes>"
      ]
     },
     "metadata": {},
     "output_type": "display_data"
    }
   ],
   "source": [
    "# Plot box plots of continuous variables\n",
    "for i in summ_stat.columns:\n",
    "    plt.figure(figsize=(2,3))\n",
    "    plt.title(f'{i}')\n",
    "    plt.boxplot(summ_stat[i])"
   ]
  },
  {
   "cell_type": "markdown",
   "id": "a80d09cd",
   "metadata": {},
   "source": [
    "# Transformations"
   ]
  },
  {
   "cell_type": "markdown",
   "id": "7e7e2cdd",
   "metadata": {},
   "source": [
    "## Adjust for skewness of Age feature by applying log transformation."
   ]
  },
  {
   "cell_type": "code",
   "execution_count": 49,
   "id": "982ff0d1",
   "metadata": {},
   "outputs": [],
   "source": [
    "# Create new datafrome for columns to apply log transformations\n",
    "log_data = np.log(summ_stat[['CreditScore','Age']]) "
   ]
  },
  {
   "cell_type": "code",
   "execution_count": 50,
   "id": "ad4f1c5e",
   "metadata": {},
   "outputs": [
    {
     "data": {
      "image/png": "[encoded data removed]",
      "text/plain": [
       "<Figure size 800x300 with 1 Axes>"
      ]
     },
     "metadata": {},
     "output_type": "display_data"
    }
   ],
   "source": [
    "# Plot histogram of Age with log transformation\n",
    "plt.figure(figsize=(8,3))\n",
    "plt.title('Age with Log Transformation')\n",
    "plt.hist(log_data['Age'], bins=20)\n",
    "plt.show()"
   ]
  },
  {
   "cell_type": "code",
   "execution_count": 51,
   "id": "644a28ae",
   "metadata": {},
   "outputs": [
    {
     "data": {
      "image/png": "[encoded data removed]",
      "text/plain": [
       "<Figure size 800x300 with 1 Axes>"
      ]
     },
     "metadata": {},
     "output_type": "display_data"
    }
   ],
   "source": [
    "# Plot histogram of Age without log transformation for comparision\n",
    "plt.figure(figsize=(8,3))\n",
    "plt.title('Age')\n",
    "plt.hist(summ_stat['Age'], bins=20)\n",
    "plt.show()"
   ]
  },
  {
   "cell_type": "code",
   "execution_count": 52,
   "id": "0c59b1e5",
   "metadata": {},
   "outputs": [
    {
     "data": {
      "image/png": "[encoded data removed]",
      "text/plain": [
       "<Figure size 200x300 with 1 Axes>"
      ]
     },
     "metadata": {},
     "output_type": "display_data"
    }
   ],
   "source": [
    "# Plot boxplot of Age with log transformation\n",
    "plt.figure(figsize=(2,3))\n",
    "plt.title('Box Plot of Age Log Transformed')\n",
    "plt.boxplot(log_data['Age'])\n",
    "plt.show()"
   ]
  },
  {
   "cell_type": "markdown",
   "id": "8cc73d2e",
   "metadata": {},
   "source": [
    "Although there are still some outliers and slight positive skewness, the log transformation did reduce the skew. I will replace Age with Age_log."
   ]
  },
  {
   "cell_type": "markdown",
   "id": "8bd3e10e",
   "metadata": {},
   "source": [
    "## Add Age_log to data frame and drop Age"
   ]
  },
  {
   "cell_type": "code",
   "execution_count": 53,
   "id": "56346e16",
   "metadata": {},
   "outputs": [],
   "source": [
    "extracted_col = log_data[\"Age\"] \n",
    "df1 = df.copy(deep=True)\n",
    "df1.insert(2, \"Age_log\", extracted_col) \n",
    "df1.drop('Age', axis=1, inplace= True)"
   ]
  },
  {
   "cell_type": "code",
   "execution_count": 54,
   "id": "cb847e27",
   "metadata": {},
   "outputs": [
    {
     "data": {
      "text/html": [
       "<div>\n",
       "<style scoped>\n",
       "    .dataframe tbody tr th:only-of-type {\n",
       "        vertical-align: middle;\n",
       "    }\n",
       "\n",
       "    .dataframe tbody tr th {\n",
       "        vertical-align: top;\n",
       "    }\n",
       "\n",
       "    .dataframe thead th {\n",
       "        text-align: right;\n",
       "    }\n",
       "</style>\n",
       "<table border=\"1\" class=\"dataframe\">\n",
       "  <thead>\n",
       "    <tr style=\"text-align: right;\">\n",
       "      <th></th>\n",
       "      <th>CreditScore</th>\n",
       "      <th>Gender</th>\n",
       "      <th>Age_log</th>\n",
       "      <th>Balance</th>\n",
       "      <th>HasCrCard</th>\n",
       "      <th>IsActiveMember</th>\n",
       "      <th>EstimatedSalary</th>\n",
       "      <th>Exited</th>\n",
       "      <th>Geography_France</th>\n",
       "      <th>Geography_Germany</th>\n",
       "      <th>Geography_Spain</th>\n",
       "      <th>Tenure_0</th>\n",
       "      <th>Tenure_1</th>\n",
       "      <th>Tenure_2</th>\n",
       "      <th>Tenure_3</th>\n",
       "      <th>Tenure_4</th>\n",
       "      <th>Tenure_5</th>\n",
       "      <th>Tenure_6</th>\n",
       "      <th>Tenure_7</th>\n",
       "      <th>Tenure_8</th>\n",
       "      <th>Tenure_9</th>\n",
       "      <th>Tenure_10</th>\n",
       "      <th>NumOfProducts_1</th>\n",
       "      <th>NumOfProducts_2</th>\n",
       "      <th>NumOfProducts_3</th>\n",
       "      <th>NumOfProducts_4</th>\n",
       "    </tr>\n",
       "  </thead>\n",
       "  <tbody>\n",
       "    <tr>\n",
       "      <th>0</th>\n",
       "      <td>619</td>\n",
       "      <td>0</td>\n",
       "      <td>3.737670</td>\n",
       "      <td>0.00</td>\n",
       "      <td>1</td>\n",
       "      <td>1</td>\n",
       "      <td>101348.88</td>\n",
       "      <td>1</td>\n",
       "      <td>1</td>\n",
       "      <td>0</td>\n",
       "      <td>0</td>\n",
       "      <td>0</td>\n",
       "      <td>0</td>\n",
       "      <td>1</td>\n",
       "      <td>0</td>\n",
       "      <td>0</td>\n",
       "      <td>0</td>\n",
       "      <td>0</td>\n",
       "      <td>0</td>\n",
       "      <td>0</td>\n",
       "      <td>0</td>\n",
       "      <td>0</td>\n",
       "      <td>1</td>\n",
       "      <td>0</td>\n",
       "      <td>0</td>\n",
       "      <td>0</td>\n",
       "    </tr>\n",
       "    <tr>\n",
       "      <th>1</th>\n",
       "      <td>608</td>\n",
       "      <td>0</td>\n",
       "      <td>3.713572</td>\n",
       "      <td>83807.86</td>\n",
       "      <td>0</td>\n",
       "      <td>1</td>\n",
       "      <td>112542.58</td>\n",
       "      <td>0</td>\n",
       "      <td>0</td>\n",
       "      <td>0</td>\n",
       "      <td>1</td>\n",
       "      <td>0</td>\n",
       "      <td>1</td>\n",
       "      <td>0</td>\n",
       "      <td>0</td>\n",
       "      <td>0</td>\n",
       "      <td>0</td>\n",
       "      <td>0</td>\n",
       "      <td>0</td>\n",
       "      <td>0</td>\n",
       "      <td>0</td>\n",
       "      <td>0</td>\n",
       "      <td>1</td>\n",
       "      <td>0</td>\n",
       "      <td>0</td>\n",
       "      <td>0</td>\n",
       "    </tr>\n",
       "    <tr>\n",
       "      <th>2</th>\n",
       "      <td>502</td>\n",
       "      <td>0</td>\n",
       "      <td>3.737670</td>\n",
       "      <td>159660.80</td>\n",
       "      <td>1</td>\n",
       "      <td>0</td>\n",
       "      <td>113931.57</td>\n",
       "      <td>1</td>\n",
       "      <td>1</td>\n",
       "      <td>0</td>\n",
       "      <td>0</td>\n",
       "      <td>0</td>\n",
       "      <td>0</td>\n",
       "      <td>0</td>\n",
       "      <td>0</td>\n",
       "      <td>0</td>\n",
       "      <td>0</td>\n",
       "      <td>0</td>\n",
       "      <td>0</td>\n",
       "      <td>1</td>\n",
       "      <td>0</td>\n",
       "      <td>0</td>\n",
       "      <td>0</td>\n",
       "      <td>0</td>\n",
       "      <td>1</td>\n",
       "      <td>0</td>\n",
       "    </tr>\n",
       "    <tr>\n",
       "      <th>3</th>\n",
       "      <td>699</td>\n",
       "      <td>0</td>\n",
       "      <td>3.663562</td>\n",
       "      <td>0.00</td>\n",
       "      <td>0</td>\n",
       "      <td>0</td>\n",
       "      <td>93826.63</td>\n",
       "      <td>0</td>\n",
       "      <td>1</td>\n",
       "      <td>0</td>\n",
       "      <td>0</td>\n",
       "      <td>0</td>\n",
       "      <td>1</td>\n",
       "      <td>0</td>\n",
       "      <td>0</td>\n",
       "      <td>0</td>\n",
       "      <td>0</td>\n",
       "      <td>0</td>\n",
       "      <td>0</td>\n",
       "      <td>0</td>\n",
       "      <td>0</td>\n",
       "      <td>0</td>\n",
       "      <td>0</td>\n",
       "      <td>1</td>\n",
       "      <td>0</td>\n",
       "      <td>0</td>\n",
       "    </tr>\n",
       "    <tr>\n",
       "      <th>4</th>\n",
       "      <td>850</td>\n",
       "      <td>0</td>\n",
       "      <td>3.761200</td>\n",
       "      <td>125510.82</td>\n",
       "      <td>1</td>\n",
       "      <td>1</td>\n",
       "      <td>79084.10</td>\n",
       "      <td>0</td>\n",
       "      <td>0</td>\n",
       "      <td>0</td>\n",
       "      <td>1</td>\n",
       "      <td>0</td>\n",
       "      <td>0</td>\n",
       "      <td>1</td>\n",
       "      <td>0</td>\n",
       "      <td>0</td>\n",
       "      <td>0</td>\n",
       "      <td>0</td>\n",
       "      <td>0</td>\n",
       "      <td>0</td>\n",
       "      <td>0</td>\n",
       "      <td>0</td>\n",
       "      <td>1</td>\n",
       "      <td>0</td>\n",
       "      <td>0</td>\n",
       "      <td>0</td>\n",
       "    </tr>\n",
       "  </tbody>\n",
       "</table>\n",
       "</div>"
      ],
      "text/plain": [
       "   CreditScore  Gender   Age_log    Balance  HasCrCard  IsActiveMember  \\\n",
       "0          619       0  3.737670       0.00          1               1   \n",
       "1          608       0  3.713572   83807.86          0               1   \n",
       "2          502       0  3.737670  159660.80          1               0   \n",
       "3          699       0  3.663562       0.00          0               0   \n",
       "4          850       0  3.761200  125510.82          1               1   \n",
       "\n",
       "   EstimatedSalary  Exited  Geography_France  Geography_Germany  \\\n",
       "0        101348.88       1                 1                  0   \n",
       "1        112542.58       0                 0                  0   \n",
       "2        113931.57       1                 1                  0   \n",
       "3         93826.63       0                 1                  0   \n",
       "4         79084.10       0                 0                  0   \n",
       "\n",
       "   Geography_Spain  Tenure_0  Tenure_1  Tenure_2  Tenure_3  Tenure_4  \\\n",
       "0                0         0         0         1         0         0   \n",
       "1                1         0         1         0         0         0   \n",
       "2                0         0         0         0         0         0   \n",
       "3                0         0         1         0         0         0   \n",
       "4                1         0         0         1         0         0   \n",
       "\n",
       "   Tenure_5  Tenure_6  Tenure_7  Tenure_8  Tenure_9  Tenure_10  \\\n",
       "0         0         0         0         0         0          0   \n",
       "1         0         0         0         0         0          0   \n",
       "2         0         0         0         1         0          0   \n",
       "3         0         0         0         0         0          0   \n",
       "4         0         0         0         0         0          0   \n",
       "\n",
       "   NumOfProducts_1  NumOfProducts_2  NumOfProducts_3  NumOfProducts_4  \n",
       "0                1                0                0                0  \n",
       "1                1                0                0                0  \n",
       "2                0                0                1                0  \n",
       "3                0                1                0                0  \n",
       "4                1                0                0                0  "
      ]
     },
     "execution_count": 54,
     "metadata": {},
     "output_type": "execute_result"
    }
   ],
   "source": [
    "# View df1 to verify column adjustment\n",
    "df1.head()"
   ]
  },
  {
   "cell_type": "markdown",
   "id": "76eb4099",
   "metadata": {},
   "source": [
    "# Balance Feature Options"
   ]
  },
  {
   "cell_type": "markdown",
   "id": "ceab53f6",
   "metadata": {},
   "source": [
    "## Create dataframes for options"
   ]
  },
  {
   "cell_type": "markdown",
   "id": "10cde467",
   "metadata": {},
   "source": [
    "### Option 2 for balance variable: Drop all 0 of log transformed Balance"
   ]
  },
  {
   "cell_type": "code",
   "execution_count": 55,
   "id": "f7119ce4",
   "metadata": {},
   "outputs": [],
   "source": [
    "# Copy df1 as df2\n",
    "df2 = df1.copy(deep=True)"
   ]
  },
  {
   "cell_type": "code",
   "execution_count": 56,
   "id": "adc49dc1",
   "metadata": {},
   "outputs": [],
   "source": [
    "# Replance all 0 Balances wit NaN\n",
    "df2['Balance'].replace(0, np.nan, inplace=True)"
   ]
  },
  {
   "cell_type": "code",
   "execution_count": 57,
   "id": "59ca5154",
   "metadata": {},
   "outputs": [],
   "source": [
    "# Drop the NaN values\n",
    "df2=df2.dropna()"
   ]
  },
  {
   "cell_type": "code",
   "execution_count": 58,
   "id": "2e96f54d",
   "metadata": {},
   "outputs": [
    {
     "data": {
      "text/html": [
       "<div>\n",
       "<style scoped>\n",
       "    .dataframe tbody tr th:only-of-type {\n",
       "        vertical-align: middle;\n",
       "    }\n",
       "\n",
       "    .dataframe tbody tr th {\n",
       "        vertical-align: top;\n",
       "    }\n",
       "\n",
       "    .dataframe thead th {\n",
       "        text-align: right;\n",
       "    }\n",
       "</style>\n",
       "<table border=\"1\" class=\"dataframe\">\n",
       "  <thead>\n",
       "    <tr style=\"text-align: right;\">\n",
       "      <th></th>\n",
       "      <th>CreditScore</th>\n",
       "      <th>Gender</th>\n",
       "      <th>Age_log</th>\n",
       "      <th>Balance</th>\n",
       "      <th>HasCrCard</th>\n",
       "      <th>IsActiveMember</th>\n",
       "      <th>EstimatedSalary</th>\n",
       "      <th>Exited</th>\n",
       "      <th>Geography_France</th>\n",
       "      <th>Geography_Germany</th>\n",
       "      <th>Geography_Spain</th>\n",
       "      <th>Tenure_0</th>\n",
       "      <th>Tenure_1</th>\n",
       "      <th>Tenure_2</th>\n",
       "      <th>Tenure_3</th>\n",
       "      <th>Tenure_4</th>\n",
       "      <th>Tenure_5</th>\n",
       "      <th>Tenure_6</th>\n",
       "      <th>Tenure_7</th>\n",
       "      <th>Tenure_8</th>\n",
       "      <th>Tenure_9</th>\n",
       "      <th>Tenure_10</th>\n",
       "      <th>NumOfProducts_1</th>\n",
       "      <th>NumOfProducts_2</th>\n",
       "      <th>NumOfProducts_3</th>\n",
       "      <th>NumOfProducts_4</th>\n",
       "    </tr>\n",
       "  </thead>\n",
       "  <tbody>\n",
       "    <tr>\n",
       "      <th>1</th>\n",
       "      <td>608</td>\n",
       "      <td>0</td>\n",
       "      <td>3.713572</td>\n",
       "      <td>83807.86</td>\n",
       "      <td>0</td>\n",
       "      <td>1</td>\n",
       "      <td>112542.58</td>\n",
       "      <td>0</td>\n",
       "      <td>0</td>\n",
       "      <td>0</td>\n",
       "      <td>1</td>\n",
       "      <td>0</td>\n",
       "      <td>1</td>\n",
       "      <td>0</td>\n",
       "      <td>0</td>\n",
       "      <td>0</td>\n",
       "      <td>0</td>\n",
       "      <td>0</td>\n",
       "      <td>0</td>\n",
       "      <td>0</td>\n",
       "      <td>0</td>\n",
       "      <td>0</td>\n",
       "      <td>1</td>\n",
       "      <td>0</td>\n",
       "      <td>0</td>\n",
       "      <td>0</td>\n",
       "    </tr>\n",
       "    <tr>\n",
       "      <th>2</th>\n",
       "      <td>502</td>\n",
       "      <td>0</td>\n",
       "      <td>3.737670</td>\n",
       "      <td>159660.80</td>\n",
       "      <td>1</td>\n",
       "      <td>0</td>\n",
       "      <td>113931.57</td>\n",
       "      <td>1</td>\n",
       "      <td>1</td>\n",
       "      <td>0</td>\n",
       "      <td>0</td>\n",
       "      <td>0</td>\n",
       "      <td>0</td>\n",
       "      <td>0</td>\n",
       "      <td>0</td>\n",
       "      <td>0</td>\n",
       "      <td>0</td>\n",
       "      <td>0</td>\n",
       "      <td>0</td>\n",
       "      <td>1</td>\n",
       "      <td>0</td>\n",
       "      <td>0</td>\n",
       "      <td>0</td>\n",
       "      <td>0</td>\n",
       "      <td>1</td>\n",
       "      <td>0</td>\n",
       "    </tr>\n",
       "    <tr>\n",
       "      <th>4</th>\n",
       "      <td>850</td>\n",
       "      <td>0</td>\n",
       "      <td>3.761200</td>\n",
       "      <td>125510.82</td>\n",
       "      <td>1</td>\n",
       "      <td>1</td>\n",
       "      <td>79084.10</td>\n",
       "      <td>0</td>\n",
       "      <td>0</td>\n",
       "      <td>0</td>\n",
       "      <td>1</td>\n",
       "      <td>0</td>\n",
       "      <td>0</td>\n",
       "      <td>1</td>\n",
       "      <td>0</td>\n",
       "      <td>0</td>\n",
       "      <td>0</td>\n",
       "      <td>0</td>\n",
       "      <td>0</td>\n",
       "      <td>0</td>\n",
       "      <td>0</td>\n",
       "      <td>0</td>\n",
       "      <td>1</td>\n",
       "      <td>0</td>\n",
       "      <td>0</td>\n",
       "      <td>0</td>\n",
       "    </tr>\n",
       "    <tr>\n",
       "      <th>5</th>\n",
       "      <td>645</td>\n",
       "      <td>1</td>\n",
       "      <td>3.784190</td>\n",
       "      <td>113755.78</td>\n",
       "      <td>1</td>\n",
       "      <td>0</td>\n",
       "      <td>149756.71</td>\n",
       "      <td>1</td>\n",
       "      <td>0</td>\n",
       "      <td>0</td>\n",
       "      <td>1</td>\n",
       "      <td>0</td>\n",
       "      <td>0</td>\n",
       "      <td>0</td>\n",
       "      <td>0</td>\n",
       "      <td>0</td>\n",
       "      <td>0</td>\n",
       "      <td>0</td>\n",
       "      <td>0</td>\n",
       "      <td>1</td>\n",
       "      <td>0</td>\n",
       "      <td>0</td>\n",
       "      <td>0</td>\n",
       "      <td>1</td>\n",
       "      <td>0</td>\n",
       "      <td>0</td>\n",
       "    </tr>\n",
       "    <tr>\n",
       "      <th>7</th>\n",
       "      <td>376</td>\n",
       "      <td>0</td>\n",
       "      <td>3.367296</td>\n",
       "      <td>115046.74</td>\n",
       "      <td>1</td>\n",
       "      <td>0</td>\n",
       "      <td>119346.88</td>\n",
       "      <td>1</td>\n",
       "      <td>0</td>\n",
       "      <td>1</td>\n",
       "      <td>0</td>\n",
       "      <td>0</td>\n",
       "      <td>0</td>\n",
       "      <td>0</td>\n",
       "      <td>0</td>\n",
       "      <td>1</td>\n",
       "      <td>0</td>\n",
       "      <td>0</td>\n",
       "      <td>0</td>\n",
       "      <td>0</td>\n",
       "      <td>0</td>\n",
       "      <td>0</td>\n",
       "      <td>0</td>\n",
       "      <td>0</td>\n",
       "      <td>0</td>\n",
       "      <td>1</td>\n",
       "    </tr>\n",
       "  </tbody>\n",
       "</table>\n",
       "</div>"
      ],
      "text/plain": [
       "   CreditScore  Gender   Age_log    Balance  HasCrCard  IsActiveMember  \\\n",
       "1          608       0  3.713572   83807.86          0               1   \n",
       "2          502       0  3.737670  159660.80          1               0   \n",
       "4          850       0  3.761200  125510.82          1               1   \n",
       "5          645       1  3.784190  113755.78          1               0   \n",
       "7          376       0  3.367296  115046.74          1               0   \n",
       "\n",
       "   EstimatedSalary  Exited  Geography_France  Geography_Germany  \\\n",
       "1        112542.58       0                 0                  0   \n",
       "2        113931.57       1                 1                  0   \n",
       "4         79084.10       0                 0                  0   \n",
       "5        149756.71       1                 0                  0   \n",
       "7        119346.88       1                 0                  1   \n",
       "\n",
       "   Geography_Spain  Tenure_0  Tenure_1  Tenure_2  Tenure_3  Tenure_4  \\\n",
       "1                1         0         1         0         0         0   \n",
       "2                0         0         0         0         0         0   \n",
       "4                1         0         0         1         0         0   \n",
       "5                1         0         0         0         0         0   \n",
       "7                0         0         0         0         0         1   \n",
       "\n",
       "   Tenure_5  Tenure_6  Tenure_7  Tenure_8  Tenure_9  Tenure_10  \\\n",
       "1         0         0         0         0         0          0   \n",
       "2         0         0         0         1         0          0   \n",
       "4         0         0         0         0         0          0   \n",
       "5         0         0         0         1         0          0   \n",
       "7         0         0         0         0         0          0   \n",
       "\n",
       "   NumOfProducts_1  NumOfProducts_2  NumOfProducts_3  NumOfProducts_4  \n",
       "1                1                0                0                0  \n",
       "2                0                0                1                0  \n",
       "4                1                0                0                0  \n",
       "5                0                1                0                0  \n",
       "7                0                0                0                1  "
      ]
     },
     "execution_count": 58,
     "metadata": {},
     "output_type": "execute_result"
    }
   ],
   "source": [
    "# View df2 to verify zero balance rows are dropped\n",
    "df2.head()"
   ]
  },
  {
   "cell_type": "code",
   "execution_count": 59,
   "id": "ee11e909",
   "metadata": {},
   "outputs": [
    {
     "data": {
      "image/png": "[encoded data removed]",
      "text/plain": [
       "<Figure size 800x300 with 1 Axes>"
      ]
     },
     "metadata": {},
     "output_type": "display_data"
    }
   ],
   "source": [
    "# Plot histogram of Balance without zero balance.\n",
    "plt.figure(figsize=(8,3))\n",
    "plt.title('Balance')\n",
    "plt.hist(df2['Balance'], bins=20)\n",
    "plt.show()"
   ]
  },
  {
   "cell_type": "code",
   "execution_count": 60,
   "id": "6aefde6a",
   "metadata": {},
   "outputs": [
    {
     "data": {
      "text/plain": [
       "(6383, 26)"
      ]
     },
     "execution_count": 60,
     "metadata": {},
     "output_type": "execute_result"
    }
   ],
   "source": [
    "# View size of df2 after dropping zero balance rows.\n",
    "df2.shape"
   ]
  },
  {
   "cell_type": "markdown",
   "id": "d9bd0722",
   "metadata": {},
   "source": [
    "### Option 3 for balance variable: Convert 0 to 1 & log transform"
   ]
  },
  {
   "cell_type": "code",
   "execution_count": 61,
   "id": "e1e685d2",
   "metadata": {},
   "outputs": [],
   "source": [
    "# Create new dataframe\n",
    "df3 = df1.copy(deep=True)"
   ]
  },
  {
   "cell_type": "code",
   "execution_count": 62,
   "id": "2d863468",
   "metadata": {},
   "outputs": [
    {
     "data": {
      "text/html": [
       "<div>\n",
       "<style scoped>\n",
       "    .dataframe tbody tr th:only-of-type {\n",
       "        vertical-align: middle;\n",
       "    }\n",
       "\n",
       "    .dataframe tbody tr th {\n",
       "        vertical-align: top;\n",
       "    }\n",
       "\n",
       "    .dataframe thead th {\n",
       "        text-align: right;\n",
       "    }\n",
       "</style>\n",
       "<table border=\"1\" class=\"dataframe\">\n",
       "  <thead>\n",
       "    <tr style=\"text-align: right;\">\n",
       "      <th></th>\n",
       "      <th>CreditScore</th>\n",
       "      <th>Gender</th>\n",
       "      <th>Age_log</th>\n",
       "      <th>Balance</th>\n",
       "      <th>HasCrCard</th>\n",
       "      <th>IsActiveMember</th>\n",
       "      <th>EstimatedSalary</th>\n",
       "      <th>Exited</th>\n",
       "      <th>Geography_France</th>\n",
       "      <th>Geography_Germany</th>\n",
       "      <th>Geography_Spain</th>\n",
       "      <th>Tenure_0</th>\n",
       "      <th>Tenure_1</th>\n",
       "      <th>Tenure_2</th>\n",
       "      <th>Tenure_3</th>\n",
       "      <th>Tenure_4</th>\n",
       "      <th>Tenure_5</th>\n",
       "      <th>Tenure_6</th>\n",
       "      <th>Tenure_7</th>\n",
       "      <th>Tenure_8</th>\n",
       "      <th>Tenure_9</th>\n",
       "      <th>Tenure_10</th>\n",
       "      <th>NumOfProducts_1</th>\n",
       "      <th>NumOfProducts_2</th>\n",
       "      <th>NumOfProducts_3</th>\n",
       "      <th>NumOfProducts_4</th>\n",
       "    </tr>\n",
       "  </thead>\n",
       "  <tbody>\n",
       "    <tr>\n",
       "      <th>0</th>\n",
       "      <td>619</td>\n",
       "      <td>0</td>\n",
       "      <td>3.737670</td>\n",
       "      <td>0.00</td>\n",
       "      <td>1</td>\n",
       "      <td>1</td>\n",
       "      <td>101348.88</td>\n",
       "      <td>1</td>\n",
       "      <td>1</td>\n",
       "      <td>0</td>\n",
       "      <td>0</td>\n",
       "      <td>0</td>\n",
       "      <td>0</td>\n",
       "      <td>1</td>\n",
       "      <td>0</td>\n",
       "      <td>0</td>\n",
       "      <td>0</td>\n",
       "      <td>0</td>\n",
       "      <td>0</td>\n",
       "      <td>0</td>\n",
       "      <td>0</td>\n",
       "      <td>0</td>\n",
       "      <td>1</td>\n",
       "      <td>0</td>\n",
       "      <td>0</td>\n",
       "      <td>0</td>\n",
       "    </tr>\n",
       "    <tr>\n",
       "      <th>1</th>\n",
       "      <td>608</td>\n",
       "      <td>0</td>\n",
       "      <td>3.713572</td>\n",
       "      <td>83807.86</td>\n",
       "      <td>0</td>\n",
       "      <td>1</td>\n",
       "      <td>112542.58</td>\n",
       "      <td>0</td>\n",
       "      <td>0</td>\n",
       "      <td>0</td>\n",
       "      <td>1</td>\n",
       "      <td>0</td>\n",
       "      <td>1</td>\n",
       "      <td>0</td>\n",
       "      <td>0</td>\n",
       "      <td>0</td>\n",
       "      <td>0</td>\n",
       "      <td>0</td>\n",
       "      <td>0</td>\n",
       "      <td>0</td>\n",
       "      <td>0</td>\n",
       "      <td>0</td>\n",
       "      <td>1</td>\n",
       "      <td>0</td>\n",
       "      <td>0</td>\n",
       "      <td>0</td>\n",
       "    </tr>\n",
       "    <tr>\n",
       "      <th>2</th>\n",
       "      <td>502</td>\n",
       "      <td>0</td>\n",
       "      <td>3.737670</td>\n",
       "      <td>159660.80</td>\n",
       "      <td>1</td>\n",
       "      <td>0</td>\n",
       "      <td>113931.57</td>\n",
       "      <td>1</td>\n",
       "      <td>1</td>\n",
       "      <td>0</td>\n",
       "      <td>0</td>\n",
       "      <td>0</td>\n",
       "      <td>0</td>\n",
       "      <td>0</td>\n",
       "      <td>0</td>\n",
       "      <td>0</td>\n",
       "      <td>0</td>\n",
       "      <td>0</td>\n",
       "      <td>0</td>\n",
       "      <td>1</td>\n",
       "      <td>0</td>\n",
       "      <td>0</td>\n",
       "      <td>0</td>\n",
       "      <td>0</td>\n",
       "      <td>1</td>\n",
       "      <td>0</td>\n",
       "    </tr>\n",
       "    <tr>\n",
       "      <th>3</th>\n",
       "      <td>699</td>\n",
       "      <td>0</td>\n",
       "      <td>3.663562</td>\n",
       "      <td>0.00</td>\n",
       "      <td>0</td>\n",
       "      <td>0</td>\n",
       "      <td>93826.63</td>\n",
       "      <td>0</td>\n",
       "      <td>1</td>\n",
       "      <td>0</td>\n",
       "      <td>0</td>\n",
       "      <td>0</td>\n",
       "      <td>1</td>\n",
       "      <td>0</td>\n",
       "      <td>0</td>\n",
       "      <td>0</td>\n",
       "      <td>0</td>\n",
       "      <td>0</td>\n",
       "      <td>0</td>\n",
       "      <td>0</td>\n",
       "      <td>0</td>\n",
       "      <td>0</td>\n",
       "      <td>0</td>\n",
       "      <td>1</td>\n",
       "      <td>0</td>\n",
       "      <td>0</td>\n",
       "    </tr>\n",
       "    <tr>\n",
       "      <th>4</th>\n",
       "      <td>850</td>\n",
       "      <td>0</td>\n",
       "      <td>3.761200</td>\n",
       "      <td>125510.82</td>\n",
       "      <td>1</td>\n",
       "      <td>1</td>\n",
       "      <td>79084.10</td>\n",
       "      <td>0</td>\n",
       "      <td>0</td>\n",
       "      <td>0</td>\n",
       "      <td>1</td>\n",
       "      <td>0</td>\n",
       "      <td>0</td>\n",
       "      <td>1</td>\n",
       "      <td>0</td>\n",
       "      <td>0</td>\n",
       "      <td>0</td>\n",
       "      <td>0</td>\n",
       "      <td>0</td>\n",
       "      <td>0</td>\n",
       "      <td>0</td>\n",
       "      <td>0</td>\n",
       "      <td>1</td>\n",
       "      <td>0</td>\n",
       "      <td>0</td>\n",
       "      <td>0</td>\n",
       "    </tr>\n",
       "  </tbody>\n",
       "</table>\n",
       "</div>"
      ],
      "text/plain": [
       "   CreditScore  Gender   Age_log    Balance  HasCrCard  IsActiveMember  \\\n",
       "0          619       0  3.737670       0.00          1               1   \n",
       "1          608       0  3.713572   83807.86          0               1   \n",
       "2          502       0  3.737670  159660.80          1               0   \n",
       "3          699       0  3.663562       0.00          0               0   \n",
       "4          850       0  3.761200  125510.82          1               1   \n",
       "\n",
       "   EstimatedSalary  Exited  Geography_France  Geography_Germany  \\\n",
       "0        101348.88       1                 1                  0   \n",
       "1        112542.58       0                 0                  0   \n",
       "2        113931.57       1                 1                  0   \n",
       "3         93826.63       0                 1                  0   \n",
       "4         79084.10       0                 0                  0   \n",
       "\n",
       "   Geography_Spain  Tenure_0  Tenure_1  Tenure_2  Tenure_3  Tenure_4  \\\n",
       "0                0         0         0         1         0         0   \n",
       "1                1         0         1         0         0         0   \n",
       "2                0         0         0         0         0         0   \n",
       "3                0         0         1         0         0         0   \n",
       "4                1         0         0         1         0         0   \n",
       "\n",
       "   Tenure_5  Tenure_6  Tenure_7  Tenure_8  Tenure_9  Tenure_10  \\\n",
       "0         0         0         0         0         0          0   \n",
       "1         0         0         0         0         0          0   \n",
       "2         0         0         0         1         0          0   \n",
       "3         0         0         0         0         0          0   \n",
       "4         0         0         0         0         0          0   \n",
       "\n",
       "   NumOfProducts_1  NumOfProducts_2  NumOfProducts_3  NumOfProducts_4  \n",
       "0                1                0                0                0  \n",
       "1                1                0                0                0  \n",
       "2                0                0                1                0  \n",
       "3                0                1                0                0  \n",
       "4                1                0                0                0  "
      ]
     },
     "execution_count": 62,
     "metadata": {},
     "output_type": "execute_result"
    }
   ],
   "source": [
    "# View df3\n",
    "df3.head()"
   ]
  },
  {
   "cell_type": "code",
   "execution_count": 63,
   "id": "bd36dcbf",
   "metadata": {},
   "outputs": [],
   "source": [
    "# Replace all 0 balances with NaN\n",
    "df3['Balance'].replace(0, np.nan, inplace=True)"
   ]
  },
  {
   "cell_type": "code",
   "execution_count": 64,
   "id": "49f2776e",
   "metadata": {},
   "outputs": [],
   "source": [
    "# Replace all NaN with 1\n",
    "df3['Balance']=df3['Balance'].fillna(1)"
   ]
  },
  {
   "cell_type": "code",
   "execution_count": 65,
   "id": "5be120cc",
   "metadata": {},
   "outputs": [],
   "source": [
    "# Take the log transformation of the new Balance column\n",
    "log_Bal = np.log(df3['Balance']) "
   ]
  },
  {
   "cell_type": "code",
   "execution_count": 66,
   "id": "c51ae1c5",
   "metadata": {},
   "outputs": [],
   "source": [
    "# Insert the log transformed Balance column into the new dataframe\n",
    "df3.insert(4, \"Balance_log\", log_Bal)\n",
    "\n",
    "# Drop the Balance feature\n",
    "df3=df3.drop('Balance', axis=1)"
   ]
  },
  {
   "cell_type": "code",
   "execution_count": 67,
   "id": "0ade8344",
   "metadata": {},
   "outputs": [
    {
     "data": {
      "image/png": "[encoded data removed]",
      "text/plain": [
       "<Figure size 800x300 with 1 Axes>"
      ]
     },
     "metadata": {},
     "output_type": "display_data"
    }
   ],
   "source": [
    "# View the distribution of the log transformed variable\n",
    "plt.figure(figsize=(8,3))\n",
    "plt.title('Balance with Log Transformation')\n",
    "plt.hist(df3['Balance_log'], bins=50)\n",
    "plt.show()"
   ]
  },
  {
   "cell_type": "code",
   "execution_count": 68,
   "id": "e53f2f6e",
   "metadata": {},
   "outputs": [
    {
     "data": {
      "text/html": [
       "<div>\n",
       "<style scoped>\n",
       "    .dataframe tbody tr th:only-of-type {\n",
       "        vertical-align: middle;\n",
       "    }\n",
       "\n",
       "    .dataframe tbody tr th {\n",
       "        vertical-align: top;\n",
       "    }\n",
       "\n",
       "    .dataframe thead th {\n",
       "        text-align: right;\n",
       "    }\n",
       "</style>\n",
       "<table border=\"1\" class=\"dataframe\">\n",
       "  <thead>\n",
       "    <tr style=\"text-align: right;\">\n",
       "      <th></th>\n",
       "      <th>CreditScore</th>\n",
       "      <th>Gender</th>\n",
       "      <th>Age_log</th>\n",
       "      <th>Balance_log</th>\n",
       "      <th>HasCrCard</th>\n",
       "      <th>IsActiveMember</th>\n",
       "      <th>EstimatedSalary</th>\n",
       "      <th>Exited</th>\n",
       "      <th>Geography_France</th>\n",
       "      <th>Geography_Germany</th>\n",
       "      <th>Geography_Spain</th>\n",
       "      <th>Tenure_0</th>\n",
       "      <th>Tenure_1</th>\n",
       "      <th>Tenure_2</th>\n",
       "      <th>Tenure_3</th>\n",
       "      <th>Tenure_4</th>\n",
       "      <th>Tenure_5</th>\n",
       "      <th>Tenure_6</th>\n",
       "      <th>Tenure_7</th>\n",
       "      <th>Tenure_8</th>\n",
       "      <th>Tenure_9</th>\n",
       "      <th>Tenure_10</th>\n",
       "      <th>NumOfProducts_1</th>\n",
       "      <th>NumOfProducts_2</th>\n",
       "      <th>NumOfProducts_3</th>\n",
       "      <th>NumOfProducts_4</th>\n",
       "    </tr>\n",
       "  </thead>\n",
       "  <tbody>\n",
       "    <tr>\n",
       "      <th>0</th>\n",
       "      <td>619</td>\n",
       "      <td>0</td>\n",
       "      <td>3.737670</td>\n",
       "      <td>0.000000</td>\n",
       "      <td>1</td>\n",
       "      <td>1</td>\n",
       "      <td>101348.88</td>\n",
       "      <td>1</td>\n",
       "      <td>1</td>\n",
       "      <td>0</td>\n",
       "      <td>0</td>\n",
       "      <td>0</td>\n",
       "      <td>0</td>\n",
       "      <td>1</td>\n",
       "      <td>0</td>\n",
       "      <td>0</td>\n",
       "      <td>0</td>\n",
       "      <td>0</td>\n",
       "      <td>0</td>\n",
       "      <td>0</td>\n",
       "      <td>0</td>\n",
       "      <td>0</td>\n",
       "      <td>1</td>\n",
       "      <td>0</td>\n",
       "      <td>0</td>\n",
       "      <td>0</td>\n",
       "    </tr>\n",
       "    <tr>\n",
       "      <th>1</th>\n",
       "      <td>608</td>\n",
       "      <td>0</td>\n",
       "      <td>3.713572</td>\n",
       "      <td>11.336282</td>\n",
       "      <td>0</td>\n",
       "      <td>1</td>\n",
       "      <td>112542.58</td>\n",
       "      <td>0</td>\n",
       "      <td>0</td>\n",
       "      <td>0</td>\n",
       "      <td>1</td>\n",
       "      <td>0</td>\n",
       "      <td>1</td>\n",
       "      <td>0</td>\n",
       "      <td>0</td>\n",
       "      <td>0</td>\n",
       "      <td>0</td>\n",
       "      <td>0</td>\n",
       "      <td>0</td>\n",
       "      <td>0</td>\n",
       "      <td>0</td>\n",
       "      <td>0</td>\n",
       "      <td>1</td>\n",
       "      <td>0</td>\n",
       "      <td>0</td>\n",
       "      <td>0</td>\n",
       "    </tr>\n",
       "    <tr>\n",
       "      <th>2</th>\n",
       "      <td>502</td>\n",
       "      <td>0</td>\n",
       "      <td>3.737670</td>\n",
       "      <td>11.980807</td>\n",
       "      <td>1</td>\n",
       "      <td>0</td>\n",
       "      <td>113931.57</td>\n",
       "      <td>1</td>\n",
       "      <td>1</td>\n",
       "      <td>0</td>\n",
       "      <td>0</td>\n",
       "      <td>0</td>\n",
       "      <td>0</td>\n",
       "      <td>0</td>\n",
       "      <td>0</td>\n",
       "      <td>0</td>\n",
       "      <td>0</td>\n",
       "      <td>0</td>\n",
       "      <td>0</td>\n",
       "      <td>1</td>\n",
       "      <td>0</td>\n",
       "      <td>0</td>\n",
       "      <td>0</td>\n",
       "      <td>0</td>\n",
       "      <td>1</td>\n",
       "      <td>0</td>\n",
       "    </tr>\n",
       "    <tr>\n",
       "      <th>3</th>\n",
       "      <td>699</td>\n",
       "      <td>0</td>\n",
       "      <td>3.663562</td>\n",
       "      <td>0.000000</td>\n",
       "      <td>0</td>\n",
       "      <td>0</td>\n",
       "      <td>93826.63</td>\n",
       "      <td>0</td>\n",
       "      <td>1</td>\n",
       "      <td>0</td>\n",
       "      <td>0</td>\n",
       "      <td>0</td>\n",
       "      <td>1</td>\n",
       "      <td>0</td>\n",
       "      <td>0</td>\n",
       "      <td>0</td>\n",
       "      <td>0</td>\n",
       "      <td>0</td>\n",
       "      <td>0</td>\n",
       "      <td>0</td>\n",
       "      <td>0</td>\n",
       "      <td>0</td>\n",
       "      <td>0</td>\n",
       "      <td>1</td>\n",
       "      <td>0</td>\n",
       "      <td>0</td>\n",
       "    </tr>\n",
       "    <tr>\n",
       "      <th>4</th>\n",
       "      <td>850</td>\n",
       "      <td>0</td>\n",
       "      <td>3.761200</td>\n",
       "      <td>11.740147</td>\n",
       "      <td>1</td>\n",
       "      <td>1</td>\n",
       "      <td>79084.10</td>\n",
       "      <td>0</td>\n",
       "      <td>0</td>\n",
       "      <td>0</td>\n",
       "      <td>1</td>\n",
       "      <td>0</td>\n",
       "      <td>0</td>\n",
       "      <td>1</td>\n",
       "      <td>0</td>\n",
       "      <td>0</td>\n",
       "      <td>0</td>\n",
       "      <td>0</td>\n",
       "      <td>0</td>\n",
       "      <td>0</td>\n",
       "      <td>0</td>\n",
       "      <td>0</td>\n",
       "      <td>1</td>\n",
       "      <td>0</td>\n",
       "      <td>0</td>\n",
       "      <td>0</td>\n",
       "    </tr>\n",
       "  </tbody>\n",
       "</table>\n",
       "</div>"
      ],
      "text/plain": [
       "   CreditScore  Gender   Age_log  Balance_log  HasCrCard  IsActiveMember  \\\n",
       "0          619       0  3.737670     0.000000          1               1   \n",
       "1          608       0  3.713572    11.336282          0               1   \n",
       "2          502       0  3.737670    11.980807          1               0   \n",
       "3          699       0  3.663562     0.000000          0               0   \n",
       "4          850       0  3.761200    11.740147          1               1   \n",
       "\n",
       "   EstimatedSalary  Exited  Geography_France  Geography_Germany  \\\n",
       "0        101348.88       1                 1                  0   \n",
       "1        112542.58       0                 0                  0   \n",
       "2        113931.57       1                 1                  0   \n",
       "3         93826.63       0                 1                  0   \n",
       "4         79084.10       0                 0                  0   \n",
       "\n",
       "   Geography_Spain  Tenure_0  Tenure_1  Tenure_2  Tenure_3  Tenure_4  \\\n",
       "0                0         0         0         1         0         0   \n",
       "1                1         0         1         0         0         0   \n",
       "2                0         0         0         0         0         0   \n",
       "3                0         0         1         0         0         0   \n",
       "4                1         0         0         1         0         0   \n",
       "\n",
       "   Tenure_5  Tenure_6  Tenure_7  Tenure_8  Tenure_9  Tenure_10  \\\n",
       "0         0         0         0         0         0          0   \n",
       "1         0         0         0         0         0          0   \n",
       "2         0         0         0         1         0          0   \n",
       "3         0         0         0         0         0          0   \n",
       "4         0         0         0         0         0          0   \n",
       "\n",
       "   NumOfProducts_1  NumOfProducts_2  NumOfProducts_3  NumOfProducts_4  \n",
       "0                1                0                0                0  \n",
       "1                1                0                0                0  \n",
       "2                0                0                1                0  \n",
       "3                0                1                0                0  \n",
       "4                1                0                0                0  "
      ]
     },
     "execution_count": 68,
     "metadata": {},
     "output_type": "execute_result"
    }
   ],
   "source": [
    "# View the data frame\n",
    "df3.head()"
   ]
  },
  {
   "cell_type": "markdown",
   "id": "ef396e65",
   "metadata": {},
   "source": [
    "### Option 4 for balance variable: Replace Balance & Salary with ratio of Blance to Salary. "
   ]
  },
  {
   "cell_type": "code",
   "execution_count": 69,
   "id": "ef3edf17",
   "metadata": {},
   "outputs": [],
   "source": [
    "# Copy df1 to df4\n",
    "df4=df1.copy(deep=True)"
   ]
  },
  {
   "cell_type": "code",
   "execution_count": 70,
   "id": "8680dfd1",
   "metadata": {},
   "outputs": [
    {
     "data": {
      "text/html": [
       "<div>\n",
       "<style scoped>\n",
       "    .dataframe tbody tr th:only-of-type {\n",
       "        vertical-align: middle;\n",
       "    }\n",
       "\n",
       "    .dataframe tbody tr th {\n",
       "        vertical-align: top;\n",
       "    }\n",
       "\n",
       "    .dataframe thead th {\n",
       "        text-align: right;\n",
       "    }\n",
       "</style>\n",
       "<table border=\"1\" class=\"dataframe\">\n",
       "  <thead>\n",
       "    <tr style=\"text-align: right;\">\n",
       "      <th></th>\n",
       "      <th>CreditScore</th>\n",
       "      <th>Gender</th>\n",
       "      <th>Age_log</th>\n",
       "      <th>Balance</th>\n",
       "      <th>HasCrCard</th>\n",
       "      <th>IsActiveMember</th>\n",
       "      <th>EstimatedSalary</th>\n",
       "      <th>Exited</th>\n",
       "      <th>Geography_France</th>\n",
       "      <th>Geography_Germany</th>\n",
       "      <th>Geography_Spain</th>\n",
       "      <th>Tenure_0</th>\n",
       "      <th>Tenure_1</th>\n",
       "      <th>Tenure_2</th>\n",
       "      <th>Tenure_3</th>\n",
       "      <th>Tenure_4</th>\n",
       "      <th>Tenure_5</th>\n",
       "      <th>Tenure_6</th>\n",
       "      <th>Tenure_7</th>\n",
       "      <th>Tenure_8</th>\n",
       "      <th>Tenure_9</th>\n",
       "      <th>Tenure_10</th>\n",
       "      <th>NumOfProducts_1</th>\n",
       "      <th>NumOfProducts_2</th>\n",
       "      <th>NumOfProducts_3</th>\n",
       "      <th>NumOfProducts_4</th>\n",
       "    </tr>\n",
       "  </thead>\n",
       "  <tbody>\n",
       "    <tr>\n",
       "      <th>0</th>\n",
       "      <td>619</td>\n",
       "      <td>0</td>\n",
       "      <td>3.737670</td>\n",
       "      <td>0.00</td>\n",
       "      <td>1</td>\n",
       "      <td>1</td>\n",
       "      <td>101348.88</td>\n",
       "      <td>1</td>\n",
       "      <td>1</td>\n",
       "      <td>0</td>\n",
       "      <td>0</td>\n",
       "      <td>0</td>\n",
       "      <td>0</td>\n",
       "      <td>1</td>\n",
       "      <td>0</td>\n",
       "      <td>0</td>\n",
       "      <td>0</td>\n",
       "      <td>0</td>\n",
       "      <td>0</td>\n",
       "      <td>0</td>\n",
       "      <td>0</td>\n",
       "      <td>0</td>\n",
       "      <td>1</td>\n",
       "      <td>0</td>\n",
       "      <td>0</td>\n",
       "      <td>0</td>\n",
       "    </tr>\n",
       "    <tr>\n",
       "      <th>1</th>\n",
       "      <td>608</td>\n",
       "      <td>0</td>\n",
       "      <td>3.713572</td>\n",
       "      <td>83807.86</td>\n",
       "      <td>0</td>\n",
       "      <td>1</td>\n",
       "      <td>112542.58</td>\n",
       "      <td>0</td>\n",
       "      <td>0</td>\n",
       "      <td>0</td>\n",
       "      <td>1</td>\n",
       "      <td>0</td>\n",
       "      <td>1</td>\n",
       "      <td>0</td>\n",
       "      <td>0</td>\n",
       "      <td>0</td>\n",
       "      <td>0</td>\n",
       "      <td>0</td>\n",
       "      <td>0</td>\n",
       "      <td>0</td>\n",
       "      <td>0</td>\n",
       "      <td>0</td>\n",
       "      <td>1</td>\n",
       "      <td>0</td>\n",
       "      <td>0</td>\n",
       "      <td>0</td>\n",
       "    </tr>\n",
       "    <tr>\n",
       "      <th>2</th>\n",
       "      <td>502</td>\n",
       "      <td>0</td>\n",
       "      <td>3.737670</td>\n",
       "      <td>159660.80</td>\n",
       "      <td>1</td>\n",
       "      <td>0</td>\n",
       "      <td>113931.57</td>\n",
       "      <td>1</td>\n",
       "      <td>1</td>\n",
       "      <td>0</td>\n",
       "      <td>0</td>\n",
       "      <td>0</td>\n",
       "      <td>0</td>\n",
       "      <td>0</td>\n",
       "      <td>0</td>\n",
       "      <td>0</td>\n",
       "      <td>0</td>\n",
       "      <td>0</td>\n",
       "      <td>0</td>\n",
       "      <td>1</td>\n",
       "      <td>0</td>\n",
       "      <td>0</td>\n",
       "      <td>0</td>\n",
       "      <td>0</td>\n",
       "      <td>1</td>\n",
       "      <td>0</td>\n",
       "    </tr>\n",
       "    <tr>\n",
       "      <th>3</th>\n",
       "      <td>699</td>\n",
       "      <td>0</td>\n",
       "      <td>3.663562</td>\n",
       "      <td>0.00</td>\n",
       "      <td>0</td>\n",
       "      <td>0</td>\n",
       "      <td>93826.63</td>\n",
       "      <td>0</td>\n",
       "      <td>1</td>\n",
       "      <td>0</td>\n",
       "      <td>0</td>\n",
       "      <td>0</td>\n",
       "      <td>1</td>\n",
       "      <td>0</td>\n",
       "      <td>0</td>\n",
       "      <td>0</td>\n",
       "      <td>0</td>\n",
       "      <td>0</td>\n",
       "      <td>0</td>\n",
       "      <td>0</td>\n",
       "      <td>0</td>\n",
       "      <td>0</td>\n",
       "      <td>0</td>\n",
       "      <td>1</td>\n",
       "      <td>0</td>\n",
       "      <td>0</td>\n",
       "    </tr>\n",
       "    <tr>\n",
       "      <th>4</th>\n",
       "      <td>850</td>\n",
       "      <td>0</td>\n",
       "      <td>3.761200</td>\n",
       "      <td>125510.82</td>\n",
       "      <td>1</td>\n",
       "      <td>1</td>\n",
       "      <td>79084.10</td>\n",
       "      <td>0</td>\n",
       "      <td>0</td>\n",
       "      <td>0</td>\n",
       "      <td>1</td>\n",
       "      <td>0</td>\n",
       "      <td>0</td>\n",
       "      <td>1</td>\n",
       "      <td>0</td>\n",
       "      <td>0</td>\n",
       "      <td>0</td>\n",
       "      <td>0</td>\n",
       "      <td>0</td>\n",
       "      <td>0</td>\n",
       "      <td>0</td>\n",
       "      <td>0</td>\n",
       "      <td>1</td>\n",
       "      <td>0</td>\n",
       "      <td>0</td>\n",
       "      <td>0</td>\n",
       "    </tr>\n",
       "  </tbody>\n",
       "</table>\n",
       "</div>"
      ],
      "text/plain": [
       "   CreditScore  Gender   Age_log    Balance  HasCrCard  IsActiveMember  \\\n",
       "0          619       0  3.737670       0.00          1               1   \n",
       "1          608       0  3.713572   83807.86          0               1   \n",
       "2          502       0  3.737670  159660.80          1               0   \n",
       "3          699       0  3.663562       0.00          0               0   \n",
       "4          850       0  3.761200  125510.82          1               1   \n",
       "\n",
       "   EstimatedSalary  Exited  Geography_France  Geography_Germany  \\\n",
       "0        101348.88       1                 1                  0   \n",
       "1        112542.58       0                 0                  0   \n",
       "2        113931.57       1                 1                  0   \n",
       "3         93826.63       0                 1                  0   \n",
       "4         79084.10       0                 0                  0   \n",
       "\n",
       "   Geography_Spain  Tenure_0  Tenure_1  Tenure_2  Tenure_3  Tenure_4  \\\n",
       "0                0         0         0         1         0         0   \n",
       "1                1         0         1         0         0         0   \n",
       "2                0         0         0         0         0         0   \n",
       "3                0         0         1         0         0         0   \n",
       "4                1         0         0         1         0         0   \n",
       "\n",
       "   Tenure_5  Tenure_6  Tenure_7  Tenure_8  Tenure_9  Tenure_10  \\\n",
       "0         0         0         0         0         0          0   \n",
       "1         0         0         0         0         0          0   \n",
       "2         0         0         0         1         0          0   \n",
       "3         0         0         0         0         0          0   \n",
       "4         0         0         0         0         0          0   \n",
       "\n",
       "   NumOfProducts_1  NumOfProducts_2  NumOfProducts_3  NumOfProducts_4  \n",
       "0                1                0                0                0  \n",
       "1                1                0                0                0  \n",
       "2                0                0                1                0  \n",
       "3                0                1                0                0  \n",
       "4                1                0                0                0  "
      ]
     },
     "execution_count": 70,
     "metadata": {},
     "output_type": "execute_result"
    }
   ],
   "source": [
    "# View df4 \n",
    "df4.head()"
   ]
  },
  {
   "cell_type": "code",
   "execution_count": 71,
   "id": "6d53d702",
   "metadata": {},
   "outputs": [],
   "source": [
    "# Add Bal_Sal feature\n",
    "df4['Bal_Sal'] = df4['Balance']/df4['EstimatedSalary']"
   ]
  },
  {
   "cell_type": "code",
   "execution_count": 72,
   "id": "8a011b0e",
   "metadata": {},
   "outputs": [],
   "source": [
    "# Drop Balance and Estimated Salary features\n",
    "df4.drop(columns = {'Balance','EstimatedSalary'}, inplace = True)"
   ]
  },
  {
   "cell_type": "code",
   "execution_count": 73,
   "id": "f6d016b3",
   "metadata": {},
   "outputs": [],
   "source": [
    "# Fill Na Balance/Salary with 0.\n",
    "df4['Bal_Sal'] = df4['Bal_Sal'].fillna(0)"
   ]
  },
  {
   "cell_type": "code",
   "execution_count": 74,
   "id": "be7b1746",
   "metadata": {},
   "outputs": [
    {
     "data": {
      "text/html": [
       "<div>\n",
       "<style scoped>\n",
       "    .dataframe tbody tr th:only-of-type {\n",
       "        vertical-align: middle;\n",
       "    }\n",
       "\n",
       "    .dataframe tbody tr th {\n",
       "        vertical-align: top;\n",
       "    }\n",
       "\n",
       "    .dataframe thead th {\n",
       "        text-align: right;\n",
       "    }\n",
       "</style>\n",
       "<table border=\"1\" class=\"dataframe\">\n",
       "  <thead>\n",
       "    <tr style=\"text-align: right;\">\n",
       "      <th></th>\n",
       "      <th>CreditScore</th>\n",
       "      <th>Gender</th>\n",
       "      <th>Age_log</th>\n",
       "      <th>HasCrCard</th>\n",
       "      <th>IsActiveMember</th>\n",
       "      <th>Exited</th>\n",
       "      <th>Geography_France</th>\n",
       "      <th>Geography_Germany</th>\n",
       "      <th>Geography_Spain</th>\n",
       "      <th>Tenure_0</th>\n",
       "      <th>Tenure_1</th>\n",
       "      <th>Tenure_2</th>\n",
       "      <th>Tenure_3</th>\n",
       "      <th>Tenure_4</th>\n",
       "      <th>Tenure_5</th>\n",
       "      <th>Tenure_6</th>\n",
       "      <th>Tenure_7</th>\n",
       "      <th>Tenure_8</th>\n",
       "      <th>Tenure_9</th>\n",
       "      <th>Tenure_10</th>\n",
       "      <th>NumOfProducts_1</th>\n",
       "      <th>NumOfProducts_2</th>\n",
       "      <th>NumOfProducts_3</th>\n",
       "      <th>NumOfProducts_4</th>\n",
       "      <th>Bal_Sal</th>\n",
       "    </tr>\n",
       "  </thead>\n",
       "  <tbody>\n",
       "    <tr>\n",
       "      <th>0</th>\n",
       "      <td>619</td>\n",
       "      <td>0</td>\n",
       "      <td>3.737670</td>\n",
       "      <td>1</td>\n",
       "      <td>1</td>\n",
       "      <td>1</td>\n",
       "      <td>1</td>\n",
       "      <td>0</td>\n",
       "      <td>0</td>\n",
       "      <td>0</td>\n",
       "      <td>0</td>\n",
       "      <td>1</td>\n",
       "      <td>0</td>\n",
       "      <td>0</td>\n",
       "      <td>0</td>\n",
       "      <td>0</td>\n",
       "      <td>0</td>\n",
       "      <td>0</td>\n",
       "      <td>0</td>\n",
       "      <td>0</td>\n",
       "      <td>1</td>\n",
       "      <td>0</td>\n",
       "      <td>0</td>\n",
       "      <td>0</td>\n",
       "      <td>0.000000</td>\n",
       "    </tr>\n",
       "    <tr>\n",
       "      <th>1</th>\n",
       "      <td>608</td>\n",
       "      <td>0</td>\n",
       "      <td>3.713572</td>\n",
       "      <td>0</td>\n",
       "      <td>1</td>\n",
       "      <td>0</td>\n",
       "      <td>0</td>\n",
       "      <td>0</td>\n",
       "      <td>1</td>\n",
       "      <td>0</td>\n",
       "      <td>1</td>\n",
       "      <td>0</td>\n",
       "      <td>0</td>\n",
       "      <td>0</td>\n",
       "      <td>0</td>\n",
       "      <td>0</td>\n",
       "      <td>0</td>\n",
       "      <td>0</td>\n",
       "      <td>0</td>\n",
       "      <td>0</td>\n",
       "      <td>1</td>\n",
       "      <td>0</td>\n",
       "      <td>0</td>\n",
       "      <td>0</td>\n",
       "      <td>0.744677</td>\n",
       "    </tr>\n",
       "    <tr>\n",
       "      <th>2</th>\n",
       "      <td>502</td>\n",
       "      <td>0</td>\n",
       "      <td>3.737670</td>\n",
       "      <td>1</td>\n",
       "      <td>0</td>\n",
       "      <td>1</td>\n",
       "      <td>1</td>\n",
       "      <td>0</td>\n",
       "      <td>0</td>\n",
       "      <td>0</td>\n",
       "      <td>0</td>\n",
       "      <td>0</td>\n",
       "      <td>0</td>\n",
       "      <td>0</td>\n",
       "      <td>0</td>\n",
       "      <td>0</td>\n",
       "      <td>0</td>\n",
       "      <td>1</td>\n",
       "      <td>0</td>\n",
       "      <td>0</td>\n",
       "      <td>0</td>\n",
       "      <td>0</td>\n",
       "      <td>1</td>\n",
       "      <td>0</td>\n",
       "      <td>1.401375</td>\n",
       "    </tr>\n",
       "    <tr>\n",
       "      <th>3</th>\n",
       "      <td>699</td>\n",
       "      <td>0</td>\n",
       "      <td>3.663562</td>\n",
       "      <td>0</td>\n",
       "      <td>0</td>\n",
       "      <td>0</td>\n",
       "      <td>1</td>\n",
       "      <td>0</td>\n",
       "      <td>0</td>\n",
       "      <td>0</td>\n",
       "      <td>1</td>\n",
       "      <td>0</td>\n",
       "      <td>0</td>\n",
       "      <td>0</td>\n",
       "      <td>0</td>\n",
       "      <td>0</td>\n",
       "      <td>0</td>\n",
       "      <td>0</td>\n",
       "      <td>0</td>\n",
       "      <td>0</td>\n",
       "      <td>0</td>\n",
       "      <td>1</td>\n",
       "      <td>0</td>\n",
       "      <td>0</td>\n",
       "      <td>0.000000</td>\n",
       "    </tr>\n",
       "    <tr>\n",
       "      <th>4</th>\n",
       "      <td>850</td>\n",
       "      <td>0</td>\n",
       "      <td>3.761200</td>\n",
       "      <td>1</td>\n",
       "      <td>1</td>\n",
       "      <td>0</td>\n",
       "      <td>0</td>\n",
       "      <td>0</td>\n",
       "      <td>1</td>\n",
       "      <td>0</td>\n",
       "      <td>0</td>\n",
       "      <td>1</td>\n",
       "      <td>0</td>\n",
       "      <td>0</td>\n",
       "      <td>0</td>\n",
       "      <td>0</td>\n",
       "      <td>0</td>\n",
       "      <td>0</td>\n",
       "      <td>0</td>\n",
       "      <td>0</td>\n",
       "      <td>1</td>\n",
       "      <td>0</td>\n",
       "      <td>0</td>\n",
       "      <td>0</td>\n",
       "      <td>1.587055</td>\n",
       "    </tr>\n",
       "  </tbody>\n",
       "</table>\n",
       "</div>"
      ],
      "text/plain": [
       "   CreditScore  Gender   Age_log  HasCrCard  IsActiveMember  Exited  \\\n",
       "0          619       0  3.737670          1               1       1   \n",
       "1          608       0  3.713572          0               1       0   \n",
       "2          502       0  3.737670          1               0       1   \n",
       "3          699       0  3.663562          0               0       0   \n",
       "4          850       0  3.761200          1               1       0   \n",
       "\n",
       "   Geography_France  Geography_Germany  Geography_Spain  Tenure_0  Tenure_1  \\\n",
       "0                 1                  0                0         0         0   \n",
       "1                 0                  0                1         0         1   \n",
       "2                 1                  0                0         0         0   \n",
       "3                 1                  0                0         0         1   \n",
       "4                 0                  0                1         0         0   \n",
       "\n",
       "   Tenure_2  Tenure_3  Tenure_4  Tenure_5  Tenure_6  Tenure_7  Tenure_8  \\\n",
       "0         1         0         0         0         0         0         0   \n",
       "1         0         0         0         0         0         0         0   \n",
       "2         0         0         0         0         0         0         1   \n",
       "3         0         0         0         0         0         0         0   \n",
       "4         1         0         0         0         0         0         0   \n",
       "\n",
       "   Tenure_9  Tenure_10  NumOfProducts_1  NumOfProducts_2  NumOfProducts_3  \\\n",
       "0         0          0                1                0                0   \n",
       "1         0          0                1                0                0   \n",
       "2         0          0                0                0                1   \n",
       "3         0          0                0                1                0   \n",
       "4         0          0                1                0                0   \n",
       "\n",
       "   NumOfProducts_4   Bal_Sal  \n",
       "0                0  0.000000  \n",
       "1                0  0.744677  \n",
       "2                0  1.401375  \n",
       "3                0  0.000000  \n",
       "4                0  1.587055  "
      ]
     },
     "execution_count": 74,
     "metadata": {},
     "output_type": "execute_result"
    }
   ],
   "source": [
    "# View updates to df4\n",
    "df4.head()"
   ]
  },
  {
   "cell_type": "markdown",
   "id": "0f99d855",
   "metadata": {},
   "source": [
    "### Option 5 for balance variable: Convert to binomial for zero_bal"
   ]
  },
  {
   "cell_type": "code",
   "execution_count": 75,
   "id": "39a60642",
   "metadata": {},
   "outputs": [],
   "source": [
    "# Copy df1 into df5\n",
    "df5 = df1.copy(deep=True)"
   ]
  },
  {
   "cell_type": "code",
   "execution_count": 76,
   "id": "a58fce6c",
   "metadata": {},
   "outputs": [
    {
     "data": {
      "text/html": [
       "<div>\n",
       "<style scoped>\n",
       "    .dataframe tbody tr th:only-of-type {\n",
       "        vertical-align: middle;\n",
       "    }\n",
       "\n",
       "    .dataframe tbody tr th {\n",
       "        vertical-align: top;\n",
       "    }\n",
       "\n",
       "    .dataframe thead th {\n",
       "        text-align: right;\n",
       "    }\n",
       "</style>\n",
       "<table border=\"1\" class=\"dataframe\">\n",
       "  <thead>\n",
       "    <tr style=\"text-align: right;\">\n",
       "      <th></th>\n",
       "      <th>CreditScore</th>\n",
       "      <th>Gender</th>\n",
       "      <th>Age_log</th>\n",
       "      <th>Balance</th>\n",
       "      <th>HasCrCard</th>\n",
       "      <th>IsActiveMember</th>\n",
       "      <th>EstimatedSalary</th>\n",
       "      <th>Exited</th>\n",
       "      <th>Geography_France</th>\n",
       "      <th>Geography_Germany</th>\n",
       "      <th>Geography_Spain</th>\n",
       "      <th>Tenure_0</th>\n",
       "      <th>Tenure_1</th>\n",
       "      <th>Tenure_2</th>\n",
       "      <th>Tenure_3</th>\n",
       "      <th>Tenure_4</th>\n",
       "      <th>Tenure_5</th>\n",
       "      <th>Tenure_6</th>\n",
       "      <th>Tenure_7</th>\n",
       "      <th>Tenure_8</th>\n",
       "      <th>Tenure_9</th>\n",
       "      <th>Tenure_10</th>\n",
       "      <th>NumOfProducts_1</th>\n",
       "      <th>NumOfProducts_2</th>\n",
       "      <th>NumOfProducts_3</th>\n",
       "      <th>NumOfProducts_4</th>\n",
       "    </tr>\n",
       "  </thead>\n",
       "  <tbody>\n",
       "    <tr>\n",
       "      <th>0</th>\n",
       "      <td>619</td>\n",
       "      <td>0</td>\n",
       "      <td>3.737670</td>\n",
       "      <td>0.00</td>\n",
       "      <td>1</td>\n",
       "      <td>1</td>\n",
       "      <td>101348.88</td>\n",
       "      <td>1</td>\n",
       "      <td>1</td>\n",
       "      <td>0</td>\n",
       "      <td>0</td>\n",
       "      <td>0</td>\n",
       "      <td>0</td>\n",
       "      <td>1</td>\n",
       "      <td>0</td>\n",
       "      <td>0</td>\n",
       "      <td>0</td>\n",
       "      <td>0</td>\n",
       "      <td>0</td>\n",
       "      <td>0</td>\n",
       "      <td>0</td>\n",
       "      <td>0</td>\n",
       "      <td>1</td>\n",
       "      <td>0</td>\n",
       "      <td>0</td>\n",
       "      <td>0</td>\n",
       "    </tr>\n",
       "    <tr>\n",
       "      <th>1</th>\n",
       "      <td>608</td>\n",
       "      <td>0</td>\n",
       "      <td>3.713572</td>\n",
       "      <td>83807.86</td>\n",
       "      <td>0</td>\n",
       "      <td>1</td>\n",
       "      <td>112542.58</td>\n",
       "      <td>0</td>\n",
       "      <td>0</td>\n",
       "      <td>0</td>\n",
       "      <td>1</td>\n",
       "      <td>0</td>\n",
       "      <td>1</td>\n",
       "      <td>0</td>\n",
       "      <td>0</td>\n",
       "      <td>0</td>\n",
       "      <td>0</td>\n",
       "      <td>0</td>\n",
       "      <td>0</td>\n",
       "      <td>0</td>\n",
       "      <td>0</td>\n",
       "      <td>0</td>\n",
       "      <td>1</td>\n",
       "      <td>0</td>\n",
       "      <td>0</td>\n",
       "      <td>0</td>\n",
       "    </tr>\n",
       "    <tr>\n",
       "      <th>2</th>\n",
       "      <td>502</td>\n",
       "      <td>0</td>\n",
       "      <td>3.737670</td>\n",
       "      <td>159660.80</td>\n",
       "      <td>1</td>\n",
       "      <td>0</td>\n",
       "      <td>113931.57</td>\n",
       "      <td>1</td>\n",
       "      <td>1</td>\n",
       "      <td>0</td>\n",
       "      <td>0</td>\n",
       "      <td>0</td>\n",
       "      <td>0</td>\n",
       "      <td>0</td>\n",
       "      <td>0</td>\n",
       "      <td>0</td>\n",
       "      <td>0</td>\n",
       "      <td>0</td>\n",
       "      <td>0</td>\n",
       "      <td>1</td>\n",
       "      <td>0</td>\n",
       "      <td>0</td>\n",
       "      <td>0</td>\n",
       "      <td>0</td>\n",
       "      <td>1</td>\n",
       "      <td>0</td>\n",
       "    </tr>\n",
       "    <tr>\n",
       "      <th>3</th>\n",
       "      <td>699</td>\n",
       "      <td>0</td>\n",
       "      <td>3.663562</td>\n",
       "      <td>0.00</td>\n",
       "      <td>0</td>\n",
       "      <td>0</td>\n",
       "      <td>93826.63</td>\n",
       "      <td>0</td>\n",
       "      <td>1</td>\n",
       "      <td>0</td>\n",
       "      <td>0</td>\n",
       "      <td>0</td>\n",
       "      <td>1</td>\n",
       "      <td>0</td>\n",
       "      <td>0</td>\n",
       "      <td>0</td>\n",
       "      <td>0</td>\n",
       "      <td>0</td>\n",
       "      <td>0</td>\n",
       "      <td>0</td>\n",
       "      <td>0</td>\n",
       "      <td>0</td>\n",
       "      <td>0</td>\n",
       "      <td>1</td>\n",
       "      <td>0</td>\n",
       "      <td>0</td>\n",
       "    </tr>\n",
       "    <tr>\n",
       "      <th>4</th>\n",
       "      <td>850</td>\n",
       "      <td>0</td>\n",
       "      <td>3.761200</td>\n",
       "      <td>125510.82</td>\n",
       "      <td>1</td>\n",
       "      <td>1</td>\n",
       "      <td>79084.10</td>\n",
       "      <td>0</td>\n",
       "      <td>0</td>\n",
       "      <td>0</td>\n",
       "      <td>1</td>\n",
       "      <td>0</td>\n",
       "      <td>0</td>\n",
       "      <td>1</td>\n",
       "      <td>0</td>\n",
       "      <td>0</td>\n",
       "      <td>0</td>\n",
       "      <td>0</td>\n",
       "      <td>0</td>\n",
       "      <td>0</td>\n",
       "      <td>0</td>\n",
       "      <td>0</td>\n",
       "      <td>1</td>\n",
       "      <td>0</td>\n",
       "      <td>0</td>\n",
       "      <td>0</td>\n",
       "    </tr>\n",
       "  </tbody>\n",
       "</table>\n",
       "</div>"
      ],
      "text/plain": [
       "   CreditScore  Gender   Age_log    Balance  HasCrCard  IsActiveMember  \\\n",
       "0          619       0  3.737670       0.00          1               1   \n",
       "1          608       0  3.713572   83807.86          0               1   \n",
       "2          502       0  3.737670  159660.80          1               0   \n",
       "3          699       0  3.663562       0.00          0               0   \n",
       "4          850       0  3.761200  125510.82          1               1   \n",
       "\n",
       "   EstimatedSalary  Exited  Geography_France  Geography_Germany  \\\n",
       "0        101348.88       1                 1                  0   \n",
       "1        112542.58       0                 0                  0   \n",
       "2        113931.57       1                 1                  0   \n",
       "3         93826.63       0                 1                  0   \n",
       "4         79084.10       0                 0                  0   \n",
       "\n",
       "   Geography_Spain  Tenure_0  Tenure_1  Tenure_2  Tenure_3  Tenure_4  \\\n",
       "0                0         0         0         1         0         0   \n",
       "1                1         0         1         0         0         0   \n",
       "2                0         0         0         0         0         0   \n",
       "3                0         0         1         0         0         0   \n",
       "4                1         0         0         1         0         0   \n",
       "\n",
       "   Tenure_5  Tenure_6  Tenure_7  Tenure_8  Tenure_9  Tenure_10  \\\n",
       "0         0         0         0         0         0          0   \n",
       "1         0         0         0         0         0          0   \n",
       "2         0         0         0         1         0          0   \n",
       "3         0         0         0         0         0          0   \n",
       "4         0         0         0         0         0          0   \n",
       "\n",
       "   NumOfProducts_1  NumOfProducts_2  NumOfProducts_3  NumOfProducts_4  \n",
       "0                1                0                0                0  \n",
       "1                1                0                0                0  \n",
       "2                0                0                1                0  \n",
       "3                0                1                0                0  \n",
       "4                1                0                0                0  "
      ]
     },
     "execution_count": 76,
     "metadata": {},
     "output_type": "execute_result"
    }
   ],
   "source": [
    "# View df5\n",
    "df5.head()"
   ]
  },
  {
   "cell_type": "code",
   "execution_count": 77,
   "id": "fa775760",
   "metadata": {},
   "outputs": [],
   "source": [
    "# Convert Balance to integer\n",
    "df5['Balance'] = df5['Balance'].astype('int')"
   ]
  },
  {
   "cell_type": "code",
   "execution_count": 78,
   "id": "3a0100c0",
   "metadata": {},
   "outputs": [],
   "source": [
    "# Replace all 0 balances with 1\n",
    "df5['Balance'].replace(0, 1, inplace = True)"
   ]
  },
  {
   "cell_type": "code",
   "execution_count": 79,
   "id": "cfe9b4e8",
   "metadata": {},
   "outputs": [
    {
     "data": {
      "text/html": [
       "<div>\n",
       "<style scoped>\n",
       "    .dataframe tbody tr th:only-of-type {\n",
       "        vertical-align: middle;\n",
       "    }\n",
       "\n",
       "    .dataframe tbody tr th {\n",
       "        vertical-align: top;\n",
       "    }\n",
       "\n",
       "    .dataframe thead th {\n",
       "        text-align: right;\n",
       "    }\n",
       "</style>\n",
       "<table border=\"1\" class=\"dataframe\">\n",
       "  <thead>\n",
       "    <tr style=\"text-align: right;\">\n",
       "      <th></th>\n",
       "      <th>CreditScore</th>\n",
       "      <th>Gender</th>\n",
       "      <th>Age_log</th>\n",
       "      <th>Balance</th>\n",
       "      <th>HasCrCard</th>\n",
       "      <th>IsActiveMember</th>\n",
       "      <th>EstimatedSalary</th>\n",
       "      <th>Exited</th>\n",
       "      <th>Geography_France</th>\n",
       "      <th>Geography_Germany</th>\n",
       "      <th>Geography_Spain</th>\n",
       "      <th>Tenure_0</th>\n",
       "      <th>Tenure_1</th>\n",
       "      <th>Tenure_2</th>\n",
       "      <th>Tenure_3</th>\n",
       "      <th>Tenure_4</th>\n",
       "      <th>Tenure_5</th>\n",
       "      <th>Tenure_6</th>\n",
       "      <th>Tenure_7</th>\n",
       "      <th>Tenure_8</th>\n",
       "      <th>Tenure_9</th>\n",
       "      <th>Tenure_10</th>\n",
       "      <th>NumOfProducts_1</th>\n",
       "      <th>NumOfProducts_2</th>\n",
       "      <th>NumOfProducts_3</th>\n",
       "      <th>NumOfProducts_4</th>\n",
       "    </tr>\n",
       "  </thead>\n",
       "  <tbody>\n",
       "    <tr>\n",
       "      <th>0</th>\n",
       "      <td>619</td>\n",
       "      <td>0</td>\n",
       "      <td>3.737670</td>\n",
       "      <td>1</td>\n",
       "      <td>1</td>\n",
       "      <td>1</td>\n",
       "      <td>101348.88</td>\n",
       "      <td>1</td>\n",
       "      <td>1</td>\n",
       "      <td>0</td>\n",
       "      <td>0</td>\n",
       "      <td>0</td>\n",
       "      <td>0</td>\n",
       "      <td>1</td>\n",
       "      <td>0</td>\n",
       "      <td>0</td>\n",
       "      <td>0</td>\n",
       "      <td>0</td>\n",
       "      <td>0</td>\n",
       "      <td>0</td>\n",
       "      <td>0</td>\n",
       "      <td>0</td>\n",
       "      <td>1</td>\n",
       "      <td>0</td>\n",
       "      <td>0</td>\n",
       "      <td>0</td>\n",
       "    </tr>\n",
       "    <tr>\n",
       "      <th>1</th>\n",
       "      <td>608</td>\n",
       "      <td>0</td>\n",
       "      <td>3.713572</td>\n",
       "      <td>83807</td>\n",
       "      <td>0</td>\n",
       "      <td>1</td>\n",
       "      <td>112542.58</td>\n",
       "      <td>0</td>\n",
       "      <td>0</td>\n",
       "      <td>0</td>\n",
       "      <td>1</td>\n",
       "      <td>0</td>\n",
       "      <td>1</td>\n",
       "      <td>0</td>\n",
       "      <td>0</td>\n",
       "      <td>0</td>\n",
       "      <td>0</td>\n",
       "      <td>0</td>\n",
       "      <td>0</td>\n",
       "      <td>0</td>\n",
       "      <td>0</td>\n",
       "      <td>0</td>\n",
       "      <td>1</td>\n",
       "      <td>0</td>\n",
       "      <td>0</td>\n",
       "      <td>0</td>\n",
       "    </tr>\n",
       "    <tr>\n",
       "      <th>2</th>\n",
       "      <td>502</td>\n",
       "      <td>0</td>\n",
       "      <td>3.737670</td>\n",
       "      <td>159660</td>\n",
       "      <td>1</td>\n",
       "      <td>0</td>\n",
       "      <td>113931.57</td>\n",
       "      <td>1</td>\n",
       "      <td>1</td>\n",
       "      <td>0</td>\n",
       "      <td>0</td>\n",
       "      <td>0</td>\n",
       "      <td>0</td>\n",
       "      <td>0</td>\n",
       "      <td>0</td>\n",
       "      <td>0</td>\n",
       "      <td>0</td>\n",
       "      <td>0</td>\n",
       "      <td>0</td>\n",
       "      <td>1</td>\n",
       "      <td>0</td>\n",
       "      <td>0</td>\n",
       "      <td>0</td>\n",
       "      <td>0</td>\n",
       "      <td>1</td>\n",
       "      <td>0</td>\n",
       "    </tr>\n",
       "    <tr>\n",
       "      <th>3</th>\n",
       "      <td>699</td>\n",
       "      <td>0</td>\n",
       "      <td>3.663562</td>\n",
       "      <td>1</td>\n",
       "      <td>0</td>\n",
       "      <td>0</td>\n",
       "      <td>93826.63</td>\n",
       "      <td>0</td>\n",
       "      <td>1</td>\n",
       "      <td>0</td>\n",
       "      <td>0</td>\n",
       "      <td>0</td>\n",
       "      <td>1</td>\n",
       "      <td>0</td>\n",
       "      <td>0</td>\n",
       "      <td>0</td>\n",
       "      <td>0</td>\n",
       "      <td>0</td>\n",
       "      <td>0</td>\n",
       "      <td>0</td>\n",
       "      <td>0</td>\n",
       "      <td>0</td>\n",
       "      <td>0</td>\n",
       "      <td>1</td>\n",
       "      <td>0</td>\n",
       "      <td>0</td>\n",
       "    </tr>\n",
       "    <tr>\n",
       "      <th>4</th>\n",
       "      <td>850</td>\n",
       "      <td>0</td>\n",
       "      <td>3.761200</td>\n",
       "      <td>125510</td>\n",
       "      <td>1</td>\n",
       "      <td>1</td>\n",
       "      <td>79084.10</td>\n",
       "      <td>0</td>\n",
       "      <td>0</td>\n",
       "      <td>0</td>\n",
       "      <td>1</td>\n",
       "      <td>0</td>\n",
       "      <td>0</td>\n",
       "      <td>1</td>\n",
       "      <td>0</td>\n",
       "      <td>0</td>\n",
       "      <td>0</td>\n",
       "      <td>0</td>\n",
       "      <td>0</td>\n",
       "      <td>0</td>\n",
       "      <td>0</td>\n",
       "      <td>0</td>\n",
       "      <td>1</td>\n",
       "      <td>0</td>\n",
       "      <td>0</td>\n",
       "      <td>0</td>\n",
       "    </tr>\n",
       "  </tbody>\n",
       "</table>\n",
       "</div>"
      ],
      "text/plain": [
       "   CreditScore  Gender   Age_log  Balance  HasCrCard  IsActiveMember  \\\n",
       "0          619       0  3.737670        1          1               1   \n",
       "1          608       0  3.713572    83807          0               1   \n",
       "2          502       0  3.737670   159660          1               0   \n",
       "3          699       0  3.663562        1          0               0   \n",
       "4          850       0  3.761200   125510          1               1   \n",
       "\n",
       "   EstimatedSalary  Exited  Geography_France  Geography_Germany  \\\n",
       "0        101348.88       1                 1                  0   \n",
       "1        112542.58       0                 0                  0   \n",
       "2        113931.57       1                 1                  0   \n",
       "3         93826.63       0                 1                  0   \n",
       "4         79084.10       0                 0                  0   \n",
       "\n",
       "   Geography_Spain  Tenure_0  Tenure_1  Tenure_2  Tenure_3  Tenure_4  \\\n",
       "0                0         0         0         1         0         0   \n",
       "1                1         0         1         0         0         0   \n",
       "2                0         0         0         0         0         0   \n",
       "3                0         0         1         0         0         0   \n",
       "4                1         0         0         1         0         0   \n",
       "\n",
       "   Tenure_5  Tenure_6  Tenure_7  Tenure_8  Tenure_9  Tenure_10  \\\n",
       "0         0         0         0         0         0          0   \n",
       "1         0         0         0         0         0          0   \n",
       "2         0         0         0         1         0          0   \n",
       "3         0         0         0         0         0          0   \n",
       "4         0         0         0         0         0          0   \n",
       "\n",
       "   NumOfProducts_1  NumOfProducts_2  NumOfProducts_3  NumOfProducts_4  \n",
       "0                1                0                0                0  \n",
       "1                1                0                0                0  \n",
       "2                0                0                1                0  \n",
       "3                0                1                0                0  \n",
       "4                1                0                0                0  "
      ]
     },
     "execution_count": 79,
     "metadata": {},
     "output_type": "execute_result"
    }
   ],
   "source": [
    "# Verify replacement\n",
    "df5.head()"
   ]
  },
  {
   "cell_type": "code",
   "execution_count": 80,
   "id": "5ba5add3",
   "metadata": {},
   "outputs": [],
   "source": [
    "# Replace all Balances greater than 1 with 1\n",
    "df5.replace(df5['Balance'] > 1, 0, inplace=True)"
   ]
  },
  {
   "cell_type": "code",
   "execution_count": 81,
   "id": "880c1019",
   "metadata": {},
   "outputs": [
    {
     "data": {
      "text/html": [
       "<div>\n",
       "<style scoped>\n",
       "    .dataframe tbody tr th:only-of-type {\n",
       "        vertical-align: middle;\n",
       "    }\n",
       "\n",
       "    .dataframe tbody tr th {\n",
       "        vertical-align: top;\n",
       "    }\n",
       "\n",
       "    .dataframe thead th {\n",
       "        text-align: right;\n",
       "    }\n",
       "</style>\n",
       "<table border=\"1\" class=\"dataframe\">\n",
       "  <thead>\n",
       "    <tr style=\"text-align: right;\">\n",
       "      <th></th>\n",
       "      <th>CreditScore</th>\n",
       "      <th>Gender</th>\n",
       "      <th>Age_log</th>\n",
       "      <th>Balance</th>\n",
       "      <th>HasCrCard</th>\n",
       "      <th>IsActiveMember</th>\n",
       "      <th>EstimatedSalary</th>\n",
       "      <th>Exited</th>\n",
       "      <th>Geography_France</th>\n",
       "      <th>Geography_Germany</th>\n",
       "      <th>Geography_Spain</th>\n",
       "      <th>Tenure_0</th>\n",
       "      <th>Tenure_1</th>\n",
       "      <th>Tenure_2</th>\n",
       "      <th>Tenure_3</th>\n",
       "      <th>Tenure_4</th>\n",
       "      <th>Tenure_5</th>\n",
       "      <th>Tenure_6</th>\n",
       "      <th>Tenure_7</th>\n",
       "      <th>Tenure_8</th>\n",
       "      <th>Tenure_9</th>\n",
       "      <th>Tenure_10</th>\n",
       "      <th>NumOfProducts_1</th>\n",
       "      <th>NumOfProducts_2</th>\n",
       "      <th>NumOfProducts_3</th>\n",
       "      <th>NumOfProducts_4</th>\n",
       "    </tr>\n",
       "  </thead>\n",
       "  <tbody>\n",
       "    <tr>\n",
       "      <th>0</th>\n",
       "      <td>619</td>\n",
       "      <td>0</td>\n",
       "      <td>3.737670</td>\n",
       "      <td>1</td>\n",
       "      <td>1</td>\n",
       "      <td>1</td>\n",
       "      <td>101348.88</td>\n",
       "      <td>1</td>\n",
       "      <td>1</td>\n",
       "      <td>0</td>\n",
       "      <td>0</td>\n",
       "      <td>0</td>\n",
       "      <td>0</td>\n",
       "      <td>1</td>\n",
       "      <td>0</td>\n",
       "      <td>0</td>\n",
       "      <td>0</td>\n",
       "      <td>0</td>\n",
       "      <td>0</td>\n",
       "      <td>0</td>\n",
       "      <td>0</td>\n",
       "      <td>0</td>\n",
       "      <td>1</td>\n",
       "      <td>0</td>\n",
       "      <td>0</td>\n",
       "      <td>0</td>\n",
       "    </tr>\n",
       "    <tr>\n",
       "      <th>1</th>\n",
       "      <td>608</td>\n",
       "      <td>0</td>\n",
       "      <td>3.713572</td>\n",
       "      <td>83807</td>\n",
       "      <td>0</td>\n",
       "      <td>1</td>\n",
       "      <td>112542.58</td>\n",
       "      <td>0</td>\n",
       "      <td>0</td>\n",
       "      <td>0</td>\n",
       "      <td>1</td>\n",
       "      <td>0</td>\n",
       "      <td>1</td>\n",
       "      <td>0</td>\n",
       "      <td>0</td>\n",
       "      <td>0</td>\n",
       "      <td>0</td>\n",
       "      <td>0</td>\n",
       "      <td>0</td>\n",
       "      <td>0</td>\n",
       "      <td>0</td>\n",
       "      <td>0</td>\n",
       "      <td>1</td>\n",
       "      <td>0</td>\n",
       "      <td>0</td>\n",
       "      <td>0</td>\n",
       "    </tr>\n",
       "    <tr>\n",
       "      <th>2</th>\n",
       "      <td>502</td>\n",
       "      <td>0</td>\n",
       "      <td>3.737670</td>\n",
       "      <td>159660</td>\n",
       "      <td>1</td>\n",
       "      <td>0</td>\n",
       "      <td>113931.57</td>\n",
       "      <td>1</td>\n",
       "      <td>1</td>\n",
       "      <td>0</td>\n",
       "      <td>0</td>\n",
       "      <td>0</td>\n",
       "      <td>0</td>\n",
       "      <td>0</td>\n",
       "      <td>0</td>\n",
       "      <td>0</td>\n",
       "      <td>0</td>\n",
       "      <td>0</td>\n",
       "      <td>0</td>\n",
       "      <td>1</td>\n",
       "      <td>0</td>\n",
       "      <td>0</td>\n",
       "      <td>0</td>\n",
       "      <td>0</td>\n",
       "      <td>1</td>\n",
       "      <td>0</td>\n",
       "    </tr>\n",
       "    <tr>\n",
       "      <th>3</th>\n",
       "      <td>699</td>\n",
       "      <td>0</td>\n",
       "      <td>3.663562</td>\n",
       "      <td>1</td>\n",
       "      <td>0</td>\n",
       "      <td>0</td>\n",
       "      <td>93826.63</td>\n",
       "      <td>0</td>\n",
       "      <td>1</td>\n",
       "      <td>0</td>\n",
       "      <td>0</td>\n",
       "      <td>0</td>\n",
       "      <td>1</td>\n",
       "      <td>0</td>\n",
       "      <td>0</td>\n",
       "      <td>0</td>\n",
       "      <td>0</td>\n",
       "      <td>0</td>\n",
       "      <td>0</td>\n",
       "      <td>0</td>\n",
       "      <td>0</td>\n",
       "      <td>0</td>\n",
       "      <td>0</td>\n",
       "      <td>1</td>\n",
       "      <td>0</td>\n",
       "      <td>0</td>\n",
       "    </tr>\n",
       "    <tr>\n",
       "      <th>4</th>\n",
       "      <td>850</td>\n",
       "      <td>0</td>\n",
       "      <td>3.761200</td>\n",
       "      <td>125510</td>\n",
       "      <td>1</td>\n",
       "      <td>1</td>\n",
       "      <td>79084.10</td>\n",
       "      <td>0</td>\n",
       "      <td>0</td>\n",
       "      <td>0</td>\n",
       "      <td>1</td>\n",
       "      <td>0</td>\n",
       "      <td>0</td>\n",
       "      <td>1</td>\n",
       "      <td>0</td>\n",
       "      <td>0</td>\n",
       "      <td>0</td>\n",
       "      <td>0</td>\n",
       "      <td>0</td>\n",
       "      <td>0</td>\n",
       "      <td>0</td>\n",
       "      <td>0</td>\n",
       "      <td>1</td>\n",
       "      <td>0</td>\n",
       "      <td>0</td>\n",
       "      <td>0</td>\n",
       "    </tr>\n",
       "  </tbody>\n",
       "</table>\n",
       "</div>"
      ],
      "text/plain": [
       "   CreditScore  Gender   Age_log  Balance  HasCrCard  IsActiveMember  \\\n",
       "0          619       0  3.737670        1          1               1   \n",
       "1          608       0  3.713572    83807          0               1   \n",
       "2          502       0  3.737670   159660          1               0   \n",
       "3          699       0  3.663562        1          0               0   \n",
       "4          850       0  3.761200   125510          1               1   \n",
       "\n",
       "   EstimatedSalary  Exited  Geography_France  Geography_Germany  \\\n",
       "0        101348.88       1                 1                  0   \n",
       "1        112542.58       0                 0                  0   \n",
       "2        113931.57       1                 1                  0   \n",
       "3         93826.63       0                 1                  0   \n",
       "4         79084.10       0                 0                  0   \n",
       "\n",
       "   Geography_Spain  Tenure_0  Tenure_1  Tenure_2  Tenure_3  Tenure_4  \\\n",
       "0                0         0         0         1         0         0   \n",
       "1                1         0         1         0         0         0   \n",
       "2                0         0         0         0         0         0   \n",
       "3                0         0         1         0         0         0   \n",
       "4                1         0         0         1         0         0   \n",
       "\n",
       "   Tenure_5  Tenure_6  Tenure_7  Tenure_8  Tenure_9  Tenure_10  \\\n",
       "0         0         0         0         0         0          0   \n",
       "1         0         0         0         0         0          0   \n",
       "2         0         0         0         1         0          0   \n",
       "3         0         0         0         0         0          0   \n",
       "4         0         0         0         0         0          0   \n",
       "\n",
       "   NumOfProducts_1  NumOfProducts_2  NumOfProducts_3  NumOfProducts_4  \n",
       "0                1                0                0                0  \n",
       "1                1                0                0                0  \n",
       "2                0                0                1                0  \n",
       "3                0                1                0                0  \n",
       "4                1                0                0                0  "
      ]
     },
     "execution_count": 81,
     "metadata": {},
     "output_type": "execute_result"
    }
   ],
   "source": [
    "# Verify replacement\n",
    "df5.head()"
   ]
  },
  {
   "cell_type": "code",
   "execution_count": 82,
   "id": "c7e29eb4",
   "metadata": {},
   "outputs": [],
   "source": [
    "# Rename the Balance column to Zero_Bal\n",
    "df5 = df5.rename(columns={'Balance':'Zero_Bal'})"
   ]
  },
  {
   "cell_type": "code",
   "execution_count": 83,
   "id": "79c4333b",
   "metadata": {},
   "outputs": [
    {
     "data": {
      "text/html": [
       "<div>\n",
       "<style scoped>\n",
       "    .dataframe tbody tr th:only-of-type {\n",
       "        vertical-align: middle;\n",
       "    }\n",
       "\n",
       "    .dataframe tbody tr th {\n",
       "        vertical-align: top;\n",
       "    }\n",
       "\n",
       "    .dataframe thead th {\n",
       "        text-align: right;\n",
       "    }\n",
       "</style>\n",
       "<table border=\"1\" class=\"dataframe\">\n",
       "  <thead>\n",
       "    <tr style=\"text-align: right;\">\n",
       "      <th></th>\n",
       "      <th>CreditScore</th>\n",
       "      <th>Gender</th>\n",
       "      <th>Age_log</th>\n",
       "      <th>Zero_Bal</th>\n",
       "      <th>HasCrCard</th>\n",
       "      <th>IsActiveMember</th>\n",
       "      <th>EstimatedSalary</th>\n",
       "      <th>Exited</th>\n",
       "      <th>Geography_France</th>\n",
       "      <th>Geography_Germany</th>\n",
       "      <th>Geography_Spain</th>\n",
       "      <th>Tenure_0</th>\n",
       "      <th>Tenure_1</th>\n",
       "      <th>Tenure_2</th>\n",
       "      <th>Tenure_3</th>\n",
       "      <th>Tenure_4</th>\n",
       "      <th>Tenure_5</th>\n",
       "      <th>Tenure_6</th>\n",
       "      <th>Tenure_7</th>\n",
       "      <th>Tenure_8</th>\n",
       "      <th>Tenure_9</th>\n",
       "      <th>Tenure_10</th>\n",
       "      <th>NumOfProducts_1</th>\n",
       "      <th>NumOfProducts_2</th>\n",
       "      <th>NumOfProducts_3</th>\n",
       "      <th>NumOfProducts_4</th>\n",
       "    </tr>\n",
       "  </thead>\n",
       "  <tbody>\n",
       "    <tr>\n",
       "      <th>0</th>\n",
       "      <td>619</td>\n",
       "      <td>0</td>\n",
       "      <td>3.737670</td>\n",
       "      <td>1</td>\n",
       "      <td>1</td>\n",
       "      <td>1</td>\n",
       "      <td>101348.88</td>\n",
       "      <td>1</td>\n",
       "      <td>1</td>\n",
       "      <td>0</td>\n",
       "      <td>0</td>\n",
       "      <td>0</td>\n",
       "      <td>0</td>\n",
       "      <td>1</td>\n",
       "      <td>0</td>\n",
       "      <td>0</td>\n",
       "      <td>0</td>\n",
       "      <td>0</td>\n",
       "      <td>0</td>\n",
       "      <td>0</td>\n",
       "      <td>0</td>\n",
       "      <td>0</td>\n",
       "      <td>1</td>\n",
       "      <td>0</td>\n",
       "      <td>0</td>\n",
       "      <td>0</td>\n",
       "    </tr>\n",
       "    <tr>\n",
       "      <th>1</th>\n",
       "      <td>608</td>\n",
       "      <td>0</td>\n",
       "      <td>3.713572</td>\n",
       "      <td>83807</td>\n",
       "      <td>0</td>\n",
       "      <td>1</td>\n",
       "      <td>112542.58</td>\n",
       "      <td>0</td>\n",
       "      <td>0</td>\n",
       "      <td>0</td>\n",
       "      <td>1</td>\n",
       "      <td>0</td>\n",
       "      <td>1</td>\n",
       "      <td>0</td>\n",
       "      <td>0</td>\n",
       "      <td>0</td>\n",
       "      <td>0</td>\n",
       "      <td>0</td>\n",
       "      <td>0</td>\n",
       "      <td>0</td>\n",
       "      <td>0</td>\n",
       "      <td>0</td>\n",
       "      <td>1</td>\n",
       "      <td>0</td>\n",
       "      <td>0</td>\n",
       "      <td>0</td>\n",
       "    </tr>\n",
       "    <tr>\n",
       "      <th>2</th>\n",
       "      <td>502</td>\n",
       "      <td>0</td>\n",
       "      <td>3.737670</td>\n",
       "      <td>159660</td>\n",
       "      <td>1</td>\n",
       "      <td>0</td>\n",
       "      <td>113931.57</td>\n",
       "      <td>1</td>\n",
       "      <td>1</td>\n",
       "      <td>0</td>\n",
       "      <td>0</td>\n",
       "      <td>0</td>\n",
       "      <td>0</td>\n",
       "      <td>0</td>\n",
       "      <td>0</td>\n",
       "      <td>0</td>\n",
       "      <td>0</td>\n",
       "      <td>0</td>\n",
       "      <td>0</td>\n",
       "      <td>1</td>\n",
       "      <td>0</td>\n",
       "      <td>0</td>\n",
       "      <td>0</td>\n",
       "      <td>0</td>\n",
       "      <td>1</td>\n",
       "      <td>0</td>\n",
       "    </tr>\n",
       "    <tr>\n",
       "      <th>3</th>\n",
       "      <td>699</td>\n",
       "      <td>0</td>\n",
       "      <td>3.663562</td>\n",
       "      <td>1</td>\n",
       "      <td>0</td>\n",
       "      <td>0</td>\n",
       "      <td>93826.63</td>\n",
       "      <td>0</td>\n",
       "      <td>1</td>\n",
       "      <td>0</td>\n",
       "      <td>0</td>\n",
       "      <td>0</td>\n",
       "      <td>1</td>\n",
       "      <td>0</td>\n",
       "      <td>0</td>\n",
       "      <td>0</td>\n",
       "      <td>0</td>\n",
       "      <td>0</td>\n",
       "      <td>0</td>\n",
       "      <td>0</td>\n",
       "      <td>0</td>\n",
       "      <td>0</td>\n",
       "      <td>0</td>\n",
       "      <td>1</td>\n",
       "      <td>0</td>\n",
       "      <td>0</td>\n",
       "    </tr>\n",
       "    <tr>\n",
       "      <th>4</th>\n",
       "      <td>850</td>\n",
       "      <td>0</td>\n",
       "      <td>3.761200</td>\n",
       "      <td>125510</td>\n",
       "      <td>1</td>\n",
       "      <td>1</td>\n",
       "      <td>79084.10</td>\n",
       "      <td>0</td>\n",
       "      <td>0</td>\n",
       "      <td>0</td>\n",
       "      <td>1</td>\n",
       "      <td>0</td>\n",
       "      <td>0</td>\n",
       "      <td>1</td>\n",
       "      <td>0</td>\n",
       "      <td>0</td>\n",
       "      <td>0</td>\n",
       "      <td>0</td>\n",
       "      <td>0</td>\n",
       "      <td>0</td>\n",
       "      <td>0</td>\n",
       "      <td>0</td>\n",
       "      <td>1</td>\n",
       "      <td>0</td>\n",
       "      <td>0</td>\n",
       "      <td>0</td>\n",
       "    </tr>\n",
       "  </tbody>\n",
       "</table>\n",
       "</div>"
      ],
      "text/plain": [
       "   CreditScore  Gender   Age_log  Zero_Bal  HasCrCard  IsActiveMember  \\\n",
       "0          619       0  3.737670         1          1               1   \n",
       "1          608       0  3.713572     83807          0               1   \n",
       "2          502       0  3.737670    159660          1               0   \n",
       "3          699       0  3.663562         1          0               0   \n",
       "4          850       0  3.761200    125510          1               1   \n",
       "\n",
       "   EstimatedSalary  Exited  Geography_France  Geography_Germany  \\\n",
       "0        101348.88       1                 1                  0   \n",
       "1        112542.58       0                 0                  0   \n",
       "2        113931.57       1                 1                  0   \n",
       "3         93826.63       0                 1                  0   \n",
       "4         79084.10       0                 0                  0   \n",
       "\n",
       "   Geography_Spain  Tenure_0  Tenure_1  Tenure_2  Tenure_3  Tenure_4  \\\n",
       "0                0         0         0         1         0         0   \n",
       "1                1         0         1         0         0         0   \n",
       "2                0         0         0         0         0         0   \n",
       "3                0         0         1         0         0         0   \n",
       "4                1         0         0         1         0         0   \n",
       "\n",
       "   Tenure_5  Tenure_6  Tenure_7  Tenure_8  Tenure_9  Tenure_10  \\\n",
       "0         0         0         0         0         0          0   \n",
       "1         0         0         0         0         0          0   \n",
       "2         0         0         0         1         0          0   \n",
       "3         0         0         0         0         0          0   \n",
       "4         0         0         0         0         0          0   \n",
       "\n",
       "   NumOfProducts_1  NumOfProducts_2  NumOfProducts_3  NumOfProducts_4  \n",
       "0                1                0                0                0  \n",
       "1                1                0                0                0  \n",
       "2                0                0                1                0  \n",
       "3                0                1                0                0  \n",
       "4                1                0                0                0  "
      ]
     },
     "execution_count": 83,
     "metadata": {},
     "output_type": "execute_result"
    }
   ],
   "source": [
    "# Verify column header change\n",
    "df5.head()"
   ]
  },
  {
   "cell_type": "code",
   "execution_count": 84,
   "id": "1828a4ce",
   "metadata": {},
   "outputs": [
    {
     "data": {
      "text/plain": [
       "0    7963\n",
       "1    2037\n",
       "Name: Exited, dtype: int64"
      ]
     },
     "execution_count": 84,
     "metadata": {},
     "output_type": "execute_result"
    }
   ],
   "source": [
    "# Check target feature value counts\n",
    "df5['Exited'].value_counts()"
   ]
  },
  {
   "cell_type": "markdown",
   "id": "fc75d532",
   "metadata": {},
   "source": [
    "## Equal sampling of exit data."
   ]
  },
  {
   "cell_type": "markdown",
   "id": "c3922751",
   "metadata": {},
   "source": [
    "### Option 1"
   ]
  },
  {
   "cell_type": "code",
   "execution_count": 85,
   "id": "2fda2797",
   "metadata": {},
   "outputs": [
    {
     "data": {
      "text/plain": [
       "0    7963\n",
       "1    2037\n",
       "Name: Exited, dtype: int64"
      ]
     },
     "execution_count": 85,
     "metadata": {},
     "output_type": "execute_result"
    }
   ],
   "source": [
    "# Observe the value counts of the Exited feature\n",
    "df['Exited'].value_counts()"
   ]
  },
  {
   "cell_type": "code",
   "execution_count": 86,
   "id": "1c83e85f",
   "metadata": {},
   "outputs": [],
   "source": [
    "# Pick all 1 class, fill the sample with 0 class and shuffle.\n",
    "df1 = utils.shuffle(df1.groupby(\"Exited\").head(4000 - 2037))\n",
    "\n",
    "# Reset index by dropping old index.\n",
    "df1.reset_index(drop=True, inplace=True)"
   ]
  },
  {
   "cell_type": "code",
   "execution_count": 87,
   "id": "1c5b7ce5",
   "metadata": {},
   "outputs": [
    {
     "data": {
      "text/plain": [
       "1    1963\n",
       "0    1963\n",
       "Name: Exited, dtype: int64"
      ]
     },
     "execution_count": 87,
     "metadata": {},
     "output_type": "execute_result"
    }
   ],
   "source": [
    "# View revised dataframe value counts for Exited feature.\n",
    "df1['Exited'].value_counts()"
   ]
  },
  {
   "cell_type": "markdown",
   "id": "c288ba17",
   "metadata": {},
   "source": [
    "### Option 2"
   ]
  },
  {
   "cell_type": "code",
   "execution_count": 88,
   "id": "614b34e0",
   "metadata": {},
   "outputs": [
    {
     "data": {
      "text/plain": [
       "0    4846\n",
       "1    1537\n",
       "Name: Exited, dtype: int64"
      ]
     },
     "execution_count": 88,
     "metadata": {},
     "output_type": "execute_result"
    }
   ],
   "source": [
    "# View df2 value counts\n",
    "df2['Exited'].value_counts()"
   ]
  },
  {
   "cell_type": "code",
   "execution_count": 89,
   "id": "b308edcf",
   "metadata": {},
   "outputs": [],
   "source": [
    "# Pick all 1 class, fill the sample with 0 class and shuffle.\n",
    "df2 = utils.shuffle(df2.groupby(\"Exited\").head(3000 - 1537))\n",
    "\n",
    "# Reset index by dropping old index.\n",
    "df2.reset_index(drop=True, inplace=True)"
   ]
  },
  {
   "cell_type": "code",
   "execution_count": 90,
   "id": "7af757d3",
   "metadata": {},
   "outputs": [
    {
     "data": {
      "text/plain": [
       "0    1463\n",
       "1    1463\n",
       "Name: Exited, dtype: int64"
      ]
     },
     "execution_count": 90,
     "metadata": {},
     "output_type": "execute_result"
    }
   ],
   "source": [
    "# View revised dataframe value counts for Exited feature.\n",
    "df2['Exited'].value_counts()"
   ]
  },
  {
   "cell_type": "markdown",
   "id": "d6fe7a8a",
   "metadata": {},
   "source": [
    "### Option 3"
   ]
  },
  {
   "cell_type": "code",
   "execution_count": 91,
   "id": "c91c016b",
   "metadata": {},
   "outputs": [],
   "source": [
    "# Pick all 1 class, fill the sample with 0 class and shuffle.\n",
    "df3 = utils.shuffle(df3.groupby(\"Exited\").head(4000 - 2037))\n",
    "\n",
    "# Reset index by dropping old index.\n",
    "df3.reset_index(drop=True, inplace=True)"
   ]
  },
  {
   "cell_type": "code",
   "execution_count": 92,
   "id": "a80ded8f",
   "metadata": {},
   "outputs": [
    {
     "data": {
      "text/plain": [
       "0    1963\n",
       "1    1963\n",
       "Name: Exited, dtype: int64"
      ]
     },
     "execution_count": 92,
     "metadata": {},
     "output_type": "execute_result"
    }
   ],
   "source": [
    "# View revised dataframe value counts for Exited feature.\n",
    "df3['Exited'].value_counts()"
   ]
  },
  {
   "cell_type": "markdown",
   "id": "5ed912db",
   "metadata": {},
   "source": [
    "### Option 4"
   ]
  },
  {
   "cell_type": "code",
   "execution_count": 93,
   "id": "3e23e0ef",
   "metadata": {},
   "outputs": [],
   "source": [
    "# Pick all 1 class, fill the sample with 0 class and shuffle.\n",
    "df4 = utils.shuffle(df4.groupby(\"Exited\").head(4000 - 2037))\n",
    "\n",
    "# Reset index by dropping old index.\n",
    "df4.reset_index(drop=True, inplace=True)"
   ]
  },
  {
   "cell_type": "code",
   "execution_count": 94,
   "id": "49a057ed",
   "metadata": {},
   "outputs": [
    {
     "data": {
      "text/plain": [
       "1    1963\n",
       "0    1963\n",
       "Name: Exited, dtype: int64"
      ]
     },
     "execution_count": 94,
     "metadata": {},
     "output_type": "execute_result"
    }
   ],
   "source": [
    "# View revised dataframe value counts for Exited feature.\n",
    "df4['Exited'].value_counts()"
   ]
  },
  {
   "cell_type": "markdown",
   "id": "34110340",
   "metadata": {},
   "source": [
    "### Option 5"
   ]
  },
  {
   "cell_type": "code",
   "execution_count": 95,
   "id": "9814e786",
   "metadata": {},
   "outputs": [],
   "source": [
    "# Pick all 1 class, fill the sample with 0 class and shuffle.\n",
    "df5 = utils.shuffle(df5.groupby(\"Exited\").head(4000 - 2037))\n",
    "\n",
    "# Reset index by dropping old index.\n",
    "df5.reset_index(drop=True, inplace=True)"
   ]
  },
  {
   "cell_type": "code",
   "execution_count": 96,
   "id": "153289d8",
   "metadata": {},
   "outputs": [
    {
     "data": {
      "text/plain": [
       "1    1963\n",
       "0    1963\n",
       "Name: Exited, dtype: int64"
      ]
     },
     "execution_count": 96,
     "metadata": {},
     "output_type": "execute_result"
    }
   ],
   "source": [
    "# View revised dataframe value counts for Exited feature.\n",
    "df5['Exited'].value_counts()"
   ]
  },
  {
   "cell_type": "markdown",
   "id": "4cc5f32f",
   "metadata": {},
   "source": [
    "## Random Forest Model for Balance Option Evaluation"
   ]
  },
  {
   "cell_type": "markdown",
   "id": "4f13190f",
   "metadata": {},
   "source": [
    "### Split training, test, validation set for options 1-5"
   ]
  },
  {
   "cell_type": "code",
   "execution_count": 114,
   "id": "955f8480",
   "metadata": {},
   "outputs": [],
   "source": [
    "# Create target and features\n",
    "\n",
    "df1_target = df1['Exited']\n",
    "df1_feature = df1.drop('Exited', axis = 1)\n",
    "\n",
    "df2_target = df2['Exited']\n",
    "df2_feature = df2.drop('Exited', axis = 1)\n",
    "\n",
    "df3_target = df3['Exited']\n",
    "df3_feature = df3.drop('Exited', axis = 1)\n",
    "\n",
    "df4_target = df4['Exited']\n",
    "df4_feature = df4.drop('Exited', axis = 1)\n",
    "\n",
    "df5_target = df5['Exited']\n",
    "df5_feature = df5.drop('Exited', axis = 1)"
   ]
  },
  {
   "cell_type": "markdown",
   "id": "5dd5473c",
   "metadata": {},
   "source": [
    "#### Option 1"
   ]
  },
  {
   "cell_type": "code",
   "execution_count": 103,
   "id": "21a3228d",
   "metadata": {},
   "outputs": [],
   "source": [
    "# Split the balanced data into train & test sets\n",
    "X1_train, X1_test, y1_train, y1_test = train_test_split(df1_feature, df1_target,\n",
    "                                                        test_size=.30,\n",
    "                                                        random_state=0,\n",
    "                                                        stratify=df1_target)"
   ]
  },
  {
   "cell_type": "code",
   "execution_count": 108,
   "id": "55d02df5",
   "metadata": {},
   "outputs": [
    {
     "data": {
      "text/plain": [
       "0    0.5\n",
       "1    0.5\n",
       "Name: Exited, dtype: float64"
      ]
     },
     "execution_count": 108,
     "metadata": {},
     "output_type": "execute_result"
    }
   ],
   "source": [
    "# View value counts as percentange for target1.\n",
    "y1_train.value_counts(normalize=True)"
   ]
  },
  {
   "cell_type": "code",
   "execution_count": 109,
   "id": "74aa4781",
   "metadata": {},
   "outputs": [
    {
     "data": {
      "text/plain": [
       "1    0.5\n",
       "0    0.5\n",
       "Name: Exited, dtype: float64"
      ]
     },
     "execution_count": 109,
     "metadata": {},
     "output_type": "execute_result"
    }
   ],
   "source": [
    "y1_test.value_counts(normalize=True)"
   ]
  },
  {
   "cell_type": "markdown",
   "id": "cb8d447b",
   "metadata": {},
   "source": [
    "#### Option 2"
   ]
  },
  {
   "cell_type": "code",
   "execution_count": 110,
   "id": "78faea58",
   "metadata": {},
   "outputs": [],
   "source": [
    "# Split the balanced data into train & test sets\n",
    "X2_train, X2_test, y2_train, y2_test = train_test_split(df2_feature, df2_target,\n",
    "                                                        test_size=.30,\n",
    "                                                        random_state=0,\n",
    "                                                        stratify=df2_target)"
   ]
  },
  {
   "cell_type": "code",
   "execution_count": 111,
   "id": "5b06a2ad",
   "metadata": {},
   "outputs": [
    {
     "data": {
      "text/plain": [
       "0    0.5\n",
       "1    0.5\n",
       "Name: Exited, dtype: float64"
      ]
     },
     "execution_count": 111,
     "metadata": {},
     "output_type": "execute_result"
    }
   ],
   "source": [
    "# View value counts as percentange for target2.\n",
    "y2_train.value_counts(normalize=True)"
   ]
  },
  {
   "cell_type": "code",
   "execution_count": 112,
   "id": "f62d97c6",
   "metadata": {},
   "outputs": [
    {
     "data": {
      "text/plain": [
       "1    0.5\n",
       "0    0.5\n",
       "Name: Exited, dtype: float64"
      ]
     },
     "execution_count": 112,
     "metadata": {},
     "output_type": "execute_result"
    }
   ],
   "source": [
    "y2_test.value_counts(normalize=True)"
   ]
  },
  {
   "cell_type": "markdown",
   "id": "38d8d2b2",
   "metadata": {},
   "source": [
    "#### Option 3"
   ]
  },
  {
   "cell_type": "code",
   "execution_count": 115,
   "id": "c499fb4b",
   "metadata": {},
   "outputs": [],
   "source": [
    "# Split the balanced data into train & test sets\n",
    "X3_train, X3_test, y3_train, y3_test = train_test_split(df3_feature, df3_target,\n",
    "                                                        test_size=.30,\n",
    "                                                        random_state=0,\n",
    "                                                        stratify=df3_target)"
   ]
  },
  {
   "cell_type": "code",
   "execution_count": 116,
   "id": "7ed69575",
   "metadata": {},
   "outputs": [
    {
     "data": {
      "text/plain": [
       "0    0.5\n",
       "1    0.5\n",
       "Name: Exited, dtype: float64"
      ]
     },
     "execution_count": 116,
     "metadata": {},
     "output_type": "execute_result"
    }
   ],
   "source": [
    "# View value counts as percentange for target3.\n",
    "y3_train.value_counts(normalize=True)"
   ]
  },
  {
   "cell_type": "code",
   "execution_count": 117,
   "id": "ae8a6916",
   "metadata": {},
   "outputs": [
    {
     "data": {
      "text/plain": [
       "1    0.5\n",
       "0    0.5\n",
       "Name: Exited, dtype: float64"
      ]
     },
     "execution_count": 117,
     "metadata": {},
     "output_type": "execute_result"
    }
   ],
   "source": [
    "y3_test.value_counts(normalize=True)"
   ]
  },
  {
   "cell_type": "markdown",
   "id": "3eb97097",
   "metadata": {},
   "source": [
    "#### Option 4"
   ]
  },
  {
   "cell_type": "code",
   "execution_count": 120,
   "id": "66d963b3",
   "metadata": {},
   "outputs": [],
   "source": [
    "# Split the balanced data into train & test sets\n",
    "X4_train, X4_test, y4_train, y4_test = train_test_split(df4_feature, df4_target, \n",
    "                                                        test_size=.30,\n",
    "                                                        random_state=0,\n",
    "                                                        stratify=df4_target)"
   ]
  },
  {
   "cell_type": "code",
   "execution_count": 121,
   "id": "c08cb9f5",
   "metadata": {},
   "outputs": [
    {
     "data": {
      "text/plain": [
       "0    0.5\n",
       "1    0.5\n",
       "Name: Exited, dtype: float64"
      ]
     },
     "execution_count": 121,
     "metadata": {},
     "output_type": "execute_result"
    }
   ],
   "source": [
    "# View value counts as percentange for target4.\n",
    "y4_train.value_counts(normalize=True)"
   ]
  },
  {
   "cell_type": "code",
   "execution_count": 122,
   "id": "ebac28b4",
   "metadata": {},
   "outputs": [
    {
     "data": {
      "text/plain": [
       "1    0.5\n",
       "0    0.5\n",
       "Name: Exited, dtype: float64"
      ]
     },
     "execution_count": 122,
     "metadata": {},
     "output_type": "execute_result"
    }
   ],
   "source": [
    "y4_test.value_counts(normalize=True)"
   ]
  },
  {
   "cell_type": "markdown",
   "id": "44157d34",
   "metadata": {},
   "source": [
    "#### Option 5"
   ]
  },
  {
   "cell_type": "code",
   "execution_count": 123,
   "id": "40a87be7",
   "metadata": {},
   "outputs": [],
   "source": [
    "# Split the balanced data into train & test sets\n",
    "X5_train, X5_test, y5_train, y5_test = train_test_split(df5_feature, df5_target,\n",
    "                                                        test_size=.30,\n",
    "                                                        random_state=0,\n",
    "                                                        stratify=df5_target)"
   ]
  },
  {
   "cell_type": "code",
   "execution_count": 124,
   "id": "f41b5c91",
   "metadata": {},
   "outputs": [
    {
     "data": {
      "text/plain": [
       "0    0.5\n",
       "1    0.5\n",
       "Name: Exited, dtype: float64"
      ]
     },
     "execution_count": 124,
     "metadata": {},
     "output_type": "execute_result"
    }
   ],
   "source": [
    "# View value counts as percentange for target5.\n",
    "y5_train.value_counts(normalize=True)"
   ]
  },
  {
   "cell_type": "code",
   "execution_count": 125,
   "id": "70b191d7",
   "metadata": {},
   "outputs": [
    {
     "data": {
      "text/plain": [
       "1    0.5\n",
       "0    0.5\n",
       "Name: Exited, dtype: float64"
      ]
     },
     "execution_count": 125,
     "metadata": {},
     "output_type": "execute_result"
    }
   ],
   "source": [
    "y5_test.value_counts(normalize=True)"
   ]
  },
  {
   "cell_type": "markdown",
   "id": "ca52146a",
   "metadata": {},
   "source": [
    "### Fit and Train the models"
   ]
  },
  {
   "cell_type": "code",
   "execution_count": 126,
   "id": "a34ccd9a",
   "metadata": {},
   "outputs": [],
   "source": [
    "# Option 1\n",
    "rf1= RandomForestClassifier()\n",
    "model1 = rf1.fit(X1_train, y1_train)"
   ]
  },
  {
   "cell_type": "code",
   "execution_count": 127,
   "id": "f039ff7a",
   "metadata": {},
   "outputs": [],
   "source": [
    "# Option 2\n",
    "rf2= RandomForestClassifier()\n",
    "model2 = rf2.fit(X2_train, y2_train)"
   ]
  },
  {
   "cell_type": "code",
   "execution_count": 128,
   "id": "6c810a7b",
   "metadata": {},
   "outputs": [],
   "source": [
    "# Option 3\n",
    "rf3= RandomForestClassifier()\n",
    "model3 = rf3.fit(X3_train, y3_train)"
   ]
  },
  {
   "cell_type": "code",
   "execution_count": 129,
   "id": "03e64dda",
   "metadata": {},
   "outputs": [],
   "source": [
    "# Option 4\n",
    "rf4= RandomForestClassifier()\n",
    "model4 = rf4.fit(X4_train, y4_train)"
   ]
  },
  {
   "cell_type": "code",
   "execution_count": 130,
   "id": "f8ae8e71",
   "metadata": {},
   "outputs": [],
   "source": [
    "# Option 5\n",
    "rf5= RandomForestClassifier()\n",
    "model5 = rf5.fit(X5_train, y5_train)"
   ]
  },
  {
   "cell_type": "markdown",
   "id": "211f4d8c",
   "metadata": {},
   "source": [
    "### Evaluate the models"
   ]
  },
  {
   "cell_type": "markdown",
   "id": "4b22293f",
   "metadata": {},
   "source": [
    "#### Confusion Matrix, Classification Report"
   ]
  },
  {
   "cell_type": "code",
   "execution_count": 131,
   "id": "2b9e7d80",
   "metadata": {},
   "outputs": [
    {
     "name": "stdout",
     "output_type": "stream",
     "text": [
      "Confusion Matrix \n",
      " [[454 135]\n",
      " [131 458]] \n",
      "\n",
      "Classification Report\n",
      "               precision    recall  f1-score   support\n",
      "\n",
      "           0       0.78      0.77      0.77       589\n",
      "           1       0.77      0.78      0.77       589\n",
      "\n",
      "    accuracy                           0.77      1178\n",
      "   macro avg       0.77      0.77      0.77      1178\n",
      "weighted avg       0.77      0.77      0.77      1178\n",
      "\n"
     ]
    }
   ],
   "source": [
    "# Option 1\n",
    "y1_pred = rf1.predict(X1_test)\n",
    "print('Confusion Matrix \\n',confusion_matrix(y1_test, y1_pred),'\\n')\n",
    "print('Classification Report\\n',classification_report(y1_test, y1_pred))"
   ]
  },
  {
   "cell_type": "code",
   "execution_count": 132,
   "id": "39833355",
   "metadata": {},
   "outputs": [
    {
     "name": "stdout",
     "output_type": "stream",
     "text": [
      "Confusion Matrix \n",
      " [[342  97]\n",
      " [126 313]] \n",
      "\n",
      "Classification Report\n",
      "               precision    recall  f1-score   support\n",
      "\n",
      "           0       0.73      0.78      0.75       439\n",
      "           1       0.76      0.71      0.74       439\n",
      "\n",
      "    accuracy                           0.75       878\n",
      "   macro avg       0.75      0.75      0.75       878\n",
      "weighted avg       0.75      0.75      0.75       878\n",
      "\n"
     ]
    }
   ],
   "source": [
    "# Option 2\n",
    "y2_pred = rf2.predict(X2_test)\n",
    "print('Confusion Matrix \\n', confusion_matrix(y2_test, y2_pred),'\\n')\n",
    "print('Classification Report\\n', classification_report(y2_test, y2_pred))"
   ]
  },
  {
   "cell_type": "code",
   "execution_count": 133,
   "id": "1477e55a",
   "metadata": {},
   "outputs": [
    {
     "name": "stdout",
     "output_type": "stream",
     "text": [
      "Confusion Matrix \n",
      " [[490  99]\n",
      " [160 429]] \n",
      "\n",
      "Classification Report\n",
      "               precision    recall  f1-score   support\n",
      "\n",
      "           0       0.75      0.83      0.79       589\n",
      "           1       0.81      0.73      0.77       589\n",
      "\n",
      "    accuracy                           0.78      1178\n",
      "   macro avg       0.78      0.78      0.78      1178\n",
      "weighted avg       0.78      0.78      0.78      1178\n",
      "\n"
     ]
    }
   ],
   "source": [
    "# Option 3\n",
    "y3_pred = rf3.predict(X3_test)\n",
    "print('Confusion Matrix \\n',confusion_matrix(y3_test, y3_pred),'\\n')\n",
    "print('Classification Report\\n',classification_report(y3_test, y3_pred))"
   ]
  },
  {
   "cell_type": "code",
   "execution_count": 134,
   "id": "94a05ec0",
   "metadata": {},
   "outputs": [
    {
     "name": "stdout",
     "output_type": "stream",
     "text": [
      "Confusion Matrix \n",
      " [[469 120]\n",
      " [162 427]] \n",
      "\n",
      "Classification Report\n",
      "               precision    recall  f1-score   support\n",
      "\n",
      "           0       0.74      0.80      0.77       589\n",
      "           1       0.78      0.72      0.75       589\n",
      "\n",
      "    accuracy                           0.76      1178\n",
      "   macro avg       0.76      0.76      0.76      1178\n",
      "weighted avg       0.76      0.76      0.76      1178\n",
      "\n"
     ]
    }
   ],
   "source": [
    "# Option 4\n",
    "y4_pred = rf4.predict(X4_test)\n",
    "print('Confusion Matrix \\n',confusion_matrix(y4_test, y4_pred),'\\n')\n",
    "print('Classification Report\\n',classification_report(y4_test, y4_pred))"
   ]
  },
  {
   "cell_type": "code",
   "execution_count": 135,
   "id": "d1dd8441",
   "metadata": {},
   "outputs": [
    {
     "name": "stdout",
     "output_type": "stream",
     "text": [
      "Confusion Matrix \n",
      " [[462 127]\n",
      " [154 435]] \n",
      "\n",
      "Classification Report\n",
      "               precision    recall  f1-score   support\n",
      "\n",
      "           0       0.75      0.78      0.77       589\n",
      "           1       0.77      0.74      0.76       589\n",
      "\n",
      "    accuracy                           0.76      1178\n",
      "   macro avg       0.76      0.76      0.76      1178\n",
      "weighted avg       0.76      0.76      0.76      1178\n",
      "\n"
     ]
    }
   ],
   "source": [
    "# Option 5\n",
    "y5_pred = rf5.predict(X5_test)\n",
    "print('Confusion Matrix \\n', confusion_matrix(y5_test, y5_pred),'\\n')\n",
    "print('Classification Report\\n',classification_report(y5_test, y5_pred))"
   ]
  },
  {
   "cell_type": "markdown",
   "id": "07e3d49c",
   "metadata": {},
   "source": [
    "#### ROC Curve and ROC AUC"
   ]
  },
  {
   "cell_type": "code",
   "execution_count": 136,
   "id": "a0dcb43c",
   "metadata": {},
   "outputs": [],
   "source": [
    "# Compute the false positive rate (FPR)  \n",
    "# and true positive rate (TPR) for different classification thresholds \n",
    "\n",
    "# Create a function to plot the ROC curves for each option\n",
    "def plot_roc_curve(y_test, y_pred_prob, roc_auc):\n",
    "    \"\"\"\n",
    "    plots the roc curve based of the probabilities\n",
    "    \"\"\"\n",
    "\n",
    "    fpr, tpr, thresholds = roc_curve(y_test, y_pred_prob, pos_label=1)\n",
    "    plt.plot(fpr, tpr, label='ROC curve (area = %0.2f)' % roc_auc)\n",
    "    plt.plot([0, 1], [0, 1], 'k--', label='Random classifier') \n",
    "    plt.xlabel('False Positive Rate')\n",
    "    plt.ylabel('True Positive Rate')\n",
    "    plt.title('ROC Curve') \n",
    "    plt.legend(loc=\"lower right\") \n",
    "    plt.show()"
   ]
  },
  {
   "cell_type": "code",
   "execution_count": 137,
   "id": "225333fe",
   "metadata": {},
   "outputs": [],
   "source": [
    "# Get predicted class probabilities for the test sets \n",
    "y1_pred_prob = rf1.predict_proba(X1_test)[:, 1]\n",
    "y2_pred_prob = rf2.predict_proba(X2_test)[:, 1]\n",
    "y3_pred_prob = rf3.predict_proba(X3_test)[:, 1]\n",
    "y4_pred_prob = rf4.predict_proba(X4_test)[:, 1] \n",
    "y5_pred_prob = rf5.predict_proba(X5_test)[:, 1] "
   ]
  },
  {
   "cell_type": "code",
   "execution_count": 138,
   "id": "2b6aab30",
   "metadata": {},
   "outputs": [],
   "source": [
    "# Compute the ROC AUC score \n",
    "roc_auc1 = roc_auc_score(y1_test, y1_pred_prob) \n",
    "roc_auc2 = roc_auc_score(y2_test, y2_pred_prob)\n",
    "roc_auc3 = roc_auc_score(y3_test, y3_pred_prob) \n",
    "roc_auc4 = roc_auc_score(y4_test, y4_pred_prob) \n",
    "roc_auc5 = roc_auc_score(y5_test, y5_pred_prob) "
   ]
  },
  {
   "cell_type": "code",
   "execution_count": 139,
   "id": "6c57c045",
   "metadata": {},
   "outputs": [
    {
     "data": {
      "image/png": "[encoded data removed]",
      "text/plain": [
       "<Figure size 640x480 with 1 Axes>"
      ]
     },
     "metadata": {},
     "output_type": "display_data"
    }
   ],
   "source": [
    "# Plot ROC Option 1\n",
    "plot_roc_curve(y1_test, y1_pred_prob, roc_auc1)"
   ]
  },
  {
   "cell_type": "code",
   "execution_count": 140,
   "id": "6d4b1c14",
   "metadata": {},
   "outputs": [
    {
     "data": {
      "image/png": "[encoded data removed]",
      "text/plain": [
       "<Figure size 640x480 with 1 Axes>"
      ]
     },
     "metadata": {},
     "output_type": "display_data"
    }
   ],
   "source": [
    "# Plot ROC Option 2\n",
    "plot_roc_curve(y2_test, y2_pred_prob, roc_auc2)"
   ]
  },
  {
   "cell_type": "code",
   "execution_count": 141,
   "id": "7c24b268",
   "metadata": {},
   "outputs": [
    {
     "data": {
      "image/png": "[encoded data removed]",
      "text/plain": [
       "<Figure size 640x480 with 1 Axes>"
      ]
     },
     "metadata": {},
     "output_type": "display_data"
    }
   ],
   "source": [
    "# Plot ROC Option 3\n",
    "plot_roc_curve(y3_test, y3_pred_prob, roc_auc3)"
   ]
  },
  {
   "cell_type": "code",
   "execution_count": 142,
   "id": "bbe1e087",
   "metadata": {},
   "outputs": [
    {
     "data": {
      "image/png": "[encoded data removed]",
      "text/plain": [
       "<Figure size 640x480 with 1 Axes>"
      ]
     },
     "metadata": {},
     "output_type": "display_data"
    }
   ],
   "source": [
    "# Plot ROC Option 4\n",
    "plot_roc_curve(y4_test, y4_pred_prob, roc_auc4)"
   ]
  },
  {
   "cell_type": "code",
   "execution_count": 143,
   "id": "57c876fb",
   "metadata": {},
   "outputs": [
    {
     "data": {
      "image/png": "[encoded data removed]",
      "text/plain": [
       "<Figure size 640x480 with 1 Axes>"
      ]
     },
     "metadata": {},
     "output_type": "display_data"
    }
   ],
   "source": [
    "# Plot ROC Option 5\n",
    "plot_roc_curve(y5_test, y5_pred_prob, roc_auc5)"
   ]
  },
  {
   "cell_type": "markdown",
   "id": "9dfc1b4b",
   "metadata": {},
   "source": [
    "## Feature Importance"
   ]
  },
  {
   "cell_type": "code",
   "execution_count": 144,
   "id": "8ac32f5d",
   "metadata": {},
   "outputs": [
    {
     "data": {
      "text/html": [
       "<div>\n",
       "<style scoped>\n",
       "    .dataframe tbody tr th:only-of-type {\n",
       "        vertical-align: middle;\n",
       "    }\n",
       "\n",
       "    .dataframe tbody tr th {\n",
       "        vertical-align: top;\n",
       "    }\n",
       "\n",
       "    .dataframe thead th {\n",
       "        text-align: right;\n",
       "    }\n",
       "</style>\n",
       "<table border=\"1\" class=\"dataframe\">\n",
       "  <thead>\n",
       "    <tr style=\"text-align: right;\">\n",
       "      <th></th>\n",
       "      <th>feature1</th>\n",
       "      <th>importance1</th>\n",
       "    </tr>\n",
       "  </thead>\n",
       "  <tbody>\n",
       "    <tr>\n",
       "      <th>2</th>\n",
       "      <td>Age_log</td>\n",
       "      <td>0.221372</td>\n",
       "    </tr>\n",
       "    <tr>\n",
       "      <th>3</th>\n",
       "      <td>Balance</td>\n",
       "      <td>0.132248</td>\n",
       "    </tr>\n",
       "    <tr>\n",
       "      <th>6</th>\n",
       "      <td>EstimatedSalary</td>\n",
       "      <td>0.121200</td>\n",
       "    </tr>\n",
       "    <tr>\n",
       "      <th>0</th>\n",
       "      <td>CreditScore</td>\n",
       "      <td>0.117504</td>\n",
       "    </tr>\n",
       "    <tr>\n",
       "      <th>22</th>\n",
       "      <td>NumOfProducts_2</td>\n",
       "      <td>0.087115</td>\n",
       "    </tr>\n",
       "  </tbody>\n",
       "</table>\n",
       "</div>"
      ],
      "text/plain": [
       "           feature1  importance1\n",
       "2           Age_log     0.221372\n",
       "3           Balance     0.132248\n",
       "6   EstimatedSalary     0.121200\n",
       "0       CreditScore     0.117504\n",
       "22  NumOfProducts_2     0.087115"
      ]
     },
     "execution_count": 144,
     "metadata": {},
     "output_type": "execute_result"
    }
   ],
   "source": [
    "# Option 1\n",
    "fi1 = pd.DataFrame({'feature1': list(X1_train.columns),\n",
    "                   'importance1': rf1.feature_importances_}).\\\n",
    "                    sort_values('importance1', ascending = False)\n",
    "fi1.head()"
   ]
  },
  {
   "cell_type": "code",
   "execution_count": 148,
   "id": "8590578f",
   "metadata": {
    "scrolled": true
   },
   "outputs": [
    {
     "data": {
      "text/html": [
       "<div>\n",
       "<style scoped>\n",
       "    .dataframe tbody tr th:only-of-type {\n",
       "        vertical-align: middle;\n",
       "    }\n",
       "\n",
       "    .dataframe tbody tr th {\n",
       "        vertical-align: top;\n",
       "    }\n",
       "\n",
       "    .dataframe thead th {\n",
       "        text-align: right;\n",
       "    }\n",
       "</style>\n",
       "<table border=\"1\" class=\"dataframe\">\n",
       "  <thead>\n",
       "    <tr style=\"text-align: right;\">\n",
       "      <th></th>\n",
       "      <th>feature5</th>\n",
       "      <th>importance5</th>\n",
       "    </tr>\n",
       "  </thead>\n",
       "  <tbody>\n",
       "    <tr>\n",
       "      <th>2</th>\n",
       "      <td>Age_log</td>\n",
       "      <td>0.233885</td>\n",
       "    </tr>\n",
       "    <tr>\n",
       "      <th>3</th>\n",
       "      <td>Zero_Bal</td>\n",
       "      <td>0.125782</td>\n",
       "    </tr>\n",
       "    <tr>\n",
       "      <th>6</th>\n",
       "      <td>EstimatedSalary</td>\n",
       "      <td>0.121146</td>\n",
       "    </tr>\n",
       "    <tr>\n",
       "      <th>0</th>\n",
       "      <td>CreditScore</td>\n",
       "      <td>0.115282</td>\n",
       "    </tr>\n",
       "    <tr>\n",
       "      <th>22</th>\n",
       "      <td>NumOfProducts_2</td>\n",
       "      <td>0.088138</td>\n",
       "    </tr>\n",
       "  </tbody>\n",
       "</table>\n",
       "</div>"
      ],
      "text/plain": [
       "           feature5  importance5\n",
       "2           Age_log     0.233885\n",
       "3          Zero_Bal     0.125782\n",
       "6   EstimatedSalary     0.121146\n",
       "0       CreditScore     0.115282\n",
       "22  NumOfProducts_2     0.088138"
      ]
     },
     "execution_count": 148,
     "metadata": {},
     "output_type": "execute_result"
    }
   ],
   "source": [
    "# Option 5\n",
    "fi5 = pd.DataFrame({'feature5': list(X5_train.columns),\n",
    "                   'importance5': rf5.feature_importances_}).\\\n",
    "                    sort_values('importance5', ascending = False)\n",
    "fi5.head()"
   ]
  },
  {
   "cell_type": "markdown",
   "id": "bf4e4f1e",
   "metadata": {},
   "source": [
    "Option 1 is the strongest for models that are not impacted by skew. I'd like to explore Option 5 as well."
   ]
  },
  {
   "cell_type": "markdown",
   "id": "519324d8",
   "metadata": {},
   "source": [
    "## Plot the predicted class probabilities "
   ]
  },
  {
   "cell_type": "code",
   "execution_count": 149,
   "id": "4e10b525",
   "metadata": {},
   "outputs": [
    {
     "data": {
      "image/png": "[encoded data removed]",
      "text/plain": [
       "<Figure size 640x480 with 1 Axes>"
      ]
     },
     "metadata": {},
     "output_type": "display_data"
    }
   ],
   "source": [
    "# Option 1\n",
    "plt.hist(y1_pred_prob, bins=10) \n",
    "plt.xlim(0, 1) \n",
    "plt.title('Histogram of predicted probabilities') \n",
    "plt.xlabel('Predicted probability of Exited') \n",
    "plt.ylabel('Frequency') \n",
    "plt.show() "
   ]
  },
  {
   "cell_type": "code",
   "execution_count": 150,
   "id": "ea2a323e",
   "metadata": {},
   "outputs": [
    {
     "data": {
      "image/png": "[encoded data removed]",
      "text/plain": [
       "<Figure size 640x480 with 1 Axes>"
      ]
     },
     "metadata": {},
     "output_type": "display_data"
    }
   ],
   "source": [
    "# Option 5\n",
    "plt.hist(y5_pred_prob, bins=10) \n",
    "plt.xlim(0, 1) \n",
    "plt.title('Histogram of predicted probabilities') \n",
    "plt.xlabel('Predicted probability of Exited') \n",
    "plt.ylabel('Frequency') \n",
    "plt.show() "
   ]
  },
  {
   "cell_type": "markdown",
   "id": "1094479b",
   "metadata": {},
   "source": [
    "# Modeling with Balance Options 1 and 5"
   ]
  },
  {
   "cell_type": "markdown",
   "id": "7d3ffb53",
   "metadata": {},
   "source": [
    "## Split the data into train, validate, test"
   ]
  },
  {
   "cell_type": "markdown",
   "id": "f0af61fe",
   "metadata": {},
   "source": [
    "### Option 1"
   ]
  },
  {
   "cell_type": "code",
   "execution_count": 151,
   "id": "131a7874",
   "metadata": {},
   "outputs": [],
   "source": [
    "# Split train/test and validate data with stratification\n",
    "df1X, df1X_val, df1y, df1y_val = train_test_split(df1_feature, \n",
    "                                                  df1_target,\n",
    "                                                  test_size=.10, \n",
    "                                                  random_state=0,\n",
    "                                                  stratify=df1_target)"
   ]
  },
  {
   "cell_type": "code",
   "execution_count": 153,
   "id": "6f859036",
   "metadata": {},
   "outputs": [],
   "source": [
    "# Split the train/test from above into train and test data with stratification\n",
    "X1a_train, X1a_test, y1a_train, y1a_test = train_test_split(df1X,df1y,\n",
    "                                                  test_size=.15, \n",
    "                                                  random_state=0,\n",
    "                                                  stratify=df1y)"
   ]
  },
  {
   "cell_type": "markdown",
   "id": "df118630",
   "metadata": {},
   "source": [
    "### Option 5"
   ]
  },
  {
   "cell_type": "code",
   "execution_count": 155,
   "id": "78b5477b",
   "metadata": {},
   "outputs": [],
   "source": [
    "# Split train/test and validate data with stratification\n",
    "df5X, df5X_val, df5y, df5y_val = train_test_split(df5_feature, \n",
    "                                                  df5_target,\n",
    "                                                  test_size=.10, \n",
    "                                                  random_state=0,\n",
    "                                                  stratify=df5_target)"
   ]
  },
  {
   "cell_type": "code",
   "execution_count": 156,
   "id": "ff78df43",
   "metadata": {},
   "outputs": [],
   "source": [
    "# Split the train/test from above into train and test data with stratification\n",
    "X5a_train, X5a_test, y5a_train, y5a_test = train_test_split(df5X,df5y,\n",
    "                                                  test_size=.15, \n",
    "                                                  random_state=0,\n",
    "                                                  stratify=df5y)"
   ]
  },
  {
   "cell_type": "markdown",
   "id": "79505b0d",
   "metadata": {},
   "source": [
    "## Create funtions to fit and evaluation model options"
   ]
  },
  {
   "cell_type": "code",
   "execution_count": 157,
   "id": "9e039425",
   "metadata": {},
   "outputs": [],
   "source": [
    "#creating a function to handle classification algorithms\n",
    "\n",
    "class fastML:\n",
    "    \n",
    "    def __init__(self, X, Y, X_test, y_test, *args, special_classifier_epochs=1,special_classifier_nature ='fixed',\n",
    "          include_special_classifier = False, special_classifier_verbose= 1):\n",
    "\n",
    "        ##training the model with train data\n",
    "        acc_score = []\n",
    "        for alg in args:\n",
    "            cv = cross_val_score(alg, X, Y, cv = 3)\n",
    "            alg.fit(X, Y.values.ravel())\n",
    "            prediction = alg.predict(X_test)\n",
    "\n",
    "            ##outputing statistics on the performance of the individual models\n",
    "            ##statistics printed out are the accuracy score, confusion matrix and clasification report\n",
    "            print('____________________________________________________')\n",
    "            print(\"Training Cross Validation Scores for \"+ alg.__class__.__name__+\" is \\n\"+ str(cv))\n",
    "            print('\\n')\n",
    "            \n",
    "            print(\"Test ROC AUC Score for \"+ alg.__class__.__name__+\" is \\n\"+ str(roc_auc_score(y_test, prediction)))\n",
    "            print('\\n')\n",
    "\n",
    "            print(\"Confusion Matrix for \"+ alg.__class__.__name__+\" is \\n\"+ str(confusion_matrix(y_test, prediction)))\n",
    "            print('\\n')\n",
    "\n",
    "            print(\"Classification Report for \"+ alg.__class__.__name__+\" is \\n\"+ str(classification_report(y_test, prediction)))\n",
    "            print('\\n')\n",
    "            print('____________________________________________________')\n",
    "\n",
    "            ##saving the accuracy scores of the individual models as variables\n",
    "            accuracy = str(accuracy_score(y_test, prediction))\n",
    "\n",
    "            ##making a list of individual models and their accuracy scores\n",
    "            acc_score.append([alg.__class__.__name__, accuracy])\n",
    "    \n",
    "        ##creating a dataframe of every individual model and accuracy score \n",
    "        df = pd.DataFrame(acc_score, columns=['Model', 'Accuracy'])\n",
    "        ##outputing the created dataframe \n",
    "        print(df)"
   ]
  },
  {
   "cell_type": "code",
   "execution_count": 158,
   "id": "bb42c638",
   "metadata": {},
   "outputs": [],
   "source": [
    "#creating a function to handle standard scaling with classification algorithms\n",
    "\n",
    "class fastMLScaledStandard:\n",
    "    \n",
    "    def __init__(self, X, Y, X_test, y_test, *args, special_classifier_epochs=1,special_classifier_nature ='fixed',\n",
    "          include_special_classifier = False, special_classifier_verbose= 1):\n",
    "\n",
    "        ##training the model with train data\n",
    "        acc_score = []\n",
    "        for alg in args:\n",
    "            cv = cross_val_score(alg, X, Y, cv = 3)\n",
    "            scaler = StandardScaler()\n",
    "            scaler.fit(X)\n",
    "            scaler.fit(X_test)\n",
    "            alg.fit(X, Y.values.ravel())\n",
    "            prediction = alg.predict(X_test)\n",
    "\n",
    "            ##outputing statistics on the performance of the individual models\n",
    "            ##statistics printed out are the accuracy score, confusion matrix and clasification report\n",
    "            print('____________________________________________________')\n",
    "            print(\"Training Cross Validation Scores for \"+ alg.__class__.__name__+\" is \\n\"+ str(cv))\n",
    "            print('\\n')\n",
    "\n",
    "            print(\"Test ROC AUC Score for \"+ alg.__class__.__name__+\" is \\n\"+ str(roc_auc_score(y_test, prediction)))\n",
    "            print('\\n')\n",
    "            \n",
    "            print(\"Confusion Matrix for \"+ alg.__class__.__name__+\" is \\n\"+ str(confusion_matrix(y_test, prediction)))\n",
    "            print('\\n')\n",
    "\n",
    "            print(\"Classification Report for \"+ alg.__class__.__name__+\" is \\n\"+ str(classification_report(y_test, prediction)))\n",
    "            print('\\n')\n",
    "            print('____________________________________________________')\n",
    "\n",
    "            ##saving the accuracy scores of the individual models as variables\n",
    "            accuracy = str(accuracy_score(y_test, prediction))\n",
    "\n",
    "            ##making a list of individual models and their accuracy scores\n",
    "            acc_score.append([alg.__class__.__name__, accuracy])\n",
    "    \n",
    "        ##creating a dataframe of every individual model and accuracy score \n",
    "        df = pd.DataFrame(acc_score, columns=['Model', 'Accuracy'])\n",
    "        ##outputing the created dataframe \n",
    "        print(df)"
   ]
  },
  {
   "cell_type": "code",
   "execution_count": 159,
   "id": "9513f09c",
   "metadata": {},
   "outputs": [],
   "source": [
    "#creating a function to handle Min Max scaled classification algorithms\n",
    "\n",
    "class fastMLScaledMM:\n",
    "    \n",
    "    def __init__(self, X, Y, X_test, y_test, *args, special_classifier_epochs=1,special_classifier_nature ='fixed',\n",
    "          include_special_classifier = False, special_classifier_verbose= 1):\n",
    "\n",
    "        ##training the model with train data\n",
    "        acc_score = []\n",
    "        pred_prob = []\n",
    "        for alg in args:\n",
    "            cv = cross_val_score(alg, X, Y, cv = 3)\n",
    "            scaler = MinMaxScaler()\n",
    "            scaler.fit(X)\n",
    "            scaler.fit(X_test)\n",
    "            alg.fit(X, Y.values.ravel())\n",
    "            prediction = alg.predict(X_test)\n",
    "            featureImp = pd.DataFrame({'feature1': list(X.columns),\n",
    "                   'importance1': alg.feature_importances_}).\\\n",
    "                    sort_values('importance1', ascending = False)\n",
    "\n",
    "            ##outputing statistics on the performance of the individual models\n",
    "            ##statistics printed out are the accuracy score, confusion matrix and clasification report\n",
    "            print('____________________________________________________')\n",
    "            print(\"Training Cross Validation Scores for \"+ alg.__class__.__name__+\" is \\n\"+ str(cv))\n",
    "            print('\\n')\n",
    "\n",
    "            print(\"Test ROC AUC Score for \"+ alg.__class__.__name__+\" is \\n\"+ str(roc_auc_score(y_test, prediction)))\n",
    "            print('\\n')\n",
    "            \n",
    "            print(\"Confusion Matrix for \"+ alg.__class__.__name__+\" is \\n\"+ str(confusion_matrix(y_test, prediction)))\n",
    "            print('\\n')\n",
    "\n",
    "            print(\"Classification Report for \"+ alg.__class__.__name__+\" is \\n\"+ str(classification_report(y_test, prediction)))\n",
    "            print('\\n')\n",
    "\n",
    "            print(\"Feature Importance for \"+ alg.__class__.__name__+\" is \\n\"+ str(featureImp.head()))\n",
    "            print('\\n')\n",
    "         \n",
    "            print('____________________________________________________')\n",
    "\n",
    "            ##saving the accuracy scores of the individual models as variables\n",
    "            accuracy = str(accuracy_score(y_test, prediction))\n",
    "            pred_probability = str(alg.predict_proba(X_test)[:, 1])\n",
    "            ##making a list of individual models and their accuracy scores\n",
    "            acc_score.append([alg.__class__.__name__, accuracy])\n",
    "        \n",
    "        ##creating a dataframe of every individual model and accuracy score \n",
    "        df = pd.DataFrame(acc_score, columns=['Model', 'Accuracy'])\n",
    "        ##outputing the created dataframe \n",
    "        print(df)"
   ]
  },
  {
   "cell_type": "markdown",
   "id": "d7873305",
   "metadata": {},
   "source": [
    "## Fit and Evaluate Model Options"
   ]
  },
  {
   "cell_type": "markdown",
   "id": "353f036e",
   "metadata": {},
   "source": [
    "### Option 1"
   ]
  },
  {
   "cell_type": "code",
   "execution_count": 162,
   "id": "5a11fe78",
   "metadata": {},
   "outputs": [
    {
     "name": "stdout",
     "output_type": "stream",
     "text": [
      "____________________________________________________\n",
      "Training Cross Validation Scores for RandomForestClassifier is \n",
      "[0.76623377 0.78521479 0.77622378]\n",
      "\n",
      "\n",
      "Test ROC AUC Score for RandomForestClassifier is \n",
      "0.7490566037735849\n",
      "\n",
      "\n",
      "Confusion Matrix for RandomForestClassifier is \n",
      "[[207  58]\n",
      " [ 75 190]]\n",
      "\n",
      "\n",
      "Classification Report for RandomForestClassifier is \n",
      "              precision    recall  f1-score   support\n",
      "\n",
      "           0       0.73      0.78      0.76       265\n",
      "           1       0.77      0.72      0.74       265\n",
      "\n",
      "    accuracy                           0.75       530\n",
      "   macro avg       0.75      0.75      0.75       530\n",
      "weighted avg       0.75      0.75      0.75       530\n",
      "\n",
      "\n",
      "\n",
      "____________________________________________________\n",
      "____________________________________________________\n",
      "Training Cross Validation Scores for MLPClassifier is \n",
      "[0.54645355 0.47552448 0.4965035 ]\n",
      "\n",
      "\n",
      "Test ROC AUC Score for MLPClassifier is \n",
      "0.4641509433962264\n",
      "\n",
      "\n",
      "Confusion Matrix for MLPClassifier is \n",
      "[[104 161]\n",
      " [123 142]]\n",
      "\n",
      "\n",
      "Classification Report for MLPClassifier is \n",
      "              precision    recall  f1-score   support\n",
      "\n",
      "           0       0.46      0.39      0.42       265\n",
      "           1       0.47      0.54      0.50       265\n",
      "\n",
      "    accuracy                           0.46       530\n",
      "   macro avg       0.46      0.46      0.46       530\n",
      "weighted avg       0.46      0.46      0.46       530\n",
      "\n",
      "\n",
      "\n",
      "____________________________________________________\n",
      "____________________________________________________\n",
      "Training Cross Validation Scores for SVC is \n",
      "[0.54545455 0.56343656 0.55944056]\n",
      "\n",
      "\n",
      "Test ROC AUC Score for SVC is \n",
      "0.5547169811320753\n",
      "\n",
      "\n",
      "Confusion Matrix for SVC is \n",
      "[[ 98 167]\n",
      " [ 69 196]]\n",
      "\n",
      "\n",
      "Classification Report for SVC is \n",
      "              precision    recall  f1-score   support\n",
      "\n",
      "           0       0.59      0.37      0.45       265\n",
      "           1       0.54      0.74      0.62       265\n",
      "\n",
      "    accuracy                           0.55       530\n",
      "   macro avg       0.56      0.55      0.54       530\n",
      "weighted avg       0.56      0.55      0.54       530\n",
      "\n",
      "\n",
      "\n",
      "____________________________________________________\n",
      "____________________________________________________\n",
      "Training Cross Validation Scores for AdaBoostClassifier is \n",
      "[0.76323676 0.77322677 0.74625375]\n",
      "\n",
      "\n",
      "Test ROC AUC Score for AdaBoostClassifier is \n",
      "0.7509433962264151\n",
      "\n",
      "\n",
      "Confusion Matrix for AdaBoostClassifier is \n",
      "[[207  58]\n",
      " [ 74 191]]\n",
      "\n",
      "\n",
      "Classification Report for AdaBoostClassifier is \n",
      "              precision    recall  f1-score   support\n",
      "\n",
      "           0       0.74      0.78      0.76       265\n",
      "           1       0.77      0.72      0.74       265\n",
      "\n",
      "    accuracy                           0.75       530\n",
      "   macro avg       0.75      0.75      0.75       530\n",
      "weighted avg       0.75      0.75      0.75       530\n",
      "\n",
      "\n",
      "\n",
      "____________________________________________________\n",
      "____________________________________________________\n",
      "Training Cross Validation Scores for GaussianNB is \n",
      "[0.57042957 0.60639361 0.58541459]\n",
      "\n",
      "\n",
      "Test ROC AUC Score for GaussianNB is \n",
      "0.5811320754716981\n",
      "\n",
      "\n",
      "Confusion Matrix for GaussianNB is \n",
      "[[124 141]\n",
      " [ 81 184]]\n",
      "\n",
      "\n",
      "Classification Report for GaussianNB is \n",
      "              precision    recall  f1-score   support\n",
      "\n",
      "           0       0.60      0.47      0.53       265\n",
      "           1       0.57      0.69      0.62       265\n",
      "\n",
      "    accuracy                           0.58       530\n",
      "   macro avg       0.59      0.58      0.58       530\n",
      "weighted avg       0.59      0.58      0.58       530\n",
      "\n",
      "\n",
      "\n",
      "____________________________________________________\n",
      "____________________________________________________\n",
      "Training Cross Validation Scores for DecisionTreeClassifier is \n",
      "[0.68131868 0.69330669 0.68131868]\n",
      "\n",
      "\n",
      "Test ROC AUC Score for DecisionTreeClassifier is \n",
      "0.7000000000000001\n",
      "\n",
      "\n",
      "Confusion Matrix for DecisionTreeClassifier is \n",
      "[[186  79]\n",
      " [ 80 185]]\n",
      "\n",
      "\n",
      "Classification Report for DecisionTreeClassifier is \n",
      "              precision    recall  f1-score   support\n",
      "\n",
      "           0       0.70      0.70      0.70       265\n",
      "           1       0.70      0.70      0.70       265\n",
      "\n",
      "    accuracy                           0.70       530\n",
      "   macro avg       0.70      0.70      0.70       530\n",
      "weighted avg       0.70      0.70      0.70       530\n",
      "\n",
      "\n",
      "\n",
      "____________________________________________________\n",
      "____________________________________________________\n",
      "Training Cross Validation Scores for CategoricalNB is \n",
      "[       nan        nan 0.68531469]\n",
      "\n",
      "\n",
      "Test ROC AUC Score for CategoricalNB is \n",
      "0.709433962264151\n",
      "\n",
      "\n",
      "Confusion Matrix for CategoricalNB is \n",
      "[[185  80]\n",
      " [ 74 191]]\n",
      "\n",
      "\n",
      "Classification Report for CategoricalNB is \n",
      "              precision    recall  f1-score   support\n",
      "\n",
      "           0       0.71      0.70      0.71       265\n",
      "           1       0.70      0.72      0.71       265\n",
      "\n",
      "    accuracy                           0.71       530\n",
      "   macro avg       0.71      0.71      0.71       530\n",
      "weighted avg       0.71      0.71      0.71       530\n",
      "\n",
      "\n",
      "\n",
      "____________________________________________________\n",
      "____________________________________________________\n",
      "Training Cross Validation Scores for LogisticRegressionCV is \n",
      "[0.57342657 0.58441558 0.5954046 ]\n",
      "\n",
      "\n",
      "Test ROC AUC Score for LogisticRegressionCV is \n",
      "0.5490566037735849\n",
      "\n",
      "\n",
      "Confusion Matrix for LogisticRegressionCV is \n",
      "[[125 140]\n",
      " [ 99 166]]\n",
      "\n",
      "\n",
      "Classification Report for LogisticRegressionCV is \n",
      "              precision    recall  f1-score   support\n",
      "\n",
      "           0       0.56      0.47      0.51       265\n",
      "           1       0.54      0.63      0.58       265\n",
      "\n",
      "    accuracy                           0.55       530\n",
      "   macro avg       0.55      0.55      0.55       530\n",
      "weighted avg       0.55      0.55      0.55       530\n",
      "\n",
      "\n",
      "\n",
      "____________________________________________________\n",
      "                    Model            Accuracy\n",
      "0  RandomForestClassifier  0.7490566037735849\n",
      "1           MLPClassifier  0.4641509433962264\n",
      "2                     SVC  0.5547169811320755\n",
      "3      AdaBoostClassifier  0.7509433962264151\n",
      "4              GaussianNB  0.5811320754716981\n",
      "5  DecisionTreeClassifier                 0.7\n",
      "6           CategoricalNB  0.7094339622641509\n",
      "7    LogisticRegressionCV  0.5490566037735849\n"
     ]
    },
    {
     "data": {
      "text/plain": [
       "<__main__.fastML at 0x15f9a3880>"
      ]
     },
     "execution_count": 162,
     "metadata": {},
     "output_type": "execute_result"
    }
   ],
   "source": [
    "# Fit and evaluate several classification models without scaling\n",
    "fastML(X1a_train, y1a_train, X1a_test, y1a_test, RandomForestClassifier(), MLPClassifier(), SVC(), AdaBoostClassifier(), GaussianNB(), DecisionTreeClassifier(), CategoricalNB(), LogisticRegressionCV(cv=5, random_state=0),include_special_classifier = False)"
   ]
  },
  {
   "cell_type": "code",
   "execution_count": 166,
   "id": "896cbdb2",
   "metadata": {
    "scrolled": false
   },
   "outputs": [
    {
     "name": "stdout",
     "output_type": "stream",
     "text": [
      "____________________________________________________\n",
      "Training Cross Validation Scores for RandomForestClassifier is \n",
      "[0.77022977 0.77222777 0.75824176]\n",
      "\n",
      "\n",
      "Test ROC AUC Score for RandomForestClassifier is \n",
      "0.7566037735849057\n",
      "\n",
      "\n",
      "Confusion Matrix for RandomForestClassifier is \n",
      "[[209  56]\n",
      " [ 73 192]]\n",
      "\n",
      "\n",
      "Classification Report for RandomForestClassifier is \n",
      "              precision    recall  f1-score   support\n",
      "\n",
      "           0       0.74      0.79      0.76       265\n",
      "           1       0.77      0.72      0.75       265\n",
      "\n",
      "    accuracy                           0.76       530\n",
      "   macro avg       0.76      0.76      0.76       530\n",
      "weighted avg       0.76      0.76      0.76       530\n",
      "\n",
      "\n",
      "\n",
      "____________________________________________________\n",
      "                    Model            Accuracy\n",
      "0  RandomForestClassifier  0.7566037735849057\n"
     ]
    },
    {
     "data": {
      "text/plain": [
       "<__main__.fastMLScaledStandard at 0x15fa677f0>"
      ]
     },
     "execution_count": 166,
     "metadata": {},
     "output_type": "execute_result"
    }
   ],
   "source": [
    "# Fit and evaluate several classification models with standard scaling\n",
    "fastMLScaledStandard(X1a_train, y1a_train, X1a_test, y1a_test, RandomForestClassifier(),include_special_classifier = False)"
   ]
  },
  {
   "cell_type": "code",
   "execution_count": 165,
   "id": "436c7144",
   "metadata": {
    "scrolled": true
   },
   "outputs": [
    {
     "name": "stdout",
     "output_type": "stream",
     "text": [
      "____________________________________________________\n",
      "Training Cross Validation Scores for RandomForestClassifier is \n",
      "[0.76923077 0.78721279 0.76223776]\n",
      "\n",
      "\n",
      "Test ROC AUC Score for RandomForestClassifier is \n",
      "0.760377358490566\n",
      "\n",
      "\n",
      "Confusion Matrix for RandomForestClassifier is \n",
      "[[209  56]\n",
      " [ 71 194]]\n",
      "\n",
      "\n",
      "Classification Report for RandomForestClassifier is \n",
      "              precision    recall  f1-score   support\n",
      "\n",
      "           0       0.75      0.79      0.77       265\n",
      "           1       0.78      0.73      0.75       265\n",
      "\n",
      "    accuracy                           0.76       530\n",
      "   macro avg       0.76      0.76      0.76       530\n",
      "weighted avg       0.76      0.76      0.76       530\n",
      "\n",
      "\n",
      "\n",
      "Feature Importance for RandomForestClassifier is \n",
      "           feature1  importance1\n",
      "2           Age_log     0.232459\n",
      "3           Balance     0.129312\n",
      "6   EstimatedSalary     0.120510\n",
      "0       CreditScore     0.120173\n",
      "22  NumOfProducts_2     0.079591\n",
      "\n",
      "\n",
      "____________________________________________________\n",
      "                    Model            Accuracy\n",
      "0  RandomForestClassifier  0.7603773584905661\n"
     ]
    },
    {
     "data": {
      "text/plain": [
       "<__main__.fastMLScaledMM at 0x15fa65cf0>"
      ]
     },
     "execution_count": 165,
     "metadata": {},
     "output_type": "execute_result"
    }
   ],
   "source": [
    "# Fit and evaluate several classification models with Min Max scaling\n",
    "fastMLScaledMM(X1a_train, y1a_train, X1a_test, y1a_test, RandomForestClassifier(),include_special_classifier = False)"
   ]
  },
  {
   "cell_type": "markdown",
   "id": "c359f72b",
   "metadata": {},
   "source": [
    "### Option 5"
   ]
  },
  {
   "cell_type": "code",
   "execution_count": 167,
   "id": "d1d70671",
   "metadata": {},
   "outputs": [
    {
     "name": "stdout",
     "output_type": "stream",
     "text": [
      "____________________________________________________\n",
      "Training Cross Validation Scores for RandomForestClassifier is \n",
      "[0.74025974 0.76423576 0.76523477]\n",
      "\n",
      "\n",
      "Test ROC AUC Score for RandomForestClassifier is \n",
      "0.8037735849056604\n",
      "\n",
      "\n",
      "Confusion Matrix for RandomForestClassifier is \n",
      "[[205  60]\n",
      " [ 44 221]]\n",
      "\n",
      "\n",
      "Classification Report for RandomForestClassifier is \n",
      "              precision    recall  f1-score   support\n",
      "\n",
      "           0       0.82      0.77      0.80       265\n",
      "           1       0.79      0.83      0.81       265\n",
      "\n",
      "    accuracy                           0.80       530\n",
      "   macro avg       0.80      0.80      0.80       530\n",
      "weighted avg       0.80      0.80      0.80       530\n",
      "\n",
      "\n",
      "\n",
      "____________________________________________________\n",
      "____________________________________________________\n",
      "Training Cross Validation Scores for MLPClassifier is \n",
      "[0.48351648 0.57942058 0.55844156]\n",
      "\n",
      "\n",
      "Test ROC AUC Score for MLPClassifier is \n",
      "0.4981132075471698\n",
      "\n",
      "\n",
      "Confusion Matrix for MLPClassifier is \n",
      "[[254  11]\n",
      " [255  10]]\n",
      "\n",
      "\n",
      "Classification Report for MLPClassifier is \n",
      "              precision    recall  f1-score   support\n",
      "\n",
      "           0       0.50      0.96      0.66       265\n",
      "           1       0.48      0.04      0.07       265\n",
      "\n",
      "    accuracy                           0.50       530\n",
      "   macro avg       0.49      0.50      0.36       530\n",
      "weighted avg       0.49      0.50      0.36       530\n",
      "\n",
      "\n",
      "\n",
      "____________________________________________________\n",
      "____________________________________________________\n",
      "Training Cross Validation Scores for SVC is \n",
      "[0.55544456 0.57842158 0.55644356]\n",
      "\n",
      "\n",
      "Test ROC AUC Score for SVC is \n",
      "0.5792452830188679\n",
      "\n",
      "\n",
      "Confusion Matrix for SVC is \n",
      "[[105 160]\n",
      " [ 63 202]]\n",
      "\n",
      "\n",
      "Classification Report for SVC is \n",
      "              precision    recall  f1-score   support\n",
      "\n",
      "           0       0.62      0.40      0.48       265\n",
      "           1       0.56      0.76      0.64       265\n",
      "\n",
      "    accuracy                           0.58       530\n",
      "   macro avg       0.59      0.58      0.56       530\n",
      "weighted avg       0.59      0.58      0.56       530\n",
      "\n",
      "\n",
      "\n",
      "____________________________________________________\n",
      "____________________________________________________\n",
      "Training Cross Validation Scores for AdaBoostClassifier is \n",
      "[0.74925075 0.75624376 0.76023976]\n",
      "\n",
      "\n",
      "Test ROC AUC Score for AdaBoostClassifier is \n",
      "0.7754716981132076\n",
      "\n",
      "\n",
      "Confusion Matrix for AdaBoostClassifier is \n",
      "[[201  64]\n",
      " [ 55 210]]\n",
      "\n",
      "\n",
      "Classification Report for AdaBoostClassifier is \n",
      "              precision    recall  f1-score   support\n",
      "\n",
      "           0       0.79      0.76      0.77       265\n",
      "           1       0.77      0.79      0.78       265\n",
      "\n",
      "    accuracy                           0.78       530\n",
      "   macro avg       0.78      0.78      0.78       530\n",
      "weighted avg       0.78      0.78      0.78       530\n",
      "\n",
      "\n",
      "\n",
      "____________________________________________________\n",
      "____________________________________________________\n",
      "Training Cross Validation Scores for GaussianNB is \n",
      "[0.55744256 0.6013986  0.59440559]\n",
      "\n",
      "\n",
      "Test ROC AUC Score for GaussianNB is \n",
      "0.5962264150943395\n",
      "\n",
      "\n",
      "Confusion Matrix for GaussianNB is \n",
      "[[124 141]\n",
      " [ 73 192]]\n",
      "\n",
      "\n",
      "Classification Report for GaussianNB is \n",
      "              precision    recall  f1-score   support\n",
      "\n",
      "           0       0.63      0.47      0.54       265\n",
      "           1       0.58      0.72      0.64       265\n",
      "\n",
      "    accuracy                           0.60       530\n",
      "   macro avg       0.60      0.60      0.59       530\n",
      "weighted avg       0.60      0.60      0.59       530\n",
      "\n",
      "\n",
      "\n",
      "____________________________________________________\n",
      "____________________________________________________\n",
      "Training Cross Validation Scores for DecisionTreeClassifier is \n",
      "[0.69030969 0.69030969 0.69030969]\n",
      "\n",
      "\n",
      "Test ROC AUC Score for DecisionTreeClassifier is \n",
      "0.7226415094339622\n",
      "\n",
      "\n",
      "Confusion Matrix for DecisionTreeClassifier is \n",
      "[[185  80]\n",
      " [ 67 198]]\n",
      "\n",
      "\n",
      "Classification Report for DecisionTreeClassifier is \n",
      "              precision    recall  f1-score   support\n",
      "\n",
      "           0       0.73      0.70      0.72       265\n",
      "           1       0.71      0.75      0.73       265\n",
      "\n",
      "    accuracy                           0.72       530\n",
      "   macro avg       0.72      0.72      0.72       530\n",
      "weighted avg       0.72      0.72      0.72       530\n",
      "\n",
      "\n",
      "\n",
      "____________________________________________________\n",
      "____________________________________________________\n",
      "Training Cross Validation Scores for CategoricalNB is \n",
      "[       nan 0.6963037  0.69330669]\n",
      "\n",
      "\n",
      "Test ROC AUC Score for CategoricalNB is \n",
      "0.7188679245283021\n",
      "\n",
      "\n",
      "Confusion Matrix for CategoricalNB is \n",
      "[[180  85]\n",
      " [ 64 201]]\n",
      "\n",
      "\n",
      "Classification Report for CategoricalNB is \n",
      "              precision    recall  f1-score   support\n",
      "\n",
      "           0       0.74      0.68      0.71       265\n",
      "           1       0.70      0.76      0.73       265\n",
      "\n",
      "    accuracy                           0.72       530\n",
      "   macro avg       0.72      0.72      0.72       530\n",
      "weighted avg       0.72      0.72      0.72       530\n",
      "\n",
      "\n",
      "\n",
      "____________________________________________________\n",
      "____________________________________________________\n",
      "Training Cross Validation Scores for LogisticRegressionCV is \n",
      "[0.54545455 0.58241758 0.56543457]\n",
      "\n",
      "\n",
      "Test ROC AUC Score for LogisticRegressionCV is \n",
      "0.5867924528301887\n",
      "\n",
      "\n",
      "Confusion Matrix for LogisticRegressionCV is \n",
      "[[132 133]\n",
      " [ 86 179]]\n",
      "\n",
      "\n",
      "Classification Report for LogisticRegressionCV is \n",
      "              precision    recall  f1-score   support\n",
      "\n",
      "           0       0.61      0.50      0.55       265\n",
      "           1       0.57      0.68      0.62       265\n",
      "\n",
      "    accuracy                           0.59       530\n",
      "   macro avg       0.59      0.59      0.58       530\n",
      "weighted avg       0.59      0.59      0.58       530\n",
      "\n",
      "\n",
      "\n",
      "____________________________________________________\n",
      "                    Model            Accuracy\n",
      "0  RandomForestClassifier  0.8037735849056604\n",
      "1           MLPClassifier  0.4981132075471698\n",
      "2                     SVC  0.5792452830188679\n",
      "3      AdaBoostClassifier  0.7754716981132076\n",
      "4              GaussianNB  0.5962264150943396\n",
      "5  DecisionTreeClassifier  0.7226415094339622\n",
      "6           CategoricalNB  0.7188679245283018\n",
      "7    LogisticRegressionCV  0.5867924528301887\n"
     ]
    },
    {
     "data": {
      "text/plain": [
       "<__main__.fastML at 0x15fa64280>"
      ]
     },
     "execution_count": 167,
     "metadata": {},
     "output_type": "execute_result"
    }
   ],
   "source": [
    "# Fit and evaluate several classification models without scaling\n",
    "fastML(X5a_train, y5a_train, X5a_test, y5a_test, RandomForestClassifier(), MLPClassifier(), SVC(), AdaBoostClassifier(), GaussianNB(), DecisionTreeClassifier(), CategoricalNB(), LogisticRegressionCV(cv=5, random_state=0),include_special_classifier = False)"
   ]
  },
  {
   "cell_type": "code",
   "execution_count": 168,
   "id": "eb816394",
   "metadata": {
    "scrolled": true
   },
   "outputs": [
    {
     "name": "stdout",
     "output_type": "stream",
     "text": [
      "____________________________________________________\n",
      "Training Cross Validation Scores for RandomForestClassifier is \n",
      "[0.74325674 0.76023976 0.76823177]\n",
      "\n",
      "\n",
      "Test ROC AUC Score for RandomForestClassifier is \n",
      "0.809433962264151\n",
      "\n",
      "\n",
      "Confusion Matrix for RandomForestClassifier is \n",
      "[[210  55]\n",
      " [ 46 219]]\n",
      "\n",
      "\n",
      "Classification Report for RandomForestClassifier is \n",
      "              precision    recall  f1-score   support\n",
      "\n",
      "           0       0.82      0.79      0.81       265\n",
      "           1       0.80      0.83      0.81       265\n",
      "\n",
      "    accuracy                           0.81       530\n",
      "   macro avg       0.81      0.81      0.81       530\n",
      "weighted avg       0.81      0.81      0.81       530\n",
      "\n",
      "\n",
      "\n",
      "____________________________________________________\n",
      "                    Model           Accuracy\n",
      "0  RandomForestClassifier  0.809433962264151\n"
     ]
    },
    {
     "data": {
      "text/plain": [
       "<__main__.fastMLScaledStandard at 0x15f9a00d0>"
      ]
     },
     "execution_count": 168,
     "metadata": {},
     "output_type": "execute_result"
    }
   ],
   "source": [
    "# Fit and evaluate several classification models with standard scaling\n",
    "fastMLScaledStandard(X5a_train, y5a_train, X5a_test, y5a_test, RandomForestClassifier(),include_special_classifier = False)"
   ]
  },
  {
   "cell_type": "code",
   "execution_count": 169,
   "id": "49b602e7",
   "metadata": {
    "scrolled": true
   },
   "outputs": [
    {
     "name": "stdout",
     "output_type": "stream",
     "text": [
      "____________________________________________________\n",
      "Training Cross Validation Scores for RandomForestClassifier is \n",
      "[0.76523477 0.77522478 0.77422577]\n",
      "\n",
      "\n",
      "Test ROC AUC Score for RandomForestClassifier is \n",
      "0.8132075471698114\n",
      "\n",
      "\n",
      "Confusion Matrix for RandomForestClassifier is \n",
      "[[213  52]\n",
      " [ 47 218]]\n",
      "\n",
      "\n",
      "Classification Report for RandomForestClassifier is \n",
      "              precision    recall  f1-score   support\n",
      "\n",
      "           0       0.82      0.80      0.81       265\n",
      "           1       0.81      0.82      0.81       265\n",
      "\n",
      "    accuracy                           0.81       530\n",
      "   macro avg       0.81      0.81      0.81       530\n",
      "weighted avg       0.81      0.81      0.81       530\n",
      "\n",
      "\n",
      "\n",
      "Feature Importance for RandomForestClassifier is \n",
      "           feature1  importance1\n",
      "2           Age_log     0.222127\n",
      "3          Zero_Bal     0.131960\n",
      "6   EstimatedSalary     0.121731\n",
      "0       CreditScore     0.120193\n",
      "22  NumOfProducts_2     0.085179\n",
      "\n",
      "\n",
      "____________________________________________________\n",
      "                    Model            Accuracy\n",
      "0  RandomForestClassifier  0.8132075471698114\n"
     ]
    },
    {
     "data": {
      "text/plain": [
       "<__main__.fastMLScaledMM at 0x15fa64970>"
      ]
     },
     "execution_count": 169,
     "metadata": {},
     "output_type": "execute_result"
    }
   ],
   "source": [
    "# Fit and evaluate several classification models with Min Max scaling\n",
    "fastMLScaledMM(X5a_train, y5a_train, X5a_test, y5a_test, RandomForestClassifier(),include_special_classifier = False)"
   ]
  },
  {
   "cell_type": "markdown",
   "id": "49380911",
   "metadata": {},
   "source": [
    "# Validate the model"
   ]
  },
  {
   "cell_type": "markdown",
   "id": "68602fa4",
   "metadata": {},
   "source": [
    "## Fit and Evaluate the final selected model"
   ]
  },
  {
   "cell_type": "code",
   "execution_count": 210,
   "id": "1341665c",
   "metadata": {},
   "outputs": [
    {
     "name": "stdout",
     "output_type": "stream",
     "text": [
      "ROC AUC\n",
      " 0.8207547169811321 \n",
      "\n",
      "Confusion Matrix\n",
      " [[216  49]\n",
      " [ 46 219]] \n",
      "\n",
      "Classification Report\n",
      "               precision    recall  f1-score   support\n",
      "\n",
      "           0       0.82      0.82      0.82       265\n",
      "           1       0.82      0.83      0.82       265\n",
      "\n",
      "    accuracy                           0.82       530\n",
      "   macro avg       0.82      0.82      0.82       530\n",
      "weighted avg       0.82      0.82      0.82       530\n",
      "\n"
     ]
    }
   ],
   "source": [
    "scaler = StandardScaler()\n",
    "scaler.fit(X5a_train)\n",
    "scaler.fit(X5a_test)\n",
    "model = RandomForestClassifier()\n",
    "rf5s=model.fit(X5a_train, y5a_train)\n",
    "prediction5 = rf5s.predict(X5a_test)\n",
    "\n",
    "print('ROC AUC\\n',roc_auc_score(y5a_test, prediction5),'\\n')\n",
    "print('Confusion Matrix\\n',confusion_matrix(y5a_test, prediction5),'\\n')\n",
    "print('Classification Report\\n',classification_report(y5a_test, prediction5))"
   ]
  },
  {
   "cell_type": "markdown",
   "id": "1081cb81",
   "metadata": {},
   "source": [
    "## Final Validation"
   ]
  },
  {
   "cell_type": "code",
   "execution_count": 211,
   "id": "b6b797f6",
   "metadata": {},
   "outputs": [
    {
     "name": "stdout",
     "output_type": "stream",
     "text": [
      "ROC AUC\n",
      " 0.7913343002175489 \n",
      "\n",
      "Confusion Matrix\n",
      " [[157  40]\n",
      " [ 42 154]] \n",
      "\n",
      "Classification Report\n",
      "               precision    recall  f1-score   support\n",
      "\n",
      "           0       0.79      0.80      0.79       197\n",
      "           1       0.79      0.79      0.79       196\n",
      "\n",
      "    accuracy                           0.79       393\n",
      "   macro avg       0.79      0.79      0.79       393\n",
      "weighted avg       0.79      0.79      0.79       393\n",
      "\n"
     ]
    }
   ],
   "source": [
    "final_predict = rf5s.predict(df5X_val)\n",
    "print('ROC AUC\\n',roc_auc_score(df5y_val, final_predict),'\\n')\n",
    "print('Confusion Matrix\\n',confusion_matrix(df5y_val, final_predict),'\\n')\n",
    "print('Classification Report\\n',classification_report(df5y_val, final_predict))"
   ]
  },
  {
   "cell_type": "markdown",
   "id": "877768af",
   "metadata": {},
   "source": [
    "## Final Model Feature Importance"
   ]
  },
  {
   "cell_type": "code",
   "execution_count": 203,
   "id": "71130202",
   "metadata": {},
   "outputs": [
    {
     "data": {
      "text/html": [
       "<div>\n",
       "<style scoped>\n",
       "    .dataframe tbody tr th:only-of-type {\n",
       "        vertical-align: middle;\n",
       "    }\n",
       "\n",
       "    .dataframe tbody tr th {\n",
       "        vertical-align: top;\n",
       "    }\n",
       "\n",
       "    .dataframe thead th {\n",
       "        text-align: right;\n",
       "    }\n",
       "</style>\n",
       "<table border=\"1\" class=\"dataframe\">\n",
       "  <thead>\n",
       "    <tr style=\"text-align: right;\">\n",
       "      <th></th>\n",
       "      <th>feature_final</th>\n",
       "      <th>importance_final</th>\n",
       "    </tr>\n",
       "  </thead>\n",
       "  <tbody>\n",
       "    <tr>\n",
       "      <th>2</th>\n",
       "      <td>Age_log</td>\n",
       "      <td>0.225313</td>\n",
       "    </tr>\n",
       "    <tr>\n",
       "      <th>3</th>\n",
       "      <td>Zero_Bal</td>\n",
       "      <td>0.131050</td>\n",
       "    </tr>\n",
       "    <tr>\n",
       "      <th>0</th>\n",
       "      <td>CreditScore</td>\n",
       "      <td>0.121039</td>\n",
       "    </tr>\n",
       "    <tr>\n",
       "      <th>6</th>\n",
       "      <td>EstimatedSalary</td>\n",
       "      <td>0.120637</td>\n",
       "    </tr>\n",
       "    <tr>\n",
       "      <th>22</th>\n",
       "      <td>NumOfProducts_2</td>\n",
       "      <td>0.090425</td>\n",
       "    </tr>\n",
       "  </tbody>\n",
       "</table>\n",
       "</div>"
      ],
      "text/plain": [
       "      feature_final  importance_final\n",
       "2           Age_log          0.225313\n",
       "3          Zero_Bal          0.131050\n",
       "0       CreditScore          0.121039\n",
       "6   EstimatedSalary          0.120637\n",
       "22  NumOfProducts_2          0.090425"
      ]
     },
     "execution_count": 203,
     "metadata": {},
     "output_type": "execute_result"
    }
   ],
   "source": [
    "fi_final = pd.DataFrame({'feature_final': list(X5a_train.columns),\n",
    "                   'importance_final': rf5s.feature_importances_}).\\\n",
    "                    sort_values('importance_final', ascending = False)\n",
    "fi_final.head()"
   ]
  }
 ],
 "metadata": {
  "kernelspec": {
   "display_name": "Python 3 (ipykernel)",
   "language": "python",
   "name": "python3"
  },
  "language_info": {
   "codemirror_mode": {
    "name": "ipython",
    "version": 3
   },
   "file_extension": ".py",
   "mimetype": "text/x-python",
   "name": "python",
   "nbconvert_exporter": "python",
   "pygments_lexer": "ipython3",
   "version": "3.10.9"
  }
 },
 "nbformat": 4,
 "nbformat_minor": 5
}
