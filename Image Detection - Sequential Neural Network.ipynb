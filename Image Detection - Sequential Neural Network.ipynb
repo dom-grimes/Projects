{
 "cells": [
  {
   "cell_type": "markdown",
   "metadata": {},
   "source": [
    "Author: Dominique Grimes\n",
    "\n",
    "Title: Image Detection with Sequential Neural Network"
   ]
  },
  {
   "cell_type": "code",
   "execution_count": 57,
   "metadata": {
    "id": "U9Xi1AaPjGis"
   },
   "outputs": [],
   "source": [
    "# Load libraries\n",
    "from keras.datasets import mnist\n",
    "from keras.models import Sequential\n",
    "from keras.layers import Dense, Dropout, Flatten\n",
    "from keras.layers.convolutional import Conv2D, MaxPooling2D\n",
    "from keras.utils import np_utils\n",
    "from keras import backend as K\n",
    "import cv2\n",
    "import numpy as np\n",
    "import glob\n",
    "import matplotlib.pyplot as plt\n",
    "from sklearn.metrics import confusion_matrix"
   ]
  },
  {
   "cell_type": "code",
   "execution_count": 73,
   "metadata": {
    "id": "VZTMkkcejNfO"
   },
   "outputs": [],
   "source": [
    "# Load data and target from MNIST data\n",
    "(data_train, target_train), (data_test, target_test) = mnist.load_data()"
   ]
  },
  {
   "cell_type": "code",
   "execution_count": 31,
   "metadata": {
    "id": "JvZSA2yY-RNk"
   },
   "outputs": [],
   "source": [
    "# Assign first 5 data images to variables. Convert BGR to RGB for matplotlib.\n",
    "image1 = data_train[0]\n",
    "image1_rgb = cv2.cvtColor(image1, cv2.COLOR_BGR2RGB)\n",
    "\n",
    "image2 = data_train[1]\n",
    "image2_rgb = cv2.cvtColor(image2, cv2.COLOR_BGR2RGB)\n",
    "\n",
    "image3 = data_train[2]\n",
    "image3_rgb = cv2.cvtColor(image3, cv2.COLOR_BGR2RGB)\n",
    "\n",
    "image4 = data_train[3]\n",
    "image4_rgb = cv2.cvtColor(image4, cv2.COLOR_BGR2RGB)\n",
    "\n",
    "image5 = data_train[4]\n",
    "image5_rgb = cv2.cvtColor(image5, cv2.COLOR_BGR2RGB)"
   ]
  },
  {
   "cell_type": "code",
   "execution_count": 32,
   "metadata": {
    "colab": {
     "base_uri": "https://localhost:8080/",
     "height": 423
    },
    "id": "WsCrT5_Z-s3i",
    "outputId": "c51674a9-3783-46d5-d026-d20c9f134d2f"
   },
   "outputs": [
    {
     "name": "stdout",
     "output_type": "stream",
     "text": [
      "AxesImage(size=(28, 28)) (-0.5, 27.5, 27.5, -0.5)\n"
     ]
    },
    {
     "data": {
      "image/png": "[encoded data removed]",
      "text/plain": [
       "<Figure size 640x480 with 1 Axes>"
      ]
     },
     "metadata": {},
     "output_type": "display_data"
    }
   ],
   "source": [
    "# Show image1\n",
    "print(plt.imshow(image1_rgb),plt.axis('off'))"
   ]
  },
  {
   "cell_type": "code",
   "execution_count": 33,
   "metadata": {
    "colab": {
     "base_uri": "https://localhost:8080/"
    },
    "id": "bG2QJdM8ZoTB",
    "outputId": "b0a1295d-ef5f-4fde-f9e0-7af470942617"
   },
   "outputs": [
    {
     "data": {
      "text/plain": [
       "5"
      ]
     },
     "execution_count": 33,
     "metadata": {},
     "output_type": "execute_result"
    }
   ],
   "source": [
    "# View the target label for the first image. \n",
    "target_train[0]\n",
    "\n",
    "# The image and the label match."
   ]
  },
  {
   "cell_type": "code",
   "execution_count": 34,
   "metadata": {
    "colab": {
     "base_uri": "https://localhost:8080/",
     "height": 423
    },
    "id": "m0bLLYg2__pW",
    "outputId": "5aca099a-4d26-4585-eff8-1f07747bd421"
   },
   "outputs": [
    {
     "name": "stdout",
     "output_type": "stream",
     "text": [
      "AxesImage(size=(28, 28)) (-0.5, 27.5, 27.5, -0.5)\n"
     ]
    },
    {
     "data": {
      "image/png": "[encoded data removed]",
      "text/plain": [
       "<Figure size 640x480 with 1 Axes>"
      ]
     },
     "metadata": {},
     "output_type": "display_data"
    }
   ],
   "source": [
    "# Show image2\n",
    "print(plt.imshow(image2_rgb),plt.axis('off'))"
   ]
  },
  {
   "cell_type": "code",
   "execution_count": 35,
   "metadata": {
    "colab": {
     "base_uri": "https://localhost:8080/"
    },
    "id": "Gea9GXqjZ7U-",
    "outputId": "96e5fa7b-de7b-4392-8326-6711ce03e9ac"
   },
   "outputs": [
    {
     "data": {
      "text/plain": [
       "0"
      ]
     },
     "execution_count": 35,
     "metadata": {},
     "output_type": "execute_result"
    }
   ],
   "source": [
    "# View the target label for the second image. \n",
    "target_train[1]\n",
    "\n",
    "# The image and the label match."
   ]
  },
  {
   "cell_type": "code",
   "execution_count": 36,
   "metadata": {
    "colab": {
     "base_uri": "https://localhost:8080/",
     "height": 423
    },
    "id": "0k-WtMrgACfL",
    "outputId": "b7f703c8-279b-4bd2-802d-b9f30addd51a"
   },
   "outputs": [
    {
     "name": "stdout",
     "output_type": "stream",
     "text": [
      "AxesImage(size=(28, 28)) (-0.5, 27.5, 27.5, -0.5)\n"
     ]
    },
    {
     "data": {
      "image/png": "[encoded data removed]",
      "text/plain": [
       "<Figure size 640x480 with 1 Axes>"
      ]
     },
     "metadata": {},
     "output_type": "display_data"
    }
   ],
   "source": [
    "# Show image3\n",
    "print(plt.imshow(image3_rgb),plt.axis('off'))"
   ]
  },
  {
   "cell_type": "code",
   "execution_count": 37,
   "metadata": {
    "colab": {
     "base_uri": "https://localhost:8080/"
    },
    "id": "7AGa-bjOaBzI",
    "outputId": "433dbdc6-535d-4f2c-d50d-7d7fb1bc8c1b"
   },
   "outputs": [
    {
     "data": {
      "text/plain": [
       "4"
      ]
     },
     "execution_count": 37,
     "metadata": {},
     "output_type": "execute_result"
    }
   ],
   "source": [
    "# View the target label for the third image. \n",
    "target_train[2]\n",
    "\n",
    "# The image and the label match."
   ]
  },
  {
   "cell_type": "code",
   "execution_count": 38,
   "metadata": {
    "colab": {
     "base_uri": "https://localhost:8080/",
     "height": 423
    },
    "id": "OmTdxS5AAGtN",
    "outputId": "1ad9c23f-79e5-4911-8dd8-0601bcf818e8"
   },
   "outputs": [
    {
     "name": "stdout",
     "output_type": "stream",
     "text": [
      "AxesImage(size=(28, 28)) (-0.5, 27.5, 27.5, -0.5)\n"
     ]
    },
    {
     "data": {
      "image/png": "[encoded data removed]",
      "text/plain": [
       "<Figure size 640x480 with 1 Axes>"
      ]
     },
     "metadata": {},
     "output_type": "display_data"
    }
   ],
   "source": [
    "# Show image4\n",
    "print(plt.imshow(image4_rgb),plt.axis('off'))"
   ]
  },
  {
   "cell_type": "code",
   "execution_count": 39,
   "metadata": {
    "colab": {
     "base_uri": "https://localhost:8080/"
    },
    "id": "AE_skYNUaGVQ",
    "outputId": "911dc501-1b7c-4859-e7f7-01e9b4c5261f"
   },
   "outputs": [
    {
     "data": {
      "text/plain": [
       "1"
      ]
     },
     "execution_count": 39,
     "metadata": {},
     "output_type": "execute_result"
    }
   ],
   "source": [
    "# View the target label for the fourth image. \n",
    "target_train[3]\n",
    "\n",
    "# The image and the label match."
   ]
  },
  {
   "cell_type": "code",
   "execution_count": 40,
   "metadata": {
    "colab": {
     "base_uri": "https://localhost:8080/",
     "height": 423
    },
    "id": "cQ_tCgJxAJwQ",
    "outputId": "989f596b-1fab-44d7-b878-f3f5ec71089c"
   },
   "outputs": [
    {
     "name": "stdout",
     "output_type": "stream",
     "text": [
      "AxesImage(size=(28, 28)) (-0.5, 27.5, 27.5, -0.5)\n"
     ]
    },
    {
     "data": {
      "image/png": "[encoded data removed]",
      "text/plain": [
       "<Figure size 640x480 with 1 Axes>"
      ]
     },
     "metadata": {},
     "output_type": "display_data"
    }
   ],
   "source": [
    "# Show image5\n",
    "print(plt.imshow(image5_rgb),plt.axis('off'))"
   ]
  },
  {
   "cell_type": "code",
   "execution_count": 41,
   "metadata": {
    "colab": {
     "base_uri": "https://localhost:8080/"
    },
    "id": "yNsCk-cUaLxS",
    "outputId": "14e4a3c4-b517-4cf0-d4a9-66a7b4a711bf"
   },
   "outputs": [
    {
     "data": {
      "text/plain": [
       "9"
      ]
     },
     "execution_count": 41,
     "metadata": {},
     "output_type": "execute_result"
    }
   ],
   "source": [
    "# View the target label for the fifth image. \n",
    "target_train[4]\n",
    "\n",
    "# The image and the label match."
   ]
  },
  {
   "cell_type": "code",
   "execution_count": 74,
   "metadata": {
    "id": "fzGBM4LYGmo6"
   },
   "outputs": [],
   "source": [
    "# Set seed\n",
    "np.random.seed(0)"
   ]
  },
  {
   "cell_type": "code",
   "execution_count": 75,
   "metadata": {
    "id": "C_-XEF07GvtP"
   },
   "outputs": [],
   "source": [
    "# Set image information\n",
    "channels = 1\n",
    "height = 28\n",
    "width = 28"
   ]
  },
  {
   "cell_type": "code",
   "execution_count": 76,
   "metadata": {
    "id": "DqNeYy-dG3N-"
   },
   "outputs": [],
   "source": [
    "# Reshape data_train into features\n",
    "data_train = data_train.reshape(data_train.shape[0], height, width, channels)\n"
   ]
  },
  {
   "cell_type": "code",
   "execution_count": 77,
   "metadata": {
    "id": "9GaA83CeleHz"
   },
   "outputs": [],
   "source": [
    "# Reshape data_test into features\n",
    "data_test = data_test.reshape(data_test.shape[0], height, width, channels)"
   ]
  },
  {
   "cell_type": "code",
   "execution_count": 78,
   "metadata": {
    "id": "LGPA2LP7leLB"
   },
   "outputs": [],
   "source": [
    "# Rescale pixel intensity between 0 & 1\n",
    "features_train = data_train.astype('float32') / 255\n",
    "features_test = data_test.astype('float32') / 255"
   ]
  },
  {
   "cell_type": "code",
   "execution_count": 79,
   "metadata": {
    "id": "TOiyglnhleOr"
   },
   "outputs": [],
   "source": [
    "# One-hot encode target\n",
    "target_train = np_utils.to_categorical(target_train)\n",
    "target_test = np_utils.to_categorical(target_test)\n",
    "number_of_classes = target_test.shape[1]"
   ]
  },
  {
   "cell_type": "code",
   "execution_count": 80,
   "metadata": {
    "id": "-Z6w5UupJ6nq"
   },
   "outputs": [],
   "source": [
    "# Build the model\n",
    "\n",
    "\n",
    "# Start a neural network by creating a sequential model.\n",
    "network = Sequential()\n",
    "\n",
    "# Add convolutional layer with 64 filters, a 5x5 window, and ReLU activation function\n",
    "network.add(Conv2D(64,(5,5),activation='relu'))\n",
    "\n",
    "# Add max pooling layer with a 2x2 window\n",
    "network.add(MaxPooling2D(2,2))\n",
    "\n",
    "# Add dropout layer\n",
    "network.add(Dropout(0.5))\n",
    "\n",
    "# Add layer to flatten input\n",
    "network.add(Flatten())\n",
    "\n",
    "# Add fully connected layer of 128 units with a ReLU activatin function\n",
    "network.add(Dense(128, activation='relu'))\n",
    "\n",
    "# Add dropout layer\n",
    "network.add(Dropout(0.5))\n",
    "\n",
    "# Add fully connected layer with a softmax activation\n",
    "network.add(Dense(number_of_classes, activation='softmax'))"
   ]
  },
  {
   "cell_type": "code",
   "execution_count": 81,
   "metadata": {
    "id": "YCH2GSPqc3Tn"
   },
   "outputs": [],
   "source": [
    "# Compile neural network to train the model\n",
    "network.compile(loss='categorical_crossentropy', optimizer='rmsprop', metrics=['accuracy'])"
   ]
  },
  {
   "cell_type": "code",
   "execution_count": 82,
   "metadata": {
    "id": "7oFRthoewUKy"
   },
   "outputs": [],
   "source": [
    "# Fit the model to the data\n",
    "history = network.fit(features_train, target_train, \n",
    "            batch_size=1000,\n",
    "            epochs=10, \n",
    "            verbose=0,\n",
    "            validation_data=(data_test, target_test))"
   ]
  },
  {
   "cell_type": "code",
   "execution_count": 83,
   "metadata": {
    "colab": {
     "base_uri": "https://localhost:8080/"
    },
    "id": "OJvoVKj60woO",
    "outputId": "55580fdb-a278-425d-ee9d-33e4ee3990c9"
   },
   "outputs": [
    {
     "name": "stdout",
     "output_type": "stream",
     "text": [
      "Test loss: 7.168065547943115\n",
      "Test accuracy: 0.9842000007629395\n"
     ]
    }
   ],
   "source": [
    "# Evaluate the model on test data\n",
    "score = network.evaluate(data_test, target_test, verbose=0)\n",
    "print('Test loss:', score[0])\n",
    "print('Test accuracy:', score[1])"
   ]
  },
  {
   "cell_type": "code",
   "execution_count": 88,
   "metadata": {
    "colab": {
     "base_uri": "https://localhost:8080/",
     "height": 472
    },
    "id": "zOXIds1WVBYm",
    "outputId": "0b8381a7-c964-437e-d454-6ffa66546236"
   },
   "outputs": [
    {
     "data": {
      "text/plain": [
       "<matplotlib.legend.Legend at 0x7f512965f6a0>"
      ]
     },
     "execution_count": 88,
     "metadata": {},
     "output_type": "execute_result"
    },
    {
     "data": {
      "image/png": "[encoded data removed]",
      "text/plain": [
       "<Figure size 640x480 with 1 Axes>"
      ]
     },
     "metadata": {},
     "output_type": "display_data"
    }
   ],
   "source": [
    "plt.plot(history.history['accuracy'], label='accuracy')\n",
    "plt.plot(history.history['val_accuracy'], label = 'val_accuracy')\n",
    "plt.xlabel('Epoch')\n",
    "plt.ylabel('Accuracy')\n",
    "plt.ylim([0.5, 1])\n",
    "plt.legend(loc='lower right')"
   ]
  },
  {
   "cell_type": "code",
   "execution_count": 84,
   "metadata": {
    "colab": {
     "base_uri": "https://localhost:8080/"
    },
    "id": "i9lu3tW_2TMU",
    "outputId": "fdd1b39f-fab7-4cd8-c86f-eebcd699e3b1"
   },
   "outputs": [
    {
     "name": "stdout",
     "output_type": "stream",
     "text": [
      "313/313 [==============================] - 1s 2ms/step\n"
     ]
    }
   ],
   "source": [
    "# Predict values\n",
    "target_predicted = network.predict(features_test)"
   ]
  },
  {
   "cell_type": "code",
   "execution_count": 85,
   "metadata": {
    "colab": {
     "base_uri": "https://localhost:8080/"
    },
    "id": "kdL7T4Gk4xwS",
    "outputId": "ad39a1b7-d6fb-4d86-af4c-4a11ce345164"
   },
   "outputs": [
    {
     "name": "stdout",
     "output_type": "stream",
     "text": [
      "[[ 977    0    0    0    0    1    0    1    1    0]\n",
      " [   0 1129    1    1    0    1    1    0    2    0]\n",
      " [   2    0 1025    0    1    0    0    4    0    0]\n",
      " [   0    0    3  999    0    3    0    3    2    0]\n",
      " [   1    0    2    0  971    0    3    0    3    2]\n",
      " [   2    0    0    4    0  881    2    0    2    1]\n",
      " [   8    2    1    0    1    4  940    0    2    0]\n",
      " [   1    0    8    2    0    0    0 1016    1    0]\n",
      " [   5    0    2    0    1    0    0    3  962    1]\n",
      " [   3    3    0    4    6    2    0    4    4  983]]\n"
     ]
    }
   ],
   "source": [
    "# Create confusion matrix\n",
    "target_pred=np.argmax(target_predicted, axis=1)\n",
    "target_test=np.argmax(target_test, axis=1)\n",
    "cm = confusion_matrix(target_test, target_pred)\n",
    "print(cm)"
   ]
  },
  {
   "cell_type": "code",
   "execution_count": 89,
   "metadata": {
    "colab": {
     "base_uri": "https://localhost:8080/",
     "height": 684
    },
    "id": "vIrh6b4zkTIY",
    "outputId": "af555c6a-559a-4b43-8887-9ace5c1ffd7f"
   },
   "outputs": [
    {
     "data": {
      "image/png": "[encoded data removed]",
      "text/plain": [
       "<IPython.core.display.Image object>"
      ]
     },
     "execution_count": 89,
     "metadata": {},
     "output_type": "execute_result"
    }
   ],
   "source": [
    "# Summarize the model\n",
    "from keras.utils.vis_utils import plot_model\n",
    "plot_model(network, to_file='model_plot.png', show_shapes=True, show_layer_names=True)"
   ]
  },
  {
   "cell_type": "markdown",
   "metadata": {
    "id": "IzSyfq_GG_V4"
   },
   "source": []
  }
 ],
 "metadata": {
  "accelerator": "GPU",
  "colab": {
   "gpuType": "T4",
   "provenance": []
  },
  "kernelspec": {
   "display_name": "Python 3 (ipykernel)",
   "language": "python",
   "name": "python3"
  },
  "language_info": {
   "codemirror_mode": {
    "name": "ipython",
    "version": 3
   },
   "file_extension": ".py",
   "mimetype": "text/x-python",
   "name": "python",
   "nbconvert_exporter": "python",
   "pygments_lexer": "ipython3",
   "version": "3.10.9"
  }
 },
 "nbformat": 4,
 "nbformat_minor": 1
}
